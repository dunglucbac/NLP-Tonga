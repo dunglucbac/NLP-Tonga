{
  "nbformat": 4,
  "nbformat_minor": 0,
  "metadata": {
    "colab": {
      "name": "Thomas-NLP-NaiveBayes_reviewing movies.ipynb",
      "provenance": []
    },
    "kernelspec": {
      "name": "python3",
      "display_name": "Python 3"
    }
  },
  "cells": [
    {
      "cell_type": "code",
      "metadata": {
        "id": "UDrVHBLjhyV3",
        "colab_type": "code",
        "colab": {
          "base_uri": "https://localhost:8080/",
          "height": 72
        },
        "outputId": "535f7861-c50c-4d58-dac9-a05b5bb01d1b"
      },
      "source": [
        "import numpy as np\n",
        "import pandas as pd\n",
        "import matplotlib.pyplot as plt\n",
        "import seaborn as sns\n",
        "import re\n",
        "%matplotlib inline"
      ],
      "execution_count": 1,
      "outputs": [
        {
          "output_type": "stream",
          "text": [
            "/usr/local/lib/python3.6/dist-packages/statsmodels/tools/_testing.py:19: FutureWarning: pandas.util.testing is deprecated. Use the functions in the public API at pandas.testing instead.\n",
            "  import pandas.util.testing as tm\n"
          ],
          "name": "stderr"
        }
      ]
    },
    {
      "cell_type": "code",
      "metadata": {
        "id": "lX7mARRl35s1",
        "colab_type": "code",
        "outputId": "4b5bd3aa-2600-4fc3-97e5-ea7c3aa75640",
        "colab": {
          "base_uri": "https://localhost:8080/",
          "height": 141
        }
      },
      "source": [
        "import nltk\n",
        "nltk.download('stopwords')\n",
        "nltk.download('wordnet')\n",
        "from nltk.stem.porter import PorterStemmer\n",
        "from nltk.corpus import stopwords\n",
        "from nltk.stem import WordNetLemmatizer\n",
        "import string\n",
        "import unicodedata\n",
        "# from contractions import CONTRACTION_MAP\n",
        "import spacy\n",
        "from nltk.tokenize.toktok import ToktokTokenizer\n",
        "from nltk.tokenize import sent_tokenize \n",
        "nltk.download('punkt')"
      ],
      "execution_count": 2,
      "outputs": [
        {
          "output_type": "stream",
          "text": [
            "[nltk_data] Downloading package stopwords to /root/nltk_data...\n",
            "[nltk_data]   Unzipping corpora/stopwords.zip.\n",
            "[nltk_data] Downloading package wordnet to /root/nltk_data...\n",
            "[nltk_data]   Unzipping corpora/wordnet.zip.\n",
            "[nltk_data] Downloading package punkt to /root/nltk_data...\n",
            "[nltk_data]   Unzipping tokenizers/punkt.zip.\n"
          ],
          "name": "stdout"
        },
        {
          "output_type": "execute_result",
          "data": {
            "text/plain": [
              "True"
            ]
          },
          "metadata": {
            "tags": []
          },
          "execution_count": 2
        }
      ]
    },
    {
      "cell_type": "code",
      "metadata": {
        "id": "eLNttMIC4Db8",
        "colab_type": "code",
        "colab": {}
      },
      "source": [
        "from sklearn.feature_extraction.text import CountVectorizer\n",
        "from sklearn.feature_extraction.text import TfidfTransformer\n",
        "from sklearn.naive_bayes import MultinomialNB, GaussianNB\n",
        "from sklearn.metrics import classification_report, confusion_matrix\n",
        "from sklearn.model_selection import train_test_split\n",
        "from sklearn.ensemble import RandomForestClassifier"
      ],
      "execution_count": 0,
      "outputs": []
    },
    {
      "cell_type": "code",
      "metadata": {
        "id": "JARg-nFUihFV",
        "colab_type": "code",
        "outputId": "e527fb51-66dc-4a33-b6b2-d243fb8dd453",
        "colab": {
          "base_uri": "https://localhost:8080/",
          "height": 35
        }
      },
      "source": [
        "from google.colab import drive\n",
        "drive.mount('/content/gdrive')"
      ],
      "execution_count": 13,
      "outputs": [
        {
          "output_type": "stream",
          "text": [
            "Mounted at /content/gdrive\n"
          ],
          "name": "stdout"
        }
      ]
    },
    {
      "cell_type": "code",
      "metadata": {
        "id": "dx6_f0t1izwY",
        "colab_type": "code",
        "colab": {}
      },
      "source": [
        "movies = pd.read_csv('/content/gdrive/My Drive/FTMLE - Tonga/Data/movie_review.csv', sep='\\t')"
      ],
      "execution_count": 0,
      "outputs": []
    },
    {
      "cell_type": "code",
      "metadata": {
        "id": "AK38KedoZSIq",
        "colab_type": "code",
        "colab": {}
      },
      "source": [
        "m_test = pd.read_csv('/content/gdrive/My Drive/FTMLE - Tonga/Data/movie_review_evaluation.csv', sep='\\t')"
      ],
      "execution_count": 0,
      "outputs": []
    },
    {
      "cell_type": "markdown",
      "metadata": {
        "id": "5Kiuhg4YWqRW",
        "colab_type": "text"
      },
      "source": [
        "###EDA"
      ]
    },
    {
      "cell_type": "code",
      "metadata": {
        "id": "k0uGRhfJk7NS",
        "colab_type": "code",
        "outputId": "ae224ad0-f25c-440c-8417-501daba600b4",
        "colab": {
          "base_uri": "https://localhost:8080/",
          "height": 170
        }
      },
      "source": [
        "movies.groupby(by='sentiment').describe()"
      ],
      "execution_count": 0,
      "outputs": [
        {
          "output_type": "execute_result",
          "data": {
            "text/html": [
              "<div>\n",
              "<style scoped>\n",
              "    .dataframe tbody tr th:only-of-type {\n",
              "        vertical-align: middle;\n",
              "    }\n",
              "\n",
              "    .dataframe tbody tr th {\n",
              "        vertical-align: top;\n",
              "    }\n",
              "\n",
              "    .dataframe thead tr th {\n",
              "        text-align: left;\n",
              "    }\n",
              "\n",
              "    .dataframe thead tr:last-of-type th {\n",
              "        text-align: right;\n",
              "    }\n",
              "</style>\n",
              "<table border=\"1\" class=\"dataframe\">\n",
              "  <thead>\n",
              "    <tr>\n",
              "      <th></th>\n",
              "      <th colspan=\"4\" halign=\"left\">id</th>\n",
              "      <th colspan=\"4\" halign=\"left\">review</th>\n",
              "    </tr>\n",
              "    <tr>\n",
              "      <th></th>\n",
              "      <th>count</th>\n",
              "      <th>unique</th>\n",
              "      <th>top</th>\n",
              "      <th>freq</th>\n",
              "      <th>count</th>\n",
              "      <th>unique</th>\n",
              "      <th>top</th>\n",
              "      <th>freq</th>\n",
              "    </tr>\n",
              "    <tr>\n",
              "      <th>sentiment</th>\n",
              "      <th></th>\n",
              "      <th></th>\n",
              "      <th></th>\n",
              "      <th></th>\n",
              "      <th></th>\n",
              "      <th></th>\n",
              "      <th></th>\n",
              "      <th></th>\n",
              "    </tr>\n",
              "  </thead>\n",
              "  <tbody>\n",
              "    <tr>\n",
              "      <th>0</th>\n",
              "      <td>11222</td>\n",
              "      <td>11222</td>\n",
              "      <td>8733_1</td>\n",
              "      <td>1</td>\n",
              "      <td>11222</td>\n",
              "      <td>11170</td>\n",
              "      <td>This show comes up with interesting locations ...</td>\n",
              "      <td>3</td>\n",
              "    </tr>\n",
              "    <tr>\n",
              "      <th>1</th>\n",
              "      <td>11278</td>\n",
              "      <td>11278</td>\n",
              "      <td>11839_9</td>\n",
              "      <td>1</td>\n",
              "      <td>11278</td>\n",
              "      <td>11255</td>\n",
              "      <td>Red Skelton was still another major star who m...</td>\n",
              "      <td>2</td>\n",
              "    </tr>\n",
              "  </tbody>\n",
              "</table>\n",
              "</div>"
            ],
            "text/plain": [
              "              id         ...                                             review     \n",
              "           count unique  ...                                                top freq\n",
              "sentiment                ...                                                        \n",
              "0          11222  11222  ...  This show comes up with interesting locations ...    3\n",
              "1          11278  11278  ...  Red Skelton was still another major star who m...    2\n",
              "\n",
              "[2 rows x 8 columns]"
            ]
          },
          "metadata": {
            "tags": []
          },
          "execution_count": 6
        }
      ]
    },
    {
      "cell_type": "code",
      "metadata": {
        "id": "HQQFuiWC0okL",
        "colab_type": "code",
        "outputId": "abe1e360-0ccd-4325-88f6-4eefa71e2dd6",
        "colab": {
          "base_uri": "https://localhost:8080/",
          "height": 212
        }
      },
      "source": [
        "movies['review'].sample(10)"
      ],
      "execution_count": 0,
      "outputs": [
        {
          "output_type": "execute_result",
          "data": {
            "text/plain": [
              "19128    I honestly can't believe what passes for enter...\n",
              "21674    Lost holds something interesting for everyone....\n",
              "18470    I had started to lose my faith in films of rec...\n",
              "12797    If ever there was a film that deserved a big f...\n",
              "2287     Movie about a small town with equal numbers of...\n",
              "11990    I don't know much about Tobe Hooper, or why he...\n",
              "14769    Japan 1918. The story of 16-year old Ryu begin...\n",
              "16402    What an absolute pile of pants. Having read Ch...\n",
              "4432     Rarely do I see a film that I am totally engro...\n",
              "9104     Follow-up to 1973's far better \\Cleopatra Jone...\n",
              "Name: review, dtype: object"
            ]
          },
          "metadata": {
            "tags": []
          },
          "execution_count": 7
        }
      ]
    },
    {
      "cell_type": "code",
      "metadata": {
        "id": "4Jhu0i2LjH6n",
        "colab_type": "code",
        "colab": {}
      },
      "source": [
        "movies['length'] = movies['review'].apply(len)"
      ],
      "execution_count": 0,
      "outputs": []
    },
    {
      "cell_type": "code",
      "metadata": {
        "id": "RLb8PoBulY1g",
        "colab_type": "code",
        "outputId": "d78503f9-df92-4f95-da2b-e32c270e04ca",
        "colab": {
          "base_uri": "https://localhost:8080/",
          "height": 385
        }
      },
      "source": [
        "plt.figure(figsize=(10,5))\n",
        "movies.hist(column='length', bins=100, figsize=(10,5), grid=False)\n",
        "plt.xlabel('Length of review')"
      ],
      "execution_count": 0,
      "outputs": [
        {
          "output_type": "execute_result",
          "data": {
            "text/plain": [
              "Text(0.5, 0, 'Length of review')"
            ]
          },
          "metadata": {
            "tags": []
          },
          "execution_count": 9
        },
        {
          "output_type": "display_data",
          "data": {
            "text/plain": [
              "<Figure size 720x360 with 0 Axes>"
            ]
          },
          "metadata": {
            "tags": []
          }
        },
        {
          "output_type": "display_data",
          "data": {
            "image/png": "[encoded data removed]",
            "text/plain": [
              "<Figure size 720x360 with 1 Axes>"
            ]
          },
          "metadata": {
            "tags": [],
            "needs_background": "light"
          }
        }
      ]
    },
    {
      "cell_type": "code",
      "metadata": {
        "id": "qq8f7hDLl-1y",
        "colab_type": "code",
        "outputId": "657ac687-1d1a-429e-a06b-2d275480ec3d",
        "colab": {
          "base_uri": "https://localhost:8080/",
          "height": 408
        }
      },
      "source": [
        "movies.hist(bins=250,by='sentiment',column='length', figsize=(20,5))"
      ],
      "execution_count": 0,
      "outputs": [
        {
          "output_type": "execute_result",
          "data": {
            "text/plain": [
              "array([<matplotlib.axes._subplots.AxesSubplot object at 0x7fc055053400>,\n",
              "       <matplotlib.axes._subplots.AxesSubplot object at 0x7fc055181c50>],\n",
              "      dtype=object)"
            ]
          },
          "metadata": {
            "tags": []
          },
          "execution_count": 10
        },
        {
          "output_type": "display_data",
          "data": {
            "image/png": "[encoded data removed]",
            "text/plain": [
              "<Figure size 1440x360 with 2 Axes>"
            ]
          },
          "metadata": {
            "tags": [],
            "needs_background": "light"
          }
        }
      ]
    },
    {
      "cell_type": "markdown",
      "metadata": {
        "id": "uAk6Ew9jWiZF",
        "colab_type": "text"
      },
      "source": [
        "###Text Processing"
      ]
    },
    {
      "cell_type": "code",
      "metadata": {
        "id": "yLFJ6b8Anug0",
        "colab_type": "code",
        "colab": {}
      },
      "source": [
        "def text_process(text):\n",
        "  nopunc = ''.join([char.lower() for char in text if char not in string.punctuation]).split() #remove punctuation , split each word\n",
        "  ps = PorterStemmer() #loving loved loves become love\n",
        "  # nopunc = re.split('\\W+',nopunc.lower())\n",
        "  review = [ps.stem(word) for word in nopunc if word not in stopwords.words('english')] #remove stopwords\n",
        "\n",
        "  return review "
      ],
      "execution_count": 0,
      "outputs": []
    },
    {
      "cell_type": "code",
      "metadata": {
        "id": "rz49g7zov5W6",
        "colab_type": "code",
        "colab": {}
      },
      "source": [
        "def txt_processing(text):\n",
        "  accented_char = unicodedata.normalize('NFKD', text).encode('ascii', 'ignore').decode('utf-8', 'ignore') #converting é to e\n",
        "  special_char = re.sub(r'[^A-Za-z0-9\\s]', '', accented_char) # A123@122 becomes A123122\n",
        "  ps = PorterStemmer() #loving loved loves become love\n",
        "  lemmatizer = WordNetLemmatizer()\n",
        "  # special_char = sent_tokenize(special_char)\n",
        "  stopw = [ps.stem(word) for word in special_char.split() if word not in stopwords.words('english')] #remove stopwords,\n",
        "  # lem = [lemmatizer.lemmatize(word) for word in stopw]\n",
        "  return ' '.join(stopw)"
      ],
      "execution_count": 0,
      "outputs": []
    },
    {
      "cell_type": "code",
      "metadata": {
        "id": "_mB8R_in8She",
        "colab_type": "code",
        "outputId": "5055976b-0bd9-44d6-ddb7-02a1d05a1c25",
        "colab": {
          "base_uri": "https://localhost:8080/",
          "height": 35
        }
      },
      "source": [
        "# Might take awhile...\n",
        "bow_transformer = CountVectorizer(analyzer=text_process).fit(movies['review'][:1000])\n",
        "\n",
        "# Print total number of vocab words\n",
        "print(len(bow_transformer.vocabulary_))"
      ],
      "execution_count": 0,
      "outputs": [
        {
          "output_type": "stream",
          "text": [
            "15571\n"
          ],
          "name": "stdout"
        }
      ]
    },
    {
      "cell_type": "code",
      "metadata": {
        "id": "EoMQZmoBD4rc",
        "colab_type": "code",
        "outputId": "8ce568a8-4952-438d-cdb1-bdc70fe284b1",
        "colab": {
          "base_uri": "https://localhost:8080/",
          "height": 55
        }
      },
      "source": [
        "print(bow_transformer.get_feature_names())"
      ],
      "execution_count": 0,
      "outputs": [
        {
          "output_type": "stream",
          "text": [
            "['0', '001', '007', '010', '01000', '0130', '03', '089', '09', '1', '10', '100', '1000', '10000', '100yard', '101', '1010', '103', '104', '1050', '1072007', '108', '109', '10br', '10page', '10x10', '11', '110', '112', '112413', '11br', '12', '120', '12000000', '120page', '123', '12br', '12m', '13', '138', '13th', '14', '1416', '145', '147', '147br', '14th', '14yearoldgirl', '15', '150', '1500sbr', '15odd', '15th', '16', '1600', '1617', '165m', '166', '16ã¨me', '17', '17year', '18', '1800', '1830', '1851br', '1880', '1886', '1895br', '1898', '18th', '1907', '1914', '1920', '1924', '1928', '1930', '1930sera', '1931', '1933', '1934', '1935', '1936', '19361946', '1937', '1937br', '1938', '1939', '193940', '1940just', '1941', '1942', '1943', '1944', '1945', '1946', '1947', '1948', '1949', '1950', '1951', '1953', '1954', '1955', '1956', '1957', '1958', '1959', '1960', '1961', '1962', '1963', '1965', '1966', '1967', '1968', '1969', '1970', '1970year', '1971', '1971br', '1972', '1972br', '1973', '1974', '1975', '197583', '1975br', '1976', '1977', '1978', '1979', '1980', '1980sbr', '1981', '198182', '1982', '1983', '198385br', '1984', '1985', '1986', '1988', '1989', '1990', '1991', '1992', '1993', '1994', '1995', '1996', '1997', '1998', '1998era', '1999', '19th', '1br', '1from', '1pleas', '1score', '1st', '1star', '1â½', '2', '20', '200', '2000', '2001', '2001br', '2002', '2004', '2005', '2006', '2006br', '2007', '2007br', '2008', '2009', '2009br', '201', '2010', '2017', '2022', '2030', '2035br', '2038', '2046', '20th', '210', '21st', '22', '222', '22year', '23', '2351', '24', '241', '247', '249', '25', '25000', '25yo', '26', '27', '275', '28', '29', '2995', '2d', '2nd', '2on', '2outof10', '2s', '2you', '3', '30', '300', '3000', '300000br', '30sbr', '310', '33', '34', '34yr', '35', '3540', '35mm', '35yearold', '36', '37', '39', '3br', '3d', '3rd', '3when', '3zombi', '4', '40', '400', '40odd', '40orso', '40yearold', '41', '410', '42', '42nd', '430', '45', '48', '4995', '49br', '4f', '4h', '4o', '4press', '4th', '5', '50', '5000', '50s60', '51', '510br', '51br', '5210', '54', '55', '550', '5from', '5year', '6', '60', '600', '60i', '60sa', '64', '65', '65000', '660', '666', '699', '6br', '6on', '6th', '7', '70', '70mm', '70yearold', '710', '710br', '720', '74', '747', '75', '750', '76', '77', '7710', '78', '79', '7br', '7day', '7when', '7yearold', '7â½th', '8', '80', '800', '80she', '810', '84', '84100', '850', '8510', '87', '87510while', '88', '89', '8mm', '8press', '8th', '9', '90', '9000', '9025', '90min', '90minut', '910', '911', '911relat', '92', '92nd', '93', '95', '950', '95000000', '97', '99', '995', '999', '99999', '99yearsold', 'aag', 'abandon', 'abbeybr', 'abbi', 'abbot', 'abbott', 'abc', 'abdic', 'abduct', 'abducte', 'abel', 'abhay', 'abhorr', 'abid', 'abigail', 'abil', 'abilitybr', 'abjectli', 'abl', 'ablebodi', 'abli', 'abnorm', 'abod', 'abomin', 'aborigin', 'abort', 'abound', 'aboundbr', 'abr', 'abraham', 'abroad', 'abrupt', 'abruptli', 'absenc', 'absent', 'absolut', 'absolutley', 'absorb', 'abstract', 'absurd', 'absurdbr', 'absurdli', 'abund', 'abus', 'abysm', 'abyss', 'academ', 'academi', 'acceler', 'accent', 'accentbr', 'accentit', 'accentu', 'accept', 'acces', 'access', 'accid', 'accident', 'accidentdeath', 'acclaim', 'accolad', 'accommod', 'accompani', 'accomplic', 'accomplish', 'accord', 'accordian', 'accordinglybr', 'account', 'accumul', 'accur', 'accuraci', 'accus', 'accustom', 'ace', 'ach', 'achcha', 'acheiv', 'achiev', 'achil', 'achilless', 'achingli', 'acid', 'ackland', 'acknowledg', 'acoust', 'acquaint', 'acquir', 'acquit', 'acr', 'acrid', 'across', 'act', 'actbr', 'actedbr', 'actingand', 'actingsomewhat', 'actingther', 'action', 'actionadventur', 'actionand', 'actionbr', 'actioncomedi', 'actiondrama', 'actionhorrorromanticcomedygenr', 'actionori', 'actionstunt', 'activ', 'activist', 'actor', 'actoractress', 'actorbr', 'actordefin', 'actordirector', 'actorsactress', 'actorsbr', 'actorsthey', 'actress', 'actsbr', 'actual', 'actuallybr', 'ad', 'ada', 'adam', 'adamantli', 'adapt', 'adaptor', 'add', 'addict', 'addin', 'addit', 'address', 'adept', 'adeptli', 'adequ', 'adjust', 'adman', 'administr', 'admir', 'admiss', 'admit', 'admittedli', 'adolesc', 'adolescencewa', 'adolf', 'adolph', 'adopt', 'ador', 'adoringli', 'adorn', 'adrenalin', 'adrian', 'adriana', 'adrienn', 'adul', 'adult', 'adulter', 'adulteri', 'advanc', 'advani', 'advantag', 'advent', 'adventur', 'adventurebr', 'advers', 'adversari', 'advert', 'advertis', 'advic', 'advicedont', 'advis', 'advoc', 'ae', 'aerial', 'aesop', 'aesthet', 'afer', 'affair', 'affect', 'affili', 'affirm', 'affleck', 'afflict', 'affluent', 'afford', 'afghani', 'afghanistan', 'afi', 'aficanamerican', 'aficionado', 'afloat', 'afloatbr', 'afor', 'aforement', 'afoul', 'afraid', 'africa', 'africabr', 'african', 'africanamerican', 'afrika', 'afroamerican', 'aft', 'afterlif', 'aftermath', 'afternoon', 'afterschool', 'afterthought', 'afterward', 'afterword', 'afunni', 'againbr', 'againif', 'againit', 'againsay', 'agap', 'agatha', 'age', 'agebr', 'agenc', 'agendabr', 'agent', 'ageold', 'agepj', 'ager', 'aggrav', 'aggress', 'agil', 'agn', 'ago', 'agoni', 'agre', 'agreeabl', 'agreement', 'ah', 'ah56a', 'aha', 'ahahahahahhahahahahahahahahahhahahahahahahah', 'ahead', 'aheadbr', 'ahh', 'ahista', 'ahn', 'ahol', 'ai', 'aicn', 'aid', 'aida', 'aiello', 'aim', 'aime', 'aimless', 'aimlessli', 'aint', 'air', 'airatmosphã¨r', 'airbrush', 'aircraft', 'airedbr', 'airhead', 'airlin', 'airplan', 'airplay', 'airport', 'airspac', 'airwolf', 'aisl', 'aislesexcel', 'aka', 'akin', 'akinmira', 'akira', 'akshay', 'al', 'ala', 'alain', 'alan', 'alani', 'alarmist', 'albani', 'albeit', 'albert', 'albright', 'album', 'alchem', 'alcohol', 'alcoholbr', 'alcoholictak', 'alden', 'alec', 'alert', 'alertbr', 'alex', 'alexa', 'alexand', 'alexandr', 'alexandria', 'alexej', 'alexi', 'alfr', 'alfredo', 'algeria', 'algerian', 'algi', 'ali', 'ali112', 'alic', 'alicia', 'alien', 'align', 'alik', 'alimoni', 'alin', 'alisan', 'alist', 'aliv', 'alivebr', 'alkhali', 'alla', 'allah', 'allan', 'allbr', 'alldont', 'alleg', 'allegor', 'allegori', 'allen', 'allencompass', 'allend', 'allerg', 'allevi', 'alli', 'allianc', 'allig', 'allison', 'allow', 'allowbr', 'allpervas', 'allpow', 'allstar', 'alltim', 'alltonic', 'alltoo', 'allur', 'alluringbr', 'allus', 'allvolunt', 'almghandi', 'almighti', 'almost', 'almostlumin', 'alon', 'alonebr', 'alonethey', 'along', 'alongbr', 'alongsid', 'alongâ\\x97no', 'alonso', 'alot', 'aloud', 'alp', 'alpha', 'alqaida', 'alreadi', 'alright', 'alrightbr', 'also', 'alsobr', 'alsointestin', 'alsothough', 'altar', 'alter', 'alteredcol', 'alterego', 'alteringwa', 'altern', 'although', 'altitud', 'altogeth', 'altogetherjust', 'alvin', 'alvira', 'alway', 'alyn', 'alyson', 'amadeu', 'amalgam', 'amanda', 'amano', 'amant', 'amateur', 'amateurish', 'amaz', 'amazingand', 'amazingbr', 'amazingli', 'amazon', 'amazonian', 'amber', 'ambient', 'ambigu', 'ambit', 'ambiti', 'ambival', 'ambl', 'ambul', 'ambush', 'amc', 'amech', 'america', 'american', 'americass', 'amforta', 'ami', 'amick', 'amicu', 'amid', 'amidst', 'amisha', 'amiss', 'amitabh', 'amo', 'amok', 'among', 'amongst', 'amor', 'amorph', 'amount', 'amovi', 'amp', 'amphetamin', 'ampl', 'amplifi', 'amrapurkar', 'amrish', 'amrita', 'amrohi', 'amrohibr', 'amsterdam', 'amus', 'amusingli', 'ana', 'anachron', 'anakin', 'anal', 'analysi', 'analyt', 'analyz', 'anamorph', 'anansa', 'anastasia', 'anatol', 'ancestri', 'anchor', 'anchorman', 'ancient', 'anda', 'andbr', 'anderson', 'andersonbr', 'andi', 'andlifebr', 'andor', 'andrea', 'andrew', 'andrewss', 'androgyn', 'andromeda', 'andromedabr', 'andru', 'anesthet', 'ang', 'angel', 'angela', 'angelesbr', 'angelica', 'angelina', 'anger', 'angerbr', 'angharad', 'angi', 'angl', 'anglo', 'angloamerican', 'anglosaxon', 'angri', 'angrili', 'angrybr', 'angst', 'angu', 'anguish', 'angular', 'anim', 'animalsbr', 'animast', 'animatrix', 'anita', 'ankheinshola', 'ankl', 'ann', 'anna', 'annabeth', 'annal', 'annamari', 'annemari', 'annett', 'anni', 'annihil', 'anniversariesbig', 'annmargret', 'anno', 'announc', 'annoy', 'annoyedwond', 'annoyingbr', 'annoyingli', 'annoyingparticularli', 'annual', 'annud', 'anomali', 'anorak', 'anoth', 'anselmo', 'answer', 'ant', 'antagonist', 'antholog', 'anthologynoth', 'anthologyâ\\x97a', 'anthoni', 'anthropomorph', 'anti', 'antiamerican', 'antic', 'antichrist', 'anticip', 'anticlimact', 'antideath', 'antidot', 'antidrug', 'antifasc', 'antigay', 'antigerman', 'antihero', 'antiheroin', 'antihuman', 'antiqu', 'antirap', 'antireveng', 'antiwar', 'antoin', 'anton', 'antonio', 'antsi', 'anual', 'anulka', 'anxiou', 'anybodi', 'anyhoo', 'anyhoobr', 'anyhow', 'anymor', 'anyon', 'anyonebr', 'anyth', 'anythingther', 'anytim', 'anyway', 'anywaybr', 'anywher', 'anywherebr', 'aok', 'apart', 'apartbr', 'apartheid', 'apartit', 'apatow', 'ape', 'aphasia', 'aphrodisiac', 'apiec', 'aplomb', 'apocalyps', 'apocalypt', 'apollo', 'apolog', 'appal', 'appallingli', 'appar', 'apparentbr', 'appeal', 'appear', 'appearanceth', 'appl', 'applaud', 'applaus', 'appli', 'applianc', 'appliancewat', 'appoint', 'appreci', 'appreciatesbr', 'appreciationbr', 'apprehend', 'approach', 'approachesth', 'appropri', 'appropriatebut', 'appropriatelynam', 'approv', 'approxiamt', 'april', 'aptli', 'arab', 'arabia', 'arbi', 'arc', 'arcan', 'arch', 'archaeologist', 'archi', 'archibald', 'archiv', 'arden', 'ardent', 'ardh', 'arduou', 'area', 'arebr', 'arena', 'arent', 'argentina', 'argentinian', 'argento', 'argentobr', 'argu', 'arguabl', 'argufi', 'argument', 'argumentsclu', 'ariauna', 'arid', 'ariel', 'aris', 'aristocraci', 'aristocrat', 'arizona', 'arizonabr', 'arkin', 'arlettythink', 'arliss', 'arm', 'arma', 'armageddon', 'armagedon', 'armand', 'armena', 'armi', 'armin', 'arminass', 'armor', 'armpit', 'armsbr', 'armstrong', 'arnald', 'arni', 'arnim', 'arnold', 'aroma', 'around', 'arounda', 'aroundbr', 'aroundâ', 'arous', 'arp', 'arrahman', 'arrang', 'array', 'arrest', 'arriv', 'arrivesbr', 'arrog', 'arrondiss', 'arrow', 'arrowhead', 'arrrrghbr', 'art', 'artbr', 'artefact', 'arthous', 'arthrit', 'arthropod', 'arthur', 'arti', 'articl', 'articlesvideo', 'artifact', 'artific', 'artist', 'artistri', 'artistryon', 'artsi', 'artwork', 'aryan', 'aryian', 'ascrib', 'ash', 'asham', 'ashanti', 'ashley', 'ashok', 'asia', 'asiabr', 'asian', 'asianstyl', 'asid', 'asinin', 'ask', 'askey', 'asleep', 'aspect', 'aspectsor', 'aspir', 'ass', 'assan', 'assassin', 'assault', 'assbr', 'assbut', 'assembl', 'assert', 'assess', 'asshol', 'assign', 'assimil', 'assist', 'associ', 'associatesâ\\x80\\x99', 'assort', 'asst', 'assum', 'assumpt', 'assur', 'assuredli', 'astair', 'astonish', 'astound', 'astrid', 'astut', 'asylum', 'asylumbr', 'ate', 'ateam', 'atenborough', 'athen', 'athena', 'athenean', 'athenian', 'athensgreec', 'athlet', 'athletic', 'atkinson', 'atlanta', 'atlanti', 'atmospher', 'atmospherebr', 'atmospherether', 'atmosphã¨reatmosphã¨reestc', 'atmosphã¨reth', 'atnoth', 'aton', 'atop', 'atoz', 'atroc', 'atroci', 'atrocitiesbr', 'attach', 'attachã©', 'attack', 'attain', 'attempt', 'attemptatmosphereatmospherehav', 'attemptbr', 'attenborough', 'attend', 'attent', 'attentioni', 'attic', 'attir', 'attitud', 'attorney', 'attract', 'attractivebr', 'attribut', 'atyp', 'audaci', 'audiard', 'audienc', 'audiencebr', 'audio', 'audit', 'audrey', 'auer', 'august', 'augusta', 'aunt', 'aura', 'aural', 'auschwitz', 'aussi', 'austen', 'auster', 'austin', 'australia', 'australian', 'australlian', 'austreheim', 'austria', 'austrian', 'auteur', 'authen', 'authent', 'author', 'authorit', 'autist', 'auto', 'autobiographi', 'autograph', 'automak', 'automat', 'automobil', 'autumn', 'avail', 'avalanch', 'avalon', 'avant', 'avatar', 'aveng', 'avenu', 'averag', 'averagebr', 'averback', 'averi', 'aviat', 'avid', 'avoid', 'aw', 'await', 'awak', 'awaken', 'awar', 'award', 'awardbr', 'away', 'awaybr', 'awaynot', 'awaysorri', 'awe', 'aweigh', 'awesom', 'awesomebr', 'awfulbr', 'awhil', 'awkward', 'awri', 'awsom', 'awww', 'awwwwww', 'ax', 'azaria', 'aztec', 'b', 'ba', 'baaaaaad', 'baaaaad', 'babaloo', 'babbl', 'babe', 'babi', 'babiesbr', 'babu', 'babyboom', 'babybr', 'babylon', 'babysit', 'babysitt', 'bacal', 'bacchan', 'bach', 'bacharach', 'bachchan', 'bachelor', 'back', 'backand', 'backbr', 'backdrop', 'backer', 'backfir', 'background', 'backgroundand', 'backgroundlayout', 'backlash', 'backstori', 'backward', 'backwat', 'backwood', 'backyard', 'bacon', 'bad', 'badass', 'badbr', 'badbut', 'baddi', 'badg', 'badhairdew', 'badi', 'badli', 'badlyact', 'badmost', 'badmovi', 'badseuss', 'badso', 'badthi', 'baffl', 'bag', 'bagbr', 'baggag', 'baghdad', 'bail', 'baili', 'bailout', 'bain', 'bait', 'bake', 'baker', 'bakeri', 'bakersfield', 'bakewel', 'bakshi', 'balanc', 'balancedbr', 'balbao', 'balboa', 'balconi', 'bald', 'balki', 'ball', 'ballad', 'ballantin', 'ballard', 'ballentin', 'ballet', 'ballfath', 'balloon', 'ballroom', 'balraj', 'balsam', 'balwin', 'bam', 'bamboo', 'ban', 'banal', 'banana', 'band', 'bandaur', 'bandit', 'bandwagon', 'bang', 'bangkok', 'bangup', 'banjopluckin', 'bank', 'banker', 'bankheist', 'bankmanag', 'bannacheck', 'banshe', 'banzai', 'baptism', 'bar', 'barabra', 'barbar', 'barbara', 'barbarella', 'barbarian', 'barbeau', 'barbera', 'barbi', 'barbr', 'barbra', 'barcelona', 'bare', 'barelyreleas', 'barelyther', 'barf', 'bargain', 'bargepol', 'bariton', 'bark', 'barker', 'barn', 'barnet', 'barney', 'baromet', 'baron', 'barrel', 'barren', 'barri', 'barrist', 'barrymor', 'bart', 'bartel', 'bartend', 'bartholomew', 'bartlebi', 'barton', 'base', 'basement', 'basementbr', 'baseslik', 'bash', 'basi', 'basic', 'basket', 'basketbal', 'bass', 'bastard', 'bat', 'batcav', 'batfan', 'bath', 'bathedinlight', 'bathhous', 'batho', 'bathroom', 'batista', 'batman', 'batmanbr', 'batonzilla', 'batter', 'batteri', 'battl', 'battlefield', 'battleship', 'battlestar', 'baudelair', 'bauer', 'baught', 'bawl', 'baxter', 'bay', 'bayreuth', 'bazillion', 'bazza', 'bb', 'bbc', 'bbr', 'bc', 'bc2006â¨', 'bclass', 'bdwi', 'be', 'beach', 'beachcomb', 'bead', 'beak', 'beal', 'beam', 'bean', 'bear', 'bearabl', 'bearbr', 'beard', 'bearer', 'bearlik', 'beast', 'beastbr', 'beastmast', 'beat', 'beatdown', 'beaten', 'beater', 'beatl', 'beatlesbr', 'beatnik', 'beatric', 'beau', 'beaudray', 'beausoleil', 'beauti', 'beautician', 'beautifuland', 'beautybr', 'beautypag', 'beaver', 'beavi', 'bebe', 'bebr', 'becam', 'beccket', 'becker', 'beckinsal', 'becom', 'bed', 'bedbr', 'bedi', 'bedouin', 'bedroom', 'bedsid', 'bedtim', 'beef', 'beek', 'beenbr', 'beer', 'beergut', 'beetl', 'beetlejuic', 'befallen', 'befit', 'beforebr', 'beforehand', 'beforeth', 'beforethos', 'befriend', 'befuddl', 'beg', 'began', 'beggar', 'begin', 'beginningand', 'beginningbr', 'beginsth', 'begun', 'behalf', 'behav', 'behavior', 'behaviour', 'behead', 'behest', 'behind', 'behindlik', 'behindthescen', 'behold', 'behr', 'behrman', 'beingbr', 'bel', 'bela', 'belaney', 'beleagu', 'belengur', 'belgium', 'belief', 'beliefbr', 'believ', 'believebr', 'beliv', 'bell', 'bellevil', 'belli', 'bellow', 'bellyach', 'belong', 'belongmonstervis', 'belov', 'belowaverag', 'belt', 'belushi', 'bemus', 'ben', 'beneath', 'benefici', 'benefit', 'benet', 'benevol', 'benhur', 'benight', 'benjamin', 'benjiand', 'bennett', 'benni', 'benoit', 'benson', 'bent', 'bentley', 'bentsen', 'benumb', 'beowulf', 'berber', 'beresford', 'bergdorf', 'bergin', 'bergman', 'berkeley', 'berlin', 'bernadett', 'bernard', 'bernhard', 'berni', 'bernsen', 'berri', 'bert', 'berth', 'berti', 'bertolucci', 'bertrand', 'beset', 'besid', 'besotten', 'bessi', 'best', 'bestest', 'bestmediocr', 'bestsel', 'bet', 'beta', 'betbr', 'beth', 'bethani', 'bethard', 'bethsheba', 'betray', 'bett', 'bettani', 'better', 'betterbr', 'betterhard', 'betterknown', 'betti', 'beven', 'beverley', 'beverli', 'bewar', 'bewild', 'bewitch', 'beyond', 'bfilm', 'bgrade', 'bhabhi', 'bharai', 'bhopali', 'bianchi', 'bias', 'bibl', 'biblic', 'bicenntini', 'bichir', 'bicker', 'bicycl', 'bid', 'biehn', 'bierstub', 'big', 'bigami', 'bigelow', 'bigfoot', 'bigg', 'bigger', 'biggest', 'bighous', 'bightman', 'bigscreen', 'bigtim', 'bike', 'biker', 'bikini', 'biko', 'bill', 'billboard', 'billi', 'billion', 'billionair', 'bimbo', 'bin', 'bind', 'binni', 'biographi', 'biopic', 'birch', 'bird', 'birdi', 'birdsbr', 'birnley', 'birth', 'birthbr', 'birthday', 'birthplac', 'bisexu', 'bison', 'bisset', 'bit', 'bitbr', 'bitch', 'bite', 'bitebr', 'bitten', 'bitter', 'bitterli', 'bittersweet', 'bizarr', 'bj', 'black', 'blackandwhit', 'blackboard', 'blackbr', 'blacken', 'blackglov', 'blacki', 'blackli', 'blacklist', 'blackmail', 'blackout', 'blackstar', 'blackwoodaccept', 'blackwoodcastl', 'blade', 'blah', 'blahblahblah', 'blahâ', 'blain', 'blair', 'blake', 'blame', 'blanch', 'bland', 'blander', 'blandli', 'blane', 'blank', 'blankbr', 'blanket', 'blanknow', 'blast', 'blatant', 'blatantli', 'blaxploit', 'blaze', 'bleak', 'bleakest', 'blech', 'bled', 'bleed', 'blemish', 'blend', 'bless', 'blew', 'blier', 'blight', 'blind', 'blindbr', 'blindfold', 'blindli', 'bling', 'bliss', 'blither', 'blob', 'bloch', 'block', 'blockbust', 'blockbusterbr', 'bloke', 'blond', 'blonder', 'blood', 'bloodbath', 'bloodbr', 'bloodbut', 'bloodfest', 'bloodi', 'bloodsh', 'bloodthirsti', 'bloodybr', 'bloom', 'bloomethan', 'blooper', 'blossom', 'blow', 'blowhard', 'blown', 'blowtorch', 'blubber', 'blue', 'blueey', 'bluegrass', 'blum', 'blunder', 'blundersbr', 'blunt', 'bluray', 'blurb', 'bluster', 'blvd', 'blyth', 'bmacv', 'bmi', 'bmovi', 'bo', 'board', 'boarder', 'boardroom', 'boast', 'boat', 'bob', 'bobbi', 'bobrossstyl', 'bocaccio', 'bochner', 'bodi', 'bodybr', 'bodycount', 'bodyguard', 'boffin', 'bogart', 'bogdanovich', 'boggi', 'boggl', 'bogi', 'bogstandard', 'bogu', 'boil', 'boiler', 'boilerwhen', 'bolan', 'bold', 'boleyn', 'bolkan', 'bollywood', 'bolster', 'bomb', 'bomba', 'bombard', 'bombedbr', 'bomber', 'bombshellbr', 'bon', 'bonaduc', 'bonanza', 'bond', 'bondag', 'bone', 'bonfir', 'bonham', 'bonhamcart', 'bonker', 'bonni', 'bono', 'bonu', 'boo', 'boob', 'boogaloo', 'boogey', 'boogeyman', 'boogeymanugh', 'boogi', 'book', 'bookbr', 'bookend', 'booker', 'booklov', 'booksbr', 'bookth', 'boom', 'boon', 'boorish', 'boost', 'boot', 'bootbr', 'booth', 'bootleg', 'bootroman', 'booz', 'borda', 'borden', 'border', 'borderlin', 'bore', 'boreanaz', 'boredom', 'borg', 'bori', 'boring', 'boringli', 'born', 'borough', 'borrow', 'bosch', 'boskovich', 'boss', 'bossi', 'bossman', 'bosss', 'boston', 'bostondetroitprovid', 'bostwick', 'botch', 'bother', 'botherbr', 'botheringbr', 'bottl', 'bottom', 'bottombr', 'bottomofthebarrel', 'bottomsbr', 'bouchey', 'bought', 'bounc', 'bounci', 'bound', 'boundari', 'boundless', 'bounti', 'bourn', 'bout', 'bow', 'bowl', 'bowler', 'box', 'boxer', 'boxoffic', 'boy', 'boybad', 'boyer', 'boyfriend', 'boyfriendus', 'boyl', 'bozo', 'bozz', 'br', 'bra', 'bracco', 'brace', 'brad', 'bradford', 'bradi', 'bradybrian', 'brag', 'brain', 'brainbr', 'brainchild', 'brainclang', 'braineat', 'brainless', 'brainnumb', 'branagh', 'branch', 'brand', 'brandbr', 'brandi', 'brandon', 'brannagh', 'brash', 'brashear', 'brasher', 'brass', 'brat', 'brate', 'bratti', 'bratwurst', 'braun', 'brave', 'braveheart', 'braveri', 'bravo', 'bravura', 'brawl', 'bray', 'brazen', 'brazil', 'brazilian', 'brea', 'break', 'breakaway', 'breakdown', 'breaker', 'breakfast', 'breakin', 'breakthrough', 'breast', 'breat', 'breath', 'breathingbr', 'breathless', 'breathtak', 'breathtakingleav', 'breathtakingli', 'breckinridg', 'bred', 'breech', 'breed', 'breederbr', 'breezi', 'brenda', 'brendan', 'brennan', 'brent', 'bret', 'brethren', 'brew', 'brewster', 'brian', 'bribe', 'brick', 'bricklay', 'bride', 'bridetob', 'bridg', 'bridget', 'brief', 'briefbr', 'briefcas', 'briefli', 'brigad', 'brigant', 'brigg', 'brigham', 'bright', 'brighten', 'brighter', 'brigitt', 'brillianc', 'brilliant', 'brilliantbr', 'brilliantli', 'brimley', 'bring', 'bringbr', 'brink', 'brisk', 'brit', 'britain', 'britcom', 'britian', 'british', 'britishspanish', 'britney', 'briton', 'bro', 'broad', 'broadbent', 'broadcast', 'broader', 'broadway', 'broadwayqu', 'brocoli', 'broderick', 'broke', 'brokedown', 'broken', 'bronson', 'bront', 'brood', 'brook', 'brooklyn', 'brosnan', 'brosrethink', 'brother', 'brotherbr', 'brotherconflict', 'brotherinlaw', 'brotherwood', 'brought', 'brow', 'brown', 'brownperhap', 'brows', 'bruce', 'bruhl', 'bruis', 'bruno', 'brunt', 'brush', 'brutal', 'brutalbr', 'brutish', 'bryan', 'brynner', 'bs', 'bsg', 'bslasher', 'btch', 'btchiness', 'btw', 'bu', 'buba', 'bubbl', 'bubblehead', 'bubon', 'buck', 'bucket', 'buckheim', 'buckl', 'bucsemi', 'bud', 'buddhism', 'buddhist', 'buddi', 'budget', 'budgetveri', 'budgetwher', 'bueno', 'buf', 'buff', 'buffalo', 'buffet', 'buffi', 'buffoon', 'buffooneri', 'buffoonish', 'bug', 'buggi', 'bugsi', 'buick', 'build', 'buildingscardboard', 'buildup', 'built', 'bukowski', 'bulb', 'bulim', 'bulk', 'bull', 'bullcrap', 'bullet', 'bulletdodg', 'bulletpellet', 'bulletproof', 'bulli', 'bullshit', 'bullwhip', 'bumbl', 'bump', 'bumper', 'bumpus', 'bun', 'bunch', 'bunni', 'bunuel', 'bunuelesquir', 'buoyant', 'buppi', 'bure', 'bureau', 'buri', 'burial', 'burk', 'burlyq', 'burn', 'burnish', 'burr', 'burrough', 'burst', 'burt', 'burton', 'burtonelizabeth', 'busbr', 'buscemi', 'busey', 'bush', 'bushfir', 'bushwhack', 'busi', 'businessbr', 'businessman', 'businessmen', 'bust', 'buster', 'busti', 'butcher', 'butcheri', 'butler', 'butt', 'buttend', 'butterfield', 'butterfli', 'buttexcel', 'buttheadbr', 'butthey', 'button', 'buttress', 'buy', 'buyersbr', 'buyerwatch', 'buyout', 'buyrat', 'buzz', 'bw', 'bway', 'bwp', 'by', 'bybr', 'bye', 'byebr', 'byington', 'bypass', 'byrd', 'bythenumb', 'byyeah', 'c', 'ca', 'caan', 'caanclori', 'cab', 'cabaret', 'cabbi', 'cabin', 'cabinet', 'cabinetbr', 'cabl', 'cackl', 'cactu', 'caddyshack', 'caesar', 'cafe', 'cage', 'cagesham', 'cagney', 'caimano', 'cain', 'cajunhuckleberri', 'cake', 'cal', 'calam', 'calamin', 'calcul', 'caldwel', 'calendar', 'calendarpeopl', 'calf', 'calib', 'calibr', 'california', 'caligula', 'call', 'callar', 'caller', 'callerbr', 'calligraphi', 'callingbr', 'callingcard', 'callou', 'callow', 'calm', 'calomari', 'camaraderi', 'cambodia', 'cambodian', 'cambodianthai', 'camcord', 'came', 'camebr', 'camel', 'camelbr', 'cameo', 'cameosbr', 'camera', 'cameraand', 'camerabr', 'cameraman', 'cameramen', 'camerawork', 'cameraâ', 'cameron', 'cameroon', 'camil', 'camilla', 'camp', 'campaign', 'campbel', 'camper', 'camperif', 'campground', 'campi', 'campit', 'campsit', 'campu', 'campwith', 'can', 'canada', 'canadian', 'canadianfrench', 'canal', 'cancel', 'canceledbr', 'cancer', 'cancun', 'candac', 'candi', 'candid', 'candidli', 'candl', 'candlelight', 'candybr', 'candygo', 'canin', 'canist', 'cann', 'cannaval', 'cannib', 'cannibal', 'cannibalist', 'cannon', 'cannot', 'cano', 'canon', 'cant', 'canteen', 'cantif', 'canyon', 'canyonbr', 'cap', 'capabl', 'capac', 'cape', 'caper', 'capit', 'capot', 'capri', 'caprica', 'caprici', 'capt', 'captain', 'captainbr', 'caption', 'captiv', 'captor', 'captur', 'capturelik', 'car', 'caraca', 'carafot', 'carchas', 'card', 'cardboard', 'care', 'carebr', 'career', 'careerbr', 'carefre', 'carel', 'careless', 'caresbr', 'caress', 'caretak', 'carey', 'cargo', 'cari', 'caribbean', 'caribean', 'caricatur', 'carito', 'carl', 'carlito', 'carlo', 'carman', 'carmen', 'carmilla', 'carnag', 'carniv', 'carnivor', 'carnã©', 'carol', 'carolyn', 'caron', 'carpathian', 'carpent', 'carpet', 'carpetbagg', 'carr', 'carradin', 'carrera', 'carrey', 'carri', 'carrier', 'carrol', 'carrot', 'carrã©', 'carsand', 'carsbut', 'carson', 'cart', 'carter', 'cartoon', 'cartoonish', 'cartoonlik', 'cartoonso', 'caruso', 'carv', 'carwash', 'casanova', 'case', 'casethey', 'casey', 'cash', 'cashew', 'cassandra', 'cassel', 'casselbr', 'cassi', 'cassidi', 'cassini', 'cast', 'castbr', 'castfeatur', 'castinclud', 'castl', 'castmemb', 'castro', 'casual', 'casualti', 'cat', 'catalina', 'catalog', 'catalogu', 'catalyst', 'catandmous', 'catastroph', 'cataton', 'catch', 'catchi', 'catchphras', 'cate', 'categor', 'categori', 'caterpillar', 'catfight', 'catharsi', 'cathart', 'cathedr', 'catherin', 'cathol', 'catti', 'cattl', 'catwoman', 'caught', 'caughtbr', 'caughtup', 'caulfield', 'caus', 'causesbr', 'caution', 'cavanagh', 'cave', 'caveat', 'caveman', 'cavemen', 'cavern', 'cavil', 'cayenn', 'cb', 'cbc', 'cccc', 'cd', 'ce', 'ceasar', 'cecil', 'cecilia', 'cedric', 'ceil', 'celeberti', 'celebr', 'celesti', 'celi', 'celia', 'cell', 'cellfour', 'cellmysteri', 'cellular', 'celluloid', 'celtic', 'cemeteri', 'cena', 'censor', 'censorship', 'cent', 'center', 'centerpiec', 'centr', 'central', 'centuri', 'centuryth', 'ceo', 'cerebr', 'certain', 'certainli', 'certainti', 'certif', 'cesar', 'ceylon', 'cg', 'cgi', 'cgifinal', 'cgihalv', 'cgrade', 'chabat', 'chago', 'chagossian', 'chagrin', 'chain', 'chainsaw', 'chair', 'chalk', 'challeng', 'chalo', 'chalt', 'chalta', 'chamber', 'chamberlain', 'champ', 'champagn', 'champion', 'championship', 'chan', 'chanc', 'chand', 'chandler', 'chandramukhi', 'chang', 'changeand', 'changedth', 'changesbr', 'channel', 'channelssigh', 'channelsurf', 'chant', 'chanteus', 'chantig', 'chao', 'chapel', 'chaplin', 'chapter', 'charact', 'character', 'characterbr', 'characterbuild', 'characterdevelop', 'characteris', 'characternow', 'charactersbr', 'charg', 'chari', 'chariot', 'charisma', 'charismat', 'chariss', 'chariti', 'charl', 'charlescopkebab', 'charley', 'charli', 'charliz', 'charlott', 'charlton', 'charm', 'charmbr', 'charmer', 'charmingli', 'chart', 'chase', 'chase2000', 'chasebr', 'chasesand', 'chastedi', 'chastiti', 'chat', 'chatter', 'chatti', 'chauffer', 'chauffeur', 'chavez', 'chavo', 'chawla', 'che', 'cheadl', 'cheap', 'cheapen', 'cheaper', 'cheaperonli', 'cheapest', 'cheapli', 'cheapo', 'cheat', 'cheatedbr', 'cheatedjust', 'check', 'cheek', 'cheeni', 'cheer', 'cheerlead', 'cheerless', 'chees', 'cheesecak', 'cheesi', 'cheesili', 'cheesybut', 'cheezi', 'chef', 'chemic', 'chemistri', 'chemotherapi', 'chen', 'cheng', 'chenoweth', 'chequ', 'cher', 'cheris', 'cherish', 'cherri', 'chess', 'chessplay', 'chest', 'chesti', 'cheung', 'chevincourt', 'chew', 'chi', 'chic', 'chicachoca', 'chicago', 'chick', 'chicken', 'chief', 'child', 'childbear', 'childbeat', 'childbirth', 'childhood', 'childish', 'childit', 'childless', 'childlik', 'children', 'childrenand', 'childrenbr', 'chile', 'chill', 'chiller', 'chillingli', 'chillsful', 'chime', 'chimney', 'chimp', 'chimpanze', 'chin', 'china', 'chinatown', 'chines', 'ching', 'chip', 'chisel', 'chloe', 'chocco', 'chockful', 'chocol', 'chocolat', 'chocula', 'choic', 'choicebr', 'choicesbr', 'choir', 'chokeslam', 'chomp', 'choos', 'chop', 'chopper', 'choppi', 'chopra', 'chord', 'choreograph', 'choreographi', 'chori', 'chortl', 'choru', 'chose', 'chosen', 'chou', 'chow', 'chri', 'christ', 'christensen', 'christi', 'christian', 'christianthem', 'christin', 'christma', 'christmasbr', 'christoph', 'chritma', 'chronicl', 'chrysler', 'chu', 'chubbi', 'chuck', 'chucki', 'chuckl', 'chug', 'chum', 'chunder', 'chungk', 'chunk', 'chupk', 'church', 'churchgo', 'churchil', 'churchillfairfax', 'churchyard', 'churn', 'chutzpah', 'chynna', 'cia', 'ciaran', 'cid', 'ciera', 'cigar', 'cigarett', 'cinderella', 'cindi', 'cinema', 'cinemascop', 'cinemat', 'cinematograph', 'cinematographi', 'cinematographyqu', 'cinematographywond', 'cinemax', 'cinã©mabr', 'cipriani', 'circa', 'circl', 'circu', 'circuit', 'circumst', 'circumstancesbr', 'cite', 'citebr', 'citi', 'citizen', 'citybr', 'citybratlook', 'citã©', 'civic', 'civil', 'civilian', 'clad', 'claim', 'claimsbr', 'clair', 'clampett', 'clan', 'clanci', 'clandestin', 'clansmen', 'clap', 'claptrap', 'clara', 'clarenc', 'clariti', 'clark', 'clash', 'class', 'classbr', 'classeswhen', 'classi', 'classic', 'classicsbr', 'classif', 'classifi', 'classmat', 'clau', 'claudin', 'claudio', 'claus', 'clausbr', 'clausen', 'claustrophob', 'claydon', 'clean', 'cleaner', 'cleans', 'clear', 'clearer', 'clearli', 'cleaver', 'clees', 'clerk', 'cleveland', 'clever', 'cleverbr', 'cleverli', 'clich', 'clicheish', 'clichã¨', 'clichã©', 'clichã©d', 'click', 'clicketyclack', 'client', 'cliff', 'cliffhang', 'clifford', 'clifton', 'climact', 'climat', 'climax', 'climb', 'climber', 'clinch', 'cling', 'clinic', 'clinker', 'clint', 'clinton', 'clip', 'clive', 'cloak', 'clock', 'clockwork', 'clone', 'clooney', 'close', 'closebr', 'closer', 'closest', 'closeup', 'closur', 'cloth', 'clothesold', 'cloud', 'clovi', 'clown', 'cloy', 'club', 'clubbr', 'clubfoot', 'clue', 'clueall', 'clueless', 'cluesbr', 'clumsi', 'clumsili', 'clunker', 'clunki', 'clutch', 'clyde', 'co', 'coach', 'coachload', 'coal', 'coars', 'coast', 'coastal', 'coaster', 'coat', 'coauthor', 'cob', 'coburn', 'coburnâ\\x80\\x99', 'cocain', 'coccio', 'cocki', 'cockneyspeak', 'cocktail', 'cod', 'coda', 'coddl', 'code', 'codeamerican', 'codi', 'codirector', 'coen', 'coexist', 'coffe', 'coffi', 'coffin', 'cogent', 'cognac', 'coher', 'cohes', 'cohort', 'coif', 'coin', 'coincid', 'coincident', 'coinflip', 'coke', 'cokeaddict', 'cokefuel', 'cold', 'coldblood', 'coldheart', 'coldheartedbr', 'cole', 'colin', 'collabor', 'collag', 'collaps', 'collar', 'colleagu', 'collect', 'collectionbr', 'collector', 'colleg', 'collett', 'collid', 'collier', 'collin', 'collus', 'colombia', 'colombian', 'colonel', 'coloni', 'coloniesthes', 'colonist', 'color', 'colour', 'colt', 'columbia', 'columbin', 'columbo', 'columbu', 'columbuslandbr', 'columnist', 'columnistwidow', 'comatos', 'comb', 'combat', 'combin', 'combinedbr', 'come', 'comeback', 'comed', 'comedi', 'comedian', 'comedienn', 'comedybr', 'comer', 'comet', 'comfort', 'comfortbr', 'comic', 'comicalbr', 'comicbook', 'comingofag', 'command', 'commando', 'commenc', 'commend', 'commendedbr', 'comment', 'commentari', 'commerc', 'commerci', 'commercialsbr', 'commi', 'commiss', 'commissari', 'commission', 'commit', 'commitmentphobia', 'committe', 'common', 'commonplac', 'commun', 'communist', 'communistophobia', 'compact', 'compani', 'companion', 'companionship', 'compar', 'comparedbr', 'compareth', 'comparison', 'comparisonbr', 'compart', 'compass', 'compassion', 'compel', 'compellingbr', 'compellingli', 'compellingperhap', 'compens', 'compet', 'competentbr', 'competit', 'competitor', 'complain', 'complaint', 'complement', 'complementbr', 'complet', 'completest', 'completeth', 'completetli', 'completley', 'complex', 'complexbr', 'compli', 'compliant', 'complic', 'complicit', 'compliment', 'compon', 'compos', 'composit', 'compound', 'comprehend', 'comprehens', 'compris', 'compromis', 'compuls', 'comput', 'con', 'conan', 'conceal', 'conced', 'conceiv', 'concentr', 'concept', 'concern', 'concernedbr', 'concert', 'conchita', 'conciel', 'conclud', 'conclus', 'concoct', 'concret', 'condemn', 'condit', 'conditionbr', 'conduct', 'conductor', 'confect', 'confeder', 'confess', 'confid', 'confidant', 'confidenti', 'confin', 'confirm', 'conflict', 'conflictbr', 'conform', 'confound', 'confront', 'confus', 'confusionbr', 'conglomer', 'congratul', 'congratulatori', 'congresswoman', 'conjur', 'conman', 'connect', 'connecticut', 'connectionbr', 'connelli', 'conneri', 'conni', 'conniv', 'connoisseur', 'connot', 'conquer', 'conrad', 'conscienc', 'conscious', 'consecut', 'consent', 'consequ', 'conserv', 'conservat', 'consid', 'consider', 'consist', 'consol', 'consolid', 'conspicu', 'conspir', 'conspiraci', 'conspiridioci', 'constanc', 'constant', 'constantli', 'constitut', 'constrain', 'constraint', 'constrict', 'constru', 'construct', 'consuela', 'consult', 'consultantanna', 'consum', 'consumm', 'consumpt', 'consumptionbr', 'contact', 'contain', 'contempl', 'contempor', 'contemporan', 'contemporari', 'contempt', 'contend', 'content', 'contest', 'context', 'contextand', 'continu', 'continuebr', 'contless', 'contour', 'contract', 'contractbr', 'contractu', 'contradict', 'contrari', 'contrast', 'contribut', 'contributor', 'contriv', 'control', 'controversi', 'controversythat', 'conveni', 'convent', 'conventionallygood', 'converg', 'convers', 'convert', 'convey', 'convict', 'convinc', 'convincingli', 'convolut', 'convoyeur', 'cooder', 'cook', 'cookbook', 'cooki', 'cool', 'coolbr', 'cooli', 'coolli', 'coolonc', 'cooper', 'cooperbr', 'coordin', 'coot', 'cooz', 'cop', 'copbad', 'copbr', 'cope', 'copenhagen', 'copi', 'copiou', 'coppola', 'coproduc', 'coproduct', 'copyit', 'copyright', 'cora', 'corbett', 'corbin', 'cordless', 'core', 'corinn', 'corki', 'corman', 'corn', 'cornelia', 'corner', 'cornerston', 'cornett', 'cornfield', 'corni', 'cornili', 'cornucopia', 'coron', 'coronet', 'corp', 'corpor', 'corps', 'correct', 'correctbr', 'correctli', 'correspond', 'corros', 'corrupt', 'corruptcrumbl', 'corvett', 'cosbi', 'cosmo', 'cost', 'costar', 'costarbr', 'costard', 'costello', 'costner', 'costum', 'cot', 'cotton', 'cottrel', 'couch', 'couchand', 'could', 'coulda', 'couldbr', 'couldnt', 'couldv', 'counselorwil', 'count', 'counter', 'counterfeit', 'counterpart', 'counterpoint', 'counti', 'countless', 'countri', 'countrybr', 'countrymen', 'countrysid', 'countrysidebr', 'coup', 'coupl', 'courag', 'cours', 'course', 'courseembark', 'courseth', 'court', 'courtjason', 'courtland', 'courtney', 'courtroom', 'courtyard', 'cousin', 'cover', 'coverag', 'coverbr', 'covert', 'covington', 'cow', 'coward', 'cowardic', 'cowardli', 'cowboy', 'cower', 'cowgirl', 'cowl', 'cowork', 'cowper', 'cowrit', 'cowritten', 'cox', 'coy', 'coz', 'cp', 'crab', 'crack', 'crackerjack', 'crackpot', 'cradl', 'craft', 'crafti', 'craftsmanship', 'craggi', 'craig', 'crain', 'cramp', 'crank', 'crap', 'crapbr', 'crapfest', 'crapola', 'crappi', 'craptogoodstuff', 'crash', 'crashfir', 'crass', 'crave', 'craven', 'crawford', 'crawl', 'craze', 'crazi', 'crazier', 'cream', 'creameri', 'creasey', 'creat', 'createdbr', 'createdi', 'creation', 'creativ', 'creativebr', 'creator', 'creatorsbr', 'creatur', 'cred', 'credenc', 'credenti', 'credentialsand', 'credibl', 'crediblebr', 'credit', 'creditif', 'creditsit', 'creditsth', 'credul', 'credulity77', 'cree', 'creek', 'creep', 'creepi', 'creepiest', 'creepshow', 'creepshowbr', 'creepybut', 'cremat', 'cremedelacrem', 'crew', 'cri', 'cricket', 'crimani', 'crime', 'crimelord', 'crimesolv', 'crimethril', 'crimin', 'criminalbr', 'cring', 'cringemak', 'crinkl', 'crippl', 'crise', 'crisi', 'crisp', 'crispin', 'cristian', 'cristo', 'criteria', 'critic', 'criticalbr', 'criticis', 'criticismbr', 'criticsbr', 'critiqu', 'crocker', 'crockett', 'crocodil', 'crocus', 'croft', 'cromoscop', 'cromoscopebr', 'croni', 'cronyn', 'crook', 'croon', 'crop', 'cross', 'crossdress', 'crossgenr', 'crosshybrid', 'crosspurpos', 'crossroad', 'crosssect', 'crotch', 'crother', 'crouch', 'crous', 'crow', 'crowbar', 'crowd', 'crowdaft', 'crowdbr', 'crown', 'crowshock', 'crucial', 'crucifix', 'crud', 'crude', 'crudpi', 'cruel', 'cruelest', 'cruella', 'cruelti', 'cruis', 'crumbl', 'crummi', 'crumpet', 'crumpl', 'crunch', 'crusad', 'crush', 'cruso', 'crutch', 'crutchley', 'cruz', 'cryingenjoy', 'crypt', 'cryptic', 'crystal', 'crystina', 'ctgsr', 'cub', 'cuba', 'cuban', 'cubbi', 'cube', 'cubensi', 'cubic', 'cue', 'cuff', 'cuisin', 'cukor', 'culinari', 'culkin', 'cull', 'culprit', 'cult', 'cultiv', 'cultur', 'culturebr', 'cun', 'cundeif', 'cunningham', 'cunningli', 'cuoco', 'cup', 'cupidgrl', 'cure', 'curio', 'curios', 'curiositybr', 'curiou', 'curious', 'curitz', 'curl', 'curli', 'curmudgeonli', 'currenc', 'current', 'curri', 'curriculum', 'curs', 'cursor', 'curtail', 'curtain', 'curti', 'curtiz', 'curv', 'curvi', 'cusack', 'cush', 'custer', 'custodi', 'custom', 'customari', 'cut', 'cutaway', 'cute', 'cutesi', 'cutest', 'cuthbert', 'cuthberti', 'cuti', 'cutout', 'cutscen', 'cutter', 'cv', 'cw', 'cybil', 'cycl', 'cyd', 'cyncial', 'cynic', 'cynthia', 'cypher', 'czech', 'cã©dric', 'da', 'daar', 'dabbl', 'dad', 'dada', 'dadaist', 'dadbr', 'daddi', 'dafo', 'dagger', 'daggersharp', 'dahlia', 'daili', 'daisi', 'daisya', 'dakota', 'dale', 'dalen', 'dali', 'dalla', 'dalmat', 'dalton', 'daltony', 'dam', 'damag', 'dame', 'damian', 'damn', 'damnedbr', 'damningli', 'damon', 'damor', 'damsel', 'dan', 'dana', 'danc', 'dancehal', 'dancer', 'dancersâ', 'dandi', 'dane', 'danger', 'dangerfield', 'dangl', 'dani', 'daniel', 'danielss', 'danirees', 'danish', 'danni', 'dant', 'danza', 'danzig', 'dao', 'daoism', 'daoist', 'daphn', 'dapper', 'dare', 'dario', 'dariu', 'dark', 'darkbr', 'darken', 'darker', 'darkest', 'darkheart', 'darkli', 'darklytextur', 'darkon', 'darkw', 'darkwolf', 'darl', 'darlen', 'darlington', 'darn', 'darrel', 'darren', 'darrin', 'darryl', 'dart', 'dartagnan', 'darth', 'dash', 'dashiel', 'dastardli', 'dat', 'data', 'databas', 'date', 'datmosphã¨r', 'daubeney', 'daughter', 'daunt', 'dautr', 'davalo', 'dave', 'davi', 'david', 'davidson', 'davidtz', 'daviesbr', 'dawdl', 'dawn', 'dawson', 'day', 'daybr', 'daydream', 'dayglo', 'daylewi', 'daylewiss', 'daylight', 'daysbr', 'daytim', 'daze', 'dazzl', 'dbr', 'dc', 'dd', 'ddoop', 'de', 'dea', 'dead', 'deadbr', 'deadcent', 'deadi', 'deadli', 'deadlier', 'deadlin', 'deadpan', 'deaf', 'deafbr', 'deal', 'dealbr', 'dealer', 'dealt', 'dean', 'deanna', 'dear', 'dearest', 'death', 'deathand', 'deathb', 'deathbr', 'deathlylook', 'deathtrap', 'debacl', 'debaclebr', 'debat', 'debbi', 'deborah', 'debra', 'debt', 'debunk', 'debut', 'debut9', 'decad', 'decadesbr', 'decadesold', 'decameron', 'decameronbr', 'decapit', 'decaun', 'decay', 'deceit', 'deceiv', 'decemb', 'decenc', 'decent', 'decentmak', 'decept', 'decid', 'decidedli', 'decim', 'decis', 'decisionbr', 'deck', 'declaim', 'declar', 'declin', 'declinebr', 'deco', 'decod', 'decompress', 'deconstruct', 'decor', 'decoy', 'decrepit', 'dedic', 'dedlock', 'deduc', 'dee', 'deed', 'deem', 'deep', 'deepen', 'deeper', 'deepest', 'deepli', 'deeproot', 'deepseed', 'deer', 'deerfield', 'deewana', 'def', 'defac', 'default', 'defeat', 'defect', 'defenc', 'defend', 'defens', 'defi', 'defin', 'definit', 'deforc', 'degener', 'degli', 'degrad', 'degradationbr', 'degre', 'deign', 'deja', 'deke', 'dekhn', 'del', 'delay', 'delect', 'delerium', 'delet', 'deliber', 'delic', 'delight', 'delightfulbr', 'delinqu', 'deliri', 'deliv', 'deliver', 'deliveri', 'dellacqua', 'delus', 'delusion', 'delv', 'demand', 'demean', 'demeanor', 'demeanour', 'dement', 'demerillea', 'demi', 'demian', 'demil', 'demis', 'demisebr', 'democraci', 'democrat', 'demograph', 'demolit', 'demon', 'demonicu', 'demonstr', 'demot', 'demur', 'denero', 'deneuv', 'denholm', 'deni', 'denigr', 'deniro', 'denis', 'denni', 'denomin', 'denouement', 'dens', 'denseand', 'dentist', 'dentistri', 'denver', 'denzel', 'deol', 'depalma', 'depardieu', 'depart', 'depend', 'depict', 'deport', 'deposit', 'depp', 'deprav', 'depress', 'depressionera', 'depriv', 'depsit', 'dept', 'depth', 'depthless', 'deputi', 'der', 'derail', 'deran', 'derang', 'derek', 'deris', 'deriv', 'dermot', 'dern', 'desai', 'descend', 'descent', 'describ', 'descript', 'desecr', 'desert', 'deserv', 'deservedli', 'desi', 'design', 'designerbr', 'designgoodsometim', 'desir', 'desk', 'desol', 'despair', 'desper', 'desperado', 'desperadobut', 'desperationbr', 'despic', 'despis', 'despit', 'dessert', 'destin', 'destini', 'destroy', 'destruct', 'det', 'detach', 'detail', 'detailbr', 'detailsbr', 'detect', 'detent', 'deter', 'deterior', 'determin', 'detest', 'detour', 'detr', 'detract', 'detriment', 'detroit', 'deux', 'devast', 'devastatingli', 'develop', 'deviant', 'devic', 'devil', 'devilish', 'deviou', 'devis', 'devito', 'devo', 'devoid', 'devon', 'devot', 'devour', 'devout', 'dewaer', 'dewey', 'dey', 'dharamv', 'dharmendra', 'dhawan', 'di', 'diabol', 'diaboliqu', 'dial', 'dialog', 'dialogu', 'dialoguea', 'dialoguedriven', 'dialup', 'diamond', 'dian', 'diana', 'diari', 'diatrib', 'diaz', 'dibias', 'dicapriotom', 'dicey', 'dichotomi', 'dick', 'dicken', 'dickenson', 'dicki', 'dictat', 'dictatorship', 'diction', 'didact', 'didbr', 'diddi', 'didnot', 'didnt', 'didnâ´t', 'die', 'diebr', 'diego', 'diehard', 'dien', 'diesel', 'diet', 'dietrich', 'differ', 'differencebr', 'differentbr', 'differentbut', 'difficult', 'difficulti', 'dig', 'digest', 'digger', 'dighton', 'digit', 'dignifi', 'digniti', 'dignitybr', 'digressionsbr', 'dilapid', 'dilat', 'dildo', 'dilemma', 'dilig', 'dillman', 'dillon', 'dillus', 'dilut', 'dim', 'dime', 'dimeadozen', 'dimens', 'dimension', 'diminut', 'dimitri', 'din', 'dingi', 'dinner', 'dinocrap', 'dio', 'dionn', 'dip', 'dippi', 'dire', 'direct', 'directingedit', 'directingnon', 'directionbr', 'directionequ', 'directionless', 'directli', 'director', 'directorbr', 'directorcowrit', 'directori', 'directorsal', 'directorwrit', 'directtovideo', 'dirt', 'dirti', 'disabl', 'disadvantag', 'disagre', 'disappear', 'disappearsmak', 'disappoint', 'disappointingli', 'disappointmentbr', 'disapprov', 'disast', 'disasterbut', 'disastr', 'disavow', 'disbelief', 'disc', 'discard', 'discern', 'disciplin', 'disclaim', 'disclosur', 'disco', 'disconcert', 'disconnect', 'discont', 'discontinu', 'discount', 'discourag', 'discov', 'discoveri', 'discredit', 'discrep', 'discrimin', 'discuss', 'disdain', 'diseas', 'disench', 'disengag', 'disfigur', 'disgrac', 'disgruntl', 'disguis', 'disgust', 'disgustingli', 'dish', 'dishonor', 'disillus', 'disillusion', 'disintegr', 'disinterest', 'disjoint', 'dislik', 'disloc', 'dismal', 'dismiss', 'disney', 'disneybr', 'disneyf', 'disneymgm', 'disneyworld', 'disord', 'disori', 'disov', 'disown', 'dispar', 'dispatch', 'dispel', 'dispens', 'displac', 'display', 'displeas', 'dispos', 'disput', 'disqualif', 'disquiet', 'disregard', 'disreguard', 'disrespect', 'disrob', 'dissect', 'disservic', 'dissimilar', 'dissip', 'distanc', 'distant', 'distast', 'distil', 'distinct', 'distinctli', 'distinguish', 'distort', 'distract', 'distractingbr', 'distraught', 'distressingli', 'distribut', 'distributor', 'district', 'distrust', 'disturb', 'disturbingbr', 'disturbingli', 'disus', 'ditch', 'ditzi', 'diva', 'dive', 'diver', 'divers', 'divert', 'divid', 'divin', 'divis', 'divorc', 'divorcebr', 'dixon', 'diy', 'dj', 'dmd', 'dna', 'doand', 'doavoid', 'dobr', 'doc', 'docil', 'dock', 'docksid', 'doctor', 'doctrin', 'docudrama', 'document', 'documentari', 'documentarybr', 'docunoir', 'dodeskaden', 'dodg', 'dodger', 'dodgi', 'doesnt', 'doesnâ´t', 'doff', 'dog', 'dogbr', 'doggi', 'dogma', 'dogsbr', 'doh', 'doig', 'doili', 'doink', 'doityourself', 'doktor', 'dolbi', 'dole', 'dolenz', 'doli', 'doll', 'dollar', 'dollman', 'dollop', 'dolph', 'domain', 'dome', 'domest', 'domin', 'dominick', 'domino', 'don', 'donald', 'donat', 'donath', 'donato', 'done', 'donebr', 'donei', 'donkey', 'donna', 'donovan', 'dont', 'dontthi', 'donut', 'doo', 'dooget', 'doom', 'doomsday', 'door', 'doorbr', 'doorknob', 'doorstep', 'doorway', 'doozi', 'dope', 'dopey', 'dopi', 'dopplegang', 'dor', 'doren', 'dorf', 'dori', 'dorki', 'dorm', 'dorothi', 'dorothybr', 'dorrit', 'dorset', 'dorseydriven', 'dosag', 'dose', 'doubl', 'doublebil', 'doubledq', 'doubleedg', 'doubt', 'doubtless', 'doug', 'dough', 'doughnut', 'dougla', 'dove', 'dowdi', 'down', 'downbeat', 'downbr', 'downey', 'downfal', 'downgrad', 'downhil', 'download', 'downonhisluck', 'downright', 'downsid', 'downspir', 'downssyndrom', 'downtown', 'downtrodden', 'doyon', 'doze', 'dozen', 'dr', 'draconian', 'dracula', 'draculabr', 'draft', 'drag', 'dragon', 'dragoncon', 'dragonh', 'drain', 'drama', 'dramabr', 'dramafail', 'dramafantasymarti', 'dramai', 'dramamin', 'dramano', 'dramat', 'dramathril', 'dramedi', 'drank', 'drastic', 'draw', 'drawer', 'drawl', 'drawn', 'drawnout', 'drclint', 'dread', 'dream', 'dreambr', 'dreamersbr', 'dreami', 'dreamlik', 'dreamquest', 'dreamsbr', 'dreari', 'dreck', 'drecki', 'dresden', 'dress', 'dresser', 'dreufuss', 'drew', 'drewbr', 'dreyfuss', 'dri', 'dribbl', 'drift', 'drifti', 'drink', 'drinker', 'drip', 'drippi', 'drive', 'drivein', 'driveinbr', 'drivel', 'driven', 'driver', 'driverbr', 'droll', 'drone', 'drool', 'drop', 'dropbr', 'dropdead', 'dropkick', 'droplet', 'dropout', 'drove', 'drown', 'drss1942', 'dru', 'drudgeri', 'drug', 'drugdeal', 'druggi', 'drugtak', 'druid', 'druidic', 'drum', 'drummer', 'drummond', 'drunk', 'drunkard', 'drunken', 'drunkhung', 'dt', 'du', 'dub', 'dubiou', 'dublin', 'duchenn', 'duchovni', 'duck', 'duckburg', 'duckl', 'ducktal', 'dud', 'dudbr', 'dude', 'dudikoff', 'dudley', 'due', 'duefor', 'duel', 'duff', 'duffel', 'duffelbag', 'duffl', 'dug', 'duh', 'dukakistheyr', 'duke', 'dull', 'dullbr', 'dullspirit', 'dumb', 'dumbdown', 'dumber', 'dumbest', 'dummi', 'dump', 'dun', 'duncan', 'dunde', 'dung', 'dungeon', 'dunham', 'dunn', 'dunni', 'dunnit', 'dunno', 'dunst', 'duo', 'dupe', 'duplic', 'dur', 'duran', 'durbin', 'durrel', 'dushku', 'dust', 'duster', 'dusti', 'dustin', 'dutch', 'duti', 'duval', 'dvd', 'dvdbr', 'dvdcollect', 'dvdi', 'dvdr', 'dvdsbr', 'dvdthe', 'dvdvh', 'dwarf', 'dwell', 'dwight', 'dwivedi', 'dyan', 'dye', 'dyke', 'dylan', 'dynam', 'dynamit', 'dynasti', 'dyptic', 'dysfunct', 'dystopian', 'dystrophi', 'dã¤nemarkbr', 'dã©ja', 'dã©tat', 'e', 'eager', 'eagerli', 'eagl', 'eal', 'ear', 'earhol', 'earl', 'earli', 'earlier', 'earlierbr', 'earn', 'earnest', 'earsand', 'earth', 'earthand', 'earthbr', 'earthquakebr', 'earthshatt', 'eas', 'easi', 'easier', 'easiest', 'easili', 'east', 'easter', 'eastern', 'eastmancolor', 'eastwood', 'easy04', 'eat', 'eaten', 'eater', 'ebay', 'ebb', 'ebenez', 'eccentr', 'echo', 'echoey', 'eclect', 'eclips', 'econom', 'economi', 'ecstasi', 'ed', 'eddi', 'eden', 'edg', 'edgar', 'edgardo', 'edgebr', 'edgeoftheseat', 'edgi', 'edi', 'edison', 'edit', 'edith', 'editingbr', 'editionanywaythi', 'editor', 'edna', 'eduard', 'educ', 'edward', 'edwig', 'edwin', 'eeri', 'eerieatmospher', 'eerili', 'effac', 'effect', 'effectsbeauti', 'effectsbr', 'effectsit', 'effectsth', 'effemin', 'effeminatefac', 'effervesc', 'effici', 'effort', 'effortbr', 'effortlessli', 'eg', 'egan', 'egg', 'eggnog', 'ego', 'egotist', 'egregi', 'eh', 'eiffel', 'eight', 'eightbr', 'eighti', 'eildon', 'eileen', 'einstein', 'einsteinmatthau', 'eisenhow', 'either', 'eitherbr', 'eithier', 'eject', 'eke', 'ekin', 'el', 'elabor', 'elbow', 'elder', 'elderli', 'eleazar', 'elect', 'electr', 'electrocut', 'electron', 'eleg', 'elegantli', 'elegiac', 'element', 'elementari', 'elena', 'eleph', 'elev', 'eleven', 'eli', 'elia', 'elicit', 'elimin', 'elisabeth', 'elisha', 'elit', 'elitist', 'eliza', 'elizabeth', 'elizondo', 'elkaim', 'ella', 'ellen', 'elliot', 'elliott', 'ellison', 'elmer', 'elmor', 'elois', 'eloqu', 'els', 'elsebr', 'elsewher', 'elud', 'elv', 'elveswhat', 'elvi', 'elvira', 'elviss', 'elw', 'em', 'email', 'emancip', 'embark', 'embarrass', 'embarrassingli', 'embassi', 'embattl', 'embed', 'embellish', 'embeth', 'embitt', 'emblazon', 'embrac', 'embroil', 'emerald', 'emerg', 'emili', 'emin', 'emir', 'emma', 'emmanuel', 'emmerich', 'emmi', 'emmili', 'emot', 'emotionallybr', 'emotionsbr', 'empath', 'empathi', 'empathis', 'emperor', 'emperordarth', 'emphas', 'emphasi', 'empir', 'employ', 'employe', 'empow', 'empti', 'emul', 'en', 'enabl', 'enach', 'enamor', 'enchant', 'enclos', 'encor', 'encount', 'encountersbr', 'encourag', 'end', 'enda', 'endbr', 'endbut', 'endear', 'endearingli', 'endeavor', 'endingbr', 'endingsurprisether', 'endless', 'endlessli', 'endor', 'endors', 'endow', 'endsbr', 'endur', 'enemi', 'energet', 'energi', 'enerv', 'enfin', 'enforc', 'engag', 'engagingli', 'engin', 'enginevibratorgroceriesetc', 'engl', 'england', 'englanda', 'englandappeas', 'englandbr', 'english', 'englishbut', 'englishman', 'englishmen', 'englishspeak', 'engross', 'engulf', 'enhanc', 'enigmat', 'enjoy', 'enjoyablebr', 'enjoybr', 'enjoydont', 'enjoymentbr', 'enlarg', 'enlighten', 'enlist', 'enliven', 'enmesh', 'ennio', 'ennui', 'enorm', 'enough', 'enoughbr', 'enoughwith', 'enrico', 'ensconc', 'ensembl', 'ensnar', 'ensu', 'ensuesand', 'ensur', 'entail', 'entangl', 'enter', 'enterpris', 'entertain', 'entertainersactorsperform', 'entertainingbr', 'entertainmentbr', 'enthral', 'enthusiasm', 'enthusiast', 'entic', 'entir', 'entirelybr', 'entireti', 'entitl', 'entourag', 'entrail', 'entranc', 'entrancingli', 'entrench', 'entri', 'enuff', 'enumer', 'enunci', 'envelop', 'envi', 'environ', 'environment', 'envis', 'envoy', 'epaulet', 'ephemer', 'epic', 'epidemiologist', 'epigram', 'epigrammat', 'epiphani', 'episod', 'episodebr', 'episodeshi', 'epitom', 'epp', 'equal', 'equat', 'equip', 'equival', 'er', 'era', 'eras', 'eraserhead', 'eric', 'erich', 'erick', 'erik', 'erika', 'erin', 'erlynn', 'erm', 'ernest', 'erni', 'ernst', 'erot', 'erotic', 'err', 'errat', 'errol', 'error', 'erudit', 'erupt', 'escap', 'escapad', 'escapemalefiqu', 'escarp', 'escort', 'escrow', 'esophagu', 'esp', 'especi', 'especiallybr', 'espionag', 'essay', 'essenc', 'essendon', 'essenti', 'establish', 'estat', 'esteem', 'esthet', 'estrang', 'eszterha', 'et', 'etc', 'etcad', 'etcbr', 'etcetera', 'etebari', 'etern', 'ethan', 'ethel', 'ether', 'ethic', 'ethnic', 'eton', 'ettor', 'eugen', 'eugã¨n', 'eulog', 'euphem', 'euphemist', 'eur', 'eureka', 'euro', 'europ', 'europa', 'european', 'europeon', 'eustach', 'euthanasia', 'eva', 'evacu', 'evad', 'evan', 'evangelist', 'evas', 'eve', 'even', 'eveningbr', 'evenli', 'event', 'eventemperedbr', 'eventsbr', 'eventsor', 'eventu', 'ever', 'everag', 'everard', 'everbr', 'everest', 'everett', 'evergreen', 'everi', 'everlast', 'everpres', 'evershift', 'everso', 'everwa', 'everybodi', 'everyday', 'everyman', 'everyon', 'everyth', 'everythingbr', 'everythingsound', 'everytihng', 'everytown', 'everywher', 'everywherebr', 'evid', 'evil', 'evilbr', 'evileffemin', 'evo', 'evoc', 'evok', 'evokesth', 'evolutionari', 'evolv', 'evp', 'ewok', 'ex', 'exact', 'exactli', 'exagger', 'exam', 'examin', 'exampl', 'examplebr', 'exasper', 'exboyfriend', 'exceedingli', 'excel', 'excellentbr', 'except', 'excess', 'exchang', 'excit', 'excitedbr', 'excitedli', 'excitementbr', 'excitingredlin', 'exclaim', 'exclud', 'exclus', 'excon', 'excrement', 'excret', 'excruciatingli', 'excus', 'exdaili', 'exdrug', 'exec', 'execr', 'execut', 'execution', 'exemplari', 'exemplifi', 'exercis', 'exert', 'exhaust', 'exhibit', 'exhilar', 'exhook', 'exhusband', 'exil', 'exist', 'existedbr', 'existencebr', 'existenti', 'exjournalist', 'exoneratedbr', 'exorc', 'exorcismo', 'exorcist', 'exorcistamityvil', 'exot', 'expand', 'expans', 'expect', 'expectbr', 'expedi', 'expedit', 'expel', 'expens', 'experi', 'experienc', 'experiencebr', 'experienti', 'experiment', 'experimentbr', 'expert', 'expertis', 'expertli', 'expertsbr', 'expiat', 'expir', 'explain', 'explan', 'explanatori', 'explet', 'explicit', 'explicitli', 'explod', 'explodesbr', 'exploit', 'explor', 'exploratori', 'explos', 'exponenti', 'expos', 'exposit', 'expositionâ', 'exposur', 'express', 'expressionist', 'expressionless', 'expuls', 'expurg', 'exquisit', 'exsecretari', 'extas', 'extend', 'extens', 'extent', 'extenu', 'exterior', 'extern', 'extinct', 'extol', 'extra', 'extract', 'extraordinari', 'extraordinarili', 'extrasthen', 'extraterrestri', 'extravag', 'extravaganza', 'extreamli', 'extrem', 'extremelylarg', 'extremist', 'extremitieshow', 'exuber', 'exvietnam', 'exwif', 'eye', 'eyebal', 'eyebrow', 'eyecandi', 'eyeopen', 'eyeshadow', 'eyr', 'ezra', 'f', 'f00l', 'f117', 'f15', 'f16', 'fa', 'fabl', 'fabric', 'fabul', 'face', 'facebr', 'facefirst', 'faceless', 'facesapart', 'facet', 'facial', 'facil', 'facsimil', 'fact', 'faction', 'factor', 'factori', 'fade', 'faeri', 'fag', 'fagan', 'fail', 'failedbr', 'failsaf', 'failur', 'faint', 'fair', 'fairbank', 'fairi', 'fairli', 'fairytal', 'faith', 'fak', 'fake', 'falk', 'falkland', 'fall', 'fallen', 'fallout', 'fallwel', 'fals', 'falter', 'fame', 'familar', 'famili', 'familiar', 'familiarli', 'familybr', 'famou', 'famous', 'fan', 'fanat', 'fanbas', 'fanci', 'fanfar', 'fansbr', 'fansespeci', 'fantasi', 'fantasma', 'fantast', 'fantasycomedi', 'fantasycsi', 'fanwith', 'fanyou', 'far', 'faraway', 'farbr', 'farc', 'farceur', 'farcic', 'fare', 'farebr', 'farewel', 'farfetch', 'fari', 'farku', 'farm', 'farmer', 'farnsworth', 'faroff', 'farrah', 'farrel', 'farsighted', 'fart', 'fartsi', 'fascin', 'fascinatinggiv', 'fascinatingli', 'fascism', 'fashion', 'fashionbut', 'fassbind', 'fast', 'fastcut', 'faster', 'fastforward', 'fastforwardslow', 'fastpac', 'fat', 'fatal', 'fate', 'father', 'fatherand', 'fatherhenri', 'fatherinlawand', 'fatherson', 'fatigu', 'fatih', 'fatu', 'fault', 'faulti', 'faultless', 'faultsbr', 'faux', 'fave', 'favor', 'favorit', 'favoritebr', 'favour', 'favourit', 'fawcett', 'fawlti', 'fawn', 'fay', 'fbi', 'fck', 'fear', 'fearsom', 'feast', 'feat', 'featur', 'featurefil', 'featurelength', 'featuresbr', 'featurett', 'feb', 'feckless', 'fed', 'feder', 'federal', 'fedora', 'fee', 'feebl', 'feed', 'feel', 'feelbr', 'feet', 'feetbr', 'feign', 'feinston', 'feisti', 'felecia', 'felic', 'felin', 'felini', 'felix', 'fell', 'fella', 'fellow', 'felon', 'felt', 'feltdur', 'femal', 'femalemal', 'feminin', 'feminist', 'femm', 'femmefatal', 'fenc', 'fend', 'fenech', 'fenn', 'ferdinand', 'fernando', 'feroc', 'ferox', 'ferrari', 'ferrel', 'ferrer', 'ferri', 'fervor', 'fessenden', 'fest', 'festiv', 'fetal', 'fetch', 'fetish', 'fetus', 'feud', 'fever', 'fewer', 'fez', 'ff', 'fi', 'fiancã¨', 'fiancã©', 'fiasco', 'fibber', 'fiction', 'fictionbr', 'fictiti', 'fiddl', 'fidel', 'fido', 'field', 'fiend', 'fienn', 'fierc', 'fife', 'fifteen', 'fifth', 'fifti', 'fight', 'fightbr', 'fighter', 'figur', 'figurin', 'file', 'filipino', 'fill', 'filler', 'film', 'film1when', 'filma', 'filmbr', 'filmbut', 'filmfar', 'filmgo', 'filmi', 'filmingbr', 'filmit', 'filmmak', 'filmnoir', 'filmographi', 'filmrar', 'filmsbr', 'filmssureth', 'filmsthi', 'filter', 'filth', 'filthi', 'final', 'financ', 'financi', 'finch', 'find', 'finder', 'fine', 'fineman', 'finer', 'finess', 'finest', 'fing', 'finger', 'finicki', 'finish', 'finland', 'finlay', 'finney', 'finnish', 'fiona', 'fire', 'firearm', 'firebomb', 'firebrand', 'firecrack', 'firefight', 'firehous', 'fireman', 'fireplac', 'firesid', 'firetrapstinki', 'firm', 'firmli', 'first', 'firstbr', 'firstclass', 'firsthand', 'firstli', 'firstperson', 'firstrat', 'firsttim', 'fish', 'fishbourn', 'fisher', 'fist', 'fistfight', 'fisticuff', 'fit', 'fitch', 'fitter', 'fitzgerald', 'fitzgibbon', 'fium', 'five', 'fiveminut', 'fix', 'fixat', 'fixit', 'fizzi', 'fj', 'fkbr', 'flabbergast', 'flaccid', 'flack', 'flag', 'flagship', 'flagwav', 'flaherti', 'flair', 'flake', 'flame', 'flamethrow', 'flank', 'flash', 'flashback', 'flashbackflash', 'flashbacksbr', 'flashforward', 'flashi', 'flashlight', 'flashpoint', 'flat', 'flatmat', 'flatnessbr', 'flatout', 'flatter', 'flatul', 'flavia', 'flavor', 'flavour', 'flaw', 'flawless', 'flawlessli', 'flea', 'fled', 'flee', 'fleec', 'fleet', 'fleme', 'flesh', 'fleshandblood', 'fleshcrawl', 'flesheat', 'fleshpot', 'flew', 'flexibl', 'fli', 'flick', 'flicka', 'flickbr', 'flicker', 'flight', 'flightbr', 'flimsi', 'flinch', 'flinchesbr', 'fling', 'flint', 'flinti', 'flip', 'flippant', 'flipper', 'flirt', 'flitter', 'float', 'flock', 'flood', 'floor', 'floorbr', 'flop', 'flora', 'florida', 'florinda', 'flounder', 'flourish', 'flourishingth', 'flow', 'flowbr', 'flowedbr', 'flower', 'flown', 'fluent', 'fluff', 'fluffbr', 'fluffi', 'fluid', 'flunk', 'flurri', 'flush', 'flute', 'flyand', 'flyboy', 'flye', 'flynn', 'fn', 'fnnish', 'focu', 'focus', 'fodder', 'foe', 'fog', 'foghorn', 'foi', 'foil', 'foilsbr', 'foist', 'foley', 'folk', 'folklor', 'folksbr', 'folli', 'follow', 'followon', 'followsbr', 'followup', 'fond', 'fonda', 'fondainto', 'fondl', 'fontain', 'fontsbr', 'food', 'foodactor', 'foodbr', 'fool', 'foolish', 'foolishli', 'foolishnessbr', 'foot', 'footag', 'footbal', 'foothil', 'footman', 'footstep', 'fora', 'forbidden', 'forbr', 'forc', 'forcibl', 'ford', 'fore', 'forebod', 'forecast', 'foreground', 'forehead', 'foreign', 'foreman', 'foremost', 'foremostbr', 'forens', 'forerunn', 'forese', 'foreshadow', 'foresight', 'forest', 'foretel', 'forev', 'foreverbr', 'foreverwhen', 'foreverâ', 'forg', 'forget', 'forgett', 'forgiv', 'forgiven', 'forgivenessbr', 'forgot', 'forgotten', 'fork', 'forlani', 'forlorn', 'form', 'formal', 'formalist', 'format', 'formbr', 'former', 'formid', 'formula', 'forrest', 'forsaken', 'forster', 'forsyth', 'fort', 'forth', 'forti', 'fortinbra', 'fortuit', 'fortun', 'fortynin', 'forum', 'forward', 'forwardbr', 'forwardmov', 'foss', 'fossil', 'foster', 'fought', 'foul', 'foulmouth', 'found', 'foundat', 'foundbr', 'founder', 'foundi', 'fount', 'fountain', 'four', 'fourteen', 'fourth', 'fourthrat', 'fox', 'foxi', 'foxx', 'fraction', 'fractur', 'fragasso', 'fragil', 'fragment', 'fragrant', 'frail', 'frame', 'framework', 'franc', 'franchina', 'franchis', 'franchisebr', 'franci', 'francin', 'francinebr', 'franciosa', 'francisco', 'franciscu', 'franco', 'francoi', 'frank', 'frankenheim', 'frankenstein', 'franki', 'frankli', 'franklin', 'frantic', 'franz', 'franã§ois', 'fratern', 'fraticelli', 'fratlik', 'fraud35', 'fraught', 'fraulein', 'frawley', 'frazetta', 'frazettain', 'freak', 'freakedout', 'freaksbuy', 'fred', 'freddi', 'freder', 'fredi', 'free', 'freebr', 'freed', 'freedom', 'freeli', 'freeman', 'freemason', 'freemasonshowev', 'freespirit', 'freeway', 'freez', 'freezefram', 'freiberg', 'french', 'frenchbut', 'frenchman', 'frenchmen', 'frenet', 'frenzi', 'frequent', 'fresh', 'freshasadaisi', 'freshfac', 'freshli', 'freshman', 'fri', 'fricker', 'friction', 'friday', 'fridaysaturday', 'friend', 'friendbr', 'friendli', 'friendsbr', 'friendship', 'friendsitl', 'friendthoma', 'fright', 'frighten', 'frighteningli', 'frigjort', 'frill', 'frisch', 'frit', 'frog', 'frolic', 'frolick', 'frombr', 'front', 'frontal', 'frontier', 'frontsit', 'froth', 'frown', 'frozen', 'fruitless', 'frustrat', 'frybr', 'frã¤ulein', 'fu', 'fuel', 'fuelbr', 'fuent', 'fugit', 'fuji', 'fulci', 'fulfil', 'full', 'fuller', 'fullfac', 'fullfront', 'fulli', 'fulllength', 'fullscal', 'fullservic', 'fullthrottl', 'fun', 'funbr', 'function', 'fund', 'fundament', 'fundrais', 'funer', 'funeralbr', 'funfil', 'funki', 'funlov', 'funmayb', 'funni', 'funnier', 'funniest', 'funnybr', 'funnyi', 'funnyin', 'funposs', 'fur', 'furi', 'furiou', 'furlong', 'furnitur', 'furri', 'furrier', 'furtado', 'furthermor', 'fuse', 'fuselag', 'fusion', 'futil', 'futon', 'futur', 'futurebr', 'futureworld', 'futurist', 'fuzz', 'fuzzi', 'fword', 'fx', 'fxthe', 'fym', 'g', 'ga', 'gabbi', 'gabl', 'gableact', 'gabriel', 'gackt', 'gadar', 'gael', 'gaff', 'gaffer', 'gag', 'gage', 'gaggl', 'gahagan', 'gail', 'gailard', 'gain', 'gainax', 'gainey', 'gal', 'galaxi', 'galaxina', 'gale', 'gall', 'gallipoli', 'galor', 'gambl', 'gambler', 'game', 'gamebr', 'gameshow', 'gamin', 'gamut', 'gandalf', 'gandhi', 'gang', 'gangrap', 'gangsta', 'gangster', 'gangstersth', 'gannex', 'gantri', 'ganz', 'gaol', 'gap', 'gape', 'garag', 'garai', 'garante', 'garbag', 'garbagebr', 'garbagemouth', 'garber', 'garbl', 'garbo', 'garcia', 'gard', 'garden', 'gardin', 'garfield', 'garfunkel', 'gari', 'garland', 'garment', 'garner', 'garofalo', 'garofolo', 'garrett', 'garri', 'gasmann', 'gasolin', 'gasp', 'gate', 'gather', 'gatto', 'gauch', 'gauntlet', 'gauzebr', 'gave', 'gay', 'gayest', 'gaynigg', 'gaze', 'gazel', 'gazzara', 'gbr', 'gear', 'gedd', 'geddi', 'geek', 'geeki', 'gees', 'geico', 'geisha', 'gel', 'geld', 'gell', 'gem', 'gen', 'gena', 'gender', 'gene', 'gener', 'generousbr', 'generoustrit', 'genet', 'geni', 'genit', 'geniu', 'genius', 'genr', 'genrebr', 'genremixtur', 'genreâ\\x80\\x99', 'gent', 'genteel', 'gentl', 'gentleman', 'gentli', 'genuin', 'geoffrey', 'geologist', 'georg', 'georgia', 'gerald', 'gerard', 'german', 'germanbr', 'germani', 'germanspeak', 'germanybi', 'germanybr', 'gershwin', 'gestur', 'get', 'getaway', 'getbr', 'getgo', 'gft', 'ghandi', 'ghastli', 'ghetto', 'ghettois', 'ghibli', 'ghod', 'ghost', 'ghostli', 'ghostwritten', 'ghouli', 'ghoulish', 'gi', 'giallo', 'giallothril', 'giancarlo', 'giannini', 'giant', 'gibson', 'giddi', 'gielgud', 'gifford', 'gift', 'giggl', 'gigli', 'gigolo', 'gilford', 'gill', 'gilley', 'gilliam', 'gilligan', 'gimmick', 'gimmicki', 'gimmickladen', 'gin', 'gina', 'ginger', 'giovanni', 'girl', 'girland', 'girlbr', 'girlfriend', 'girlgirl', 'girli', 'girlish', 'girlishlook', 'girlsbr', 'gish', 'gist', 'give', 'given', 'giver', 'glad', 'gladiat', 'gladiatori', 'gladli', 'glamor', 'glanc', 'glare', 'glaringli', 'glass', 'glaswegian', 'glaucoma', 'glean', 'glee', 'gleeson', 'glen', 'glenda', 'glengarri', 'glenn', 'glimmer', 'glimps', 'glims', 'gliss', 'glitch', 'glitter', 'glitz', 'global', 'globe', 'glori', 'gloria', 'glorif', 'glorifi', 'gloriou', 'gloss', 'glossi', 'glove', 'glover', 'glow', 'glu', 'glue', 'gmen', 'go', 'goal', 'goalbr', 'goalse', 'goat', 'gob', 'gobr', 'god', 'godaw', 'godbr', 'goddess', 'godfath', 'godfrey', 'godless', 'godlik', 'godmoth', 'godzilla', 'goe', 'goebbel', 'goeffrey', 'goer', 'goin', 'goingbr', 'goivern', 'gojo', 'gold', 'goldberg', 'goldbr', 'golddigg', 'golden', 'goldfish', 'goldi', 'goldsmith', 'goldstein', 'goldsworthi', 'golf', 'golfer', 'golina', 'gondek', 'gone', 'gong', 'gonna', 'gonzal', 'goo', 'good', 'goodand', 'goodbr', 'goodbut', 'gooddon', 'goodeitherand', 'goodheart', 'goodi', 'goodman', 'goodnatur', 'goodnight', 'goodon', 'goodspeak', 'goodth', 'goodwil', 'goof', 'goofbal', 'goofi', 'goofiest', 'googl', 'gook', 'goos', 'goosier', 'gordon', 'gore', 'gorefest', 'goreless', 'gorg', 'gorgeou', 'gori', 'gorier', 'gorilla', 'goro', 'gosh', 'gospel', 'gossett', 'gossip', 'got', 'goten', 'goth', 'gotham', 'gothenburg', 'gothic', 'goto', 'gotta', 'gotten', 'gottschalk', 'gouald', 'gover', 'govern', 'governmentmedia', 'governorscivil', 'govind', 'govinda', 'govt', 'gown', 'goya', 'gp', 'grab', 'grabl', 'grace', 'graceland', 'gracen', 'graci', 'grade', 'grader', 'gradi', 'gradual', 'graduat', 'graffiti', 'graft', 'graham', 'grail', 'grain', 'graini', 'grammat', 'grand', 'grandbr', 'granddaught', 'granddaughterbr', 'grandfath', 'grandin', 'grandmammi', 'grandmoth', 'grandn', 'grandpa', 'grandson', 'granger', 'granni', 'grant', 'grape', 'grapefruit', 'graphic', 'grappl', 'grasp', 'grass', 'grate', 'gratefulbr', 'grater', 'gratif', 'gratuit', 'grave', 'gravesbr', 'graveyard', 'graviti', 'gray', 'grayson', 'graze', 'greas', 'great', 'greatbr', 'greater', 'greatest', 'greatli', 'greatlook', 'greec', 'greed', 'greedi', 'greek', 'green', 'greenaway', 'greeney', 'greengrass', 'greenhorn', 'greenhous', 'greenlight', 'greenquist', 'greenwood', 'greet', 'greg', 'gregori', 'grenad', 'grendel', 'greta', 'gretchen', 'grew', 'grey', 'grieco', 'griecorexdead', 'grief', 'griegbr', 'grier', 'griev', 'griffin', 'griffith', 'grifter', 'grim', 'grimac', 'grimi', 'grimli', 'grimyshadowi', 'grin', 'grinchuckl', 'grind', 'grindhous', 'grip', 'gripe', 'griselda', 'grisli', 'grit', 'gritti', 'grittier', 'grizzli', 'groanbr', 'groaninduc', 'groceri', 'grodin', 'groom', 'groov', 'groovi', 'groovin', 'gross', 'grossli', 'grotesqu', 'grotti', 'ground', 'groundbreak', 'groundhog', 'groundswel', 'group', 'groupbr', 'grow', 'growl', 'grown', 'growth', 'grrrr', 'grub', 'grudg', 'grudgingli', 'gruel', 'gruesom', 'gruff', 'grungi', 'guadalcan', 'guarante', 'guard', 'guardboth', 'guardian', 'guerrilla', 'guess', 'guessbr', 'guest', 'gueul', 'guff', 'guid', 'guidanc', 'guilt', 'guiltdriven', 'guilti', 'guiltridden', 'guin', 'guiness', 'guinesss', 'guinever', 'guinn', 'guitar', 'gullibl', 'gulzar', 'gum', 'gump', 'gumption', 'gun', 'gunbr', 'gunbust', 'guncontrol', 'gundam', 'gunfight', 'gunfir', 'gung', 'gunga', 'gungho', 'gunmen', 'gunn', 'gunner', 'gunplay', 'gunpoint', 'gunshot', 'gunsling', 'guntot', 'gurn', 'gurnemanz', 'gurney', 'guru', 'gush', 'gushi', 'gusto', 'gut', 'gutless', 'guttenberg', 'gutter', 'guy', 'guybr', 'guysand', 'guzman', 'gwangi', 'gwen', 'gwizdo', 'gwyneth', 'gwynn', 'gymnastix', 'gyneth', 'gyppo', 'gypsi', 'gyspi', 'gã©dã©on', 'gã©rard', 'h', 'ha', 'habit', 'habitu', 'hack', 'hackman', 'hada', 'hadleyvil', 'hadnt', 'hagerthi', 'haggard', 'haggerti', 'haha', 'hai', 'haiduk', 'haig', 'haiku', 'hailston', 'hain', 'hair', 'hairbad', 'haircut', 'hairdo', 'hairi', 'hairlin', 'hairrais', 'hairspray', 'hajj', 'hal', 'halal', 'hale', 'half', 'halfass', 'halfbre', 'halfdocumentaryand', 'halfdozen', 'halfeduc', 'halfexpect', 'halfhazzard', 'halfhour', 'halfnak', 'halfpint', 'halfutt', 'halfway', 'hall', 'hallelujah', 'halliday', 'hallmark', 'halloran', 'halloween', 'hallucin', 'hallucinationbr', 'halmark', 'halperin', 'halsslag', 'halt', 'halv', 'ham', 'hamburg', 'hamfist', 'hamil', 'hamilton', 'hamlet', 'hamlisch', 'hamliton', 'hammer', 'hammerhead', 'hammett', 'hammi', 'hamper', 'hampton', 'hand', 'handed', 'handheld', 'handi', 'handicap', 'handl', 'handler', 'handlerbr', 'handsbr', 'handsdown', 'handshak', 'handsom', 'handswel', 'handwa', 'hang', 'hangoutsbr', 'hangov', 'hank', 'hanlon', 'hannah', 'hanson', 'haphazardli', 'happen', 'happenbr', 'happensbr', 'happenst', 'happi', 'happier', 'happili', 'happilyeveraft', 'happybr', 'happygoluck', 'har', 'harangu', 'harass', 'harbor', 'hard', 'hardboil', 'hardbr', 'hardbrawl', 'hardcas', 'hardcor', 'hardcov', 'harddrink', 'hardearn', 'harden', 'harder', 'hardest', 'hardesti', 'hardhit', 'hardi', 'hardli', 'hardpress', 'hardship', 'hardshipbr', 'hardwork', 'hardyz', 'harem', 'hark', 'harkss', 'harlan', 'harlem', 'harlequin', 'harley', 'harlin', 'harlow', 'harm', 'harmless', 'harmlessli', 'harmon', 'harmoni', 'harold', 'harp', 'harri', 'harriet', 'harrington', 'harrison', 'harrold', 'harron', 'harrow', 'harsh', 'hart', 'hartley', 'haruhiko', 'harvest', 'harvey', 'haryanavi', 'haryanvi', 'hasan', 'hasbr', 'hasek', 'haskel', 'hasnt', 'hasselhoff', 'hassl', 'hast', 'hat', 'hatbr', 'hatch', 'hatcher', 'hate', 'hater', 'hath', 'hatless', 'hatr', 'hatstand', 'hatwear', 'haun', 'haunt', 'hauser', 'havebr', 'havefortun', 'havent', 'haver', 'havoc', 'hawaii', 'hawaiian', 'hawk', 'hawkiand', 'hawn', 'hawthorn', 'hay', 'hayden', 'haydon', 'hayse', 'hayward', 'hazar', 'hazel', 'hbo', 'hbohollywood', 'he', 'head', 'headach', 'headlight', 'headlin', 'headmast', 'headoverheel', 'headquart', 'headshak', 'headshrink', 'headstrong', 'health', 'healthbr', 'healthi', 'heap', 'hear', 'heard', 'hears', 'heart', 'hearta', 'heartbreak', 'heartdiseas', 'hearted', 'heartfelt', 'hearti', 'heartili', 'heartless', 'heartstr', 'heartthrob', 'heartwarm', 'heartwrench', 'heat', 'heath', 'heaven', 'heavenli', 'heavenor', 'heavi', 'heavili', 'heavyhand', 'heavyweight', 'hebr', 'hebrew', 'heck', 'hector', 'hed', 'heder', 'hedi', 'hedlund', 'hedonist', 'hedwig', 'heed', 'heel', 'heidelberg', 'heider', 'height', 'heighten', 'heigl', 'heinlein', 'heir', 'heiress', 'heist', 'held', 'helen', 'helena', 'helicopt', 'hell', 'hellbent', 'heller', 'hellionbr', 'hellish', 'hellman', 'hello', 'helm', 'helmer', 'helmet', 'helmuth', 'help', 'helpbr', 'helper', 'helperguideprotectorbr', 'helpless', 'helsig', 'hem', 'heman', 'hemi', 'hemispher', 'hemorrhag', 'henc', 'henchman', 'henchmen', 'hendri', 'hendrix', 'henna', 'hennenlott', 'henner', 'hennessi', 'henri', 'hentai', 'heorot', 'hepburn', 'herald', 'herbert', 'herbi', 'herbr', 'herd', 'here', 'herealthough', 'hereand', 'herebr', 'herebut', 'herehi', 'herein', 'heret', 'herfamili', 'heritag', 'herman', 'hermann', 'hermit', 'hernandez', 'hernyre', 'hero', 'heroheroin', 'heroic', 'heroin', 'herren', 'herselfbr', 'herselfsh', 'hershey', 'hersheyâ\\x80\\x99', 'herwhich', 'herzog', 'hesit', 'hesseman', 'hessian', 'heston', 'hestonâ\\x80\\x99', 'heterosexu', 'hewittdress', 'hewlett', 'hey', 'heyday', 'heâ\\x80\\x99', 'hg', 'hhh', 'hi', 'hi8', 'hickcockcodi', 'hickok', 'hickox', 'hidden', 'hide', 'hideaki', 'hideou', 'hideous', 'hidesbr', 'higginbotham', 'high', 'higham', 'highbrow', 'highclass', 'highcontact', 'higher', 'higherpraisecom', 'highest', 'highjack', 'highjinx', 'highland', 'highli', 'highlight', 'highlightbr', 'highliv', 'highlyannoy', 'highpitch', 'highpoint', 'highpow', 'highprofil', 'highqual', 'highris', 'highschool', 'highstonedpass', 'hight', 'hightech', 'hightow', 'highvot', 'highway', 'higuchi', 'hijack', 'hike', 'hilar', 'hilari', 'hilariousbr', 'hilarioussometim', 'hill', 'hillari', 'hillbilli', 'hillbillieslik', 'hillbr', 'hillerman', 'hillyer', 'hilt', 'hilton', 'himalaya', 'himalayan', 'himar', 'himbr', 'himesh', 'himselfbr', 'himâ', 'hind', 'hindi', 'hindsight', 'hindu', 'hine', 'hing', 'hingl', 'hinson', 'hint', 'hip', 'hiphop', 'hippi', 'hippiest', 'hire', 'hisher', 'hisi', 'hiss', 'histor', 'histori', 'historian', 'historyand', 'historyso', 'histrion', 'hit', 'hitchcock', 'hitchhik', 'hitech', 'hitgirl', 'hitherto', 'hitler', 'hitlerbr', 'hitman', 'hiv', 'hiyao', 'hjm', 'hk', 'hmmbr', 'ho', 'hoard', 'hoaxbr', 'hobbi', 'hobgoblin', 'hocuspocu', 'hodet', 'hofeu', 'hoffman', 'hogan', 'hogg', 'hogu', 'hohum', 'hokey', 'hokum', 'hold', 'holden', 'hole', 'holebr', 'holesscrew', 'holi', 'holiday', 'holidaythem', 'holierthanth', 'holland', 'holli', 'holliday', 'hollow', 'hollwood', 'hollyoak', 'hollyweird', 'hollywood', 'hollywoodbollywood', 'holm', 'holocaust', 'holt', 'holtneil', 'homag', 'home', 'homeland', 'homeless', 'homem', 'homer', 'homesick', 'hometown', 'homevideo', 'homework', 'homey', 'homicid', 'homo', 'homoer', 'homoerot', 'homoh', 'homophob', 'homophobia', 'homophobicbr', 'homosexu', 'hone', 'honest', 'honestbutpoor', 'honesti', 'honestli', 'honeycomb', 'honeymoon', 'hong', 'hongmei', 'honki', 'honkong', 'honolulu', 'honor', 'hood', 'hoodlum', 'hooey', 'hoofer', 'hook', 'hooker', 'hookup', 'hoon', 'hoop', 'hooper', 'hooray', 'hoot', 'hoover', 'hop', 'hope', 'hopeless', 'hopelessli', 'hopkin', 'hopper', 'horizon', 'hormon', 'horn', 'horni', 'horrend', 'horrendouslybr', 'horribl', 'horribleth', 'horrid', 'horrif', 'horrifi', 'horror', 'horrorgoreexploit', 'horrorscifi', 'horrorthril', 'hors', 'horsebr', 'horsecoach4hirehotmailcom', 'horsecocki', 'horton', 'horu', 'hose', 'hospit', 'hospitalwhi', 'host', 'hostag', 'hostel', 'hostess', 'hostil', 'hot', 'hotcha', 'hotdog', 'hotel', 'hotrod', 'hotter', 'hottest', 'hotti', 'hotwat', 'hound', 'houndbr', 'hour', 'hourlong', 'hoursmost', 'hous', 'houseboat', 'houseguest', 'household', 'housemaid', 'houseman', 'housesitt', 'housew', 'housewif', 'houston', 'hovel', 'hoven', 'hover', 'howard', 'howbut', 'howev', 'howeverbr', 'howi', 'howl', 'howler', 'howlingli', 'hp', 'hq', 'hr', 'hrabal', 'httprateyourmusiccomfedor8', 'hubba', 'huddl', 'hue', 'huey', 'huff', 'huffman', 'huge', 'hugh', 'hugo', 'huh', 'hulbert', 'hulc', 'hulk', 'hull', 'hulu', 'hum', 'human', 'humananim', 'humanist', 'humanitarian', 'humanlik', 'humansbr', 'humansc', 'humbl', 'humdrum', 'humili', 'hummabl', 'humong', 'humor', 'humorbr', 'humour', 'humourbr', 'humphrey', 'humphri', 'hundr', 'hundstag', 'hung', 'hungarian', 'hungri', 'hunk', 'hunki', 'hunt', 'hunter', 'huntersmust', 'hur', 'hurl', 'hurri', 'hurt', 'husband', 'husbandbr', 'huski', 'hussey', 'hustler', 'huston', 'hut', 'hutt', 'huzoor', 'hy', 'hybrid', 'hyde', 'hyena', 'hymn', 'hype', 'hyperbol', 'hyperr', 'hyperrealist', 'hyperstyl', 'hypnot', 'hypocrisi', 'hypocrit', 'hypothermia', 'hypothesi', 'hyster', 'ian', 'ibsen', 'ic', 'ice', 'iceland', 'icelord', 'icet', 'ichikawa', 'ici', 'icon', 'icycold', 'id', 'idaho', 'ide', 'idea', 'ideabr', 'ideal', 'ident', 'identifi', 'idioci', 'idiosyncrat', 'idiot', 'idl', 'idol', 'idyl', 'idã©', 'ie', 'ifan', 'ifbr', 'ignit', 'ignor', 'igor', 'ii', 'iii', 'iiunhappi', 'ikiru', 'il', 'ilan', 'iliad', 'ilk', 'ill', 'illateas', 'illbehav', 'illconceiv', 'illeg', 'illfat', 'illlaid', 'illmann', 'illog', 'illresearch', 'illumin', 'illus', 'illustr', 'illustri', 'im', 'imag', 'imageri', 'imagesbr', 'imagin', 'imaginationless', 'imaginedi', 'imanol', 'imbu', 'imdb', 'imdbcom', 'imgoingtoshootthepresjusttoimpressjodifosterfanat', 'imho', 'imit', 'imitationsbr', 'immaculatea', 'immatur', 'immedi', 'immens', 'immers', 'immigr', 'immor', 'immort', 'immun', 'imo', 'imotep', 'impact', 'impair', 'impal', 'impass', 'impati', 'impecc', 'impedimenta', 'impend', 'imper', 'imperfect', 'imperi', 'imperson', 'implaus', 'implement', 'impli', 'implic', 'implicit', 'implos', 'import', 'importantli', 'imposs', 'impot', 'impress', 'impressionbr', 'impressionistera', 'impressivelook', 'improb', 'impromptu', 'improv', 'improvis', 'impuls', 'imri', 'inabl', 'inaccur', 'inaccuraci', 'inact', 'inadequ', 'inadvert', 'inadvis', 'inamdar', 'inan', 'inaneit', 'inappropri', 'inaud', 'inaugur', 'inauthent', 'inbr', 'inc', 'incap', 'incarn', 'incent', 'incept', 'incess', 'incest', 'incestu', 'inch', 'incid', 'incident', 'incidentbr', 'incit', 'includ', 'includedbr', 'inclus', 'incoher', 'incompar', 'incompet', 'incomprehens', 'incomprehensiblebr', 'inconceiv', 'inconclus', 'incongru', 'inconsequenti', 'inconsist', 'inconsistentbr', 'inconsisti', 'inconveni', 'incorrect', 'incorrig', 'increas', 'increasingli', 'incred', 'incrediblejust', 'incredul', 'inde', 'indecipher', 'indeedbr', 'indel', 'independ', 'independentmind', 'indepth', 'indescrib', 'index', 'indi', 'india', 'indiaa', 'indiabr', 'indian', 'indiana', 'indic', 'indict', 'indiffer', 'indifferencebr', 'indign', 'indirect', 'indiscern', 'indiscret', 'indistinguish', 'individu', 'individualbr', 'indol', 'induc', 'indulg', 'industri', 'inebri', 'inebriationbr', 'ineffectu', 'inept', 'ineptbr', 'ineptitud', 'ineptitudebr', 'ineptli', 'inert', 'inevit', 'inexcus', 'inexperi', 'inexperienc', 'inexplic', 'infam', 'infamousbr', 'infanc', 'infant', 'infanticid', 'infantil', 'infatu', 'infect', 'infecti', 'infectiousbr', 'infer', 'inferior', 'infern', 'inferno', 'infidel', 'infin', 'infinit', 'infinitum', 'infinity10', 'inflat', 'inflexibleand', 'inflict', 'influenc', 'info', 'inforget', 'inform', 'infrequ', 'infus', 'ingeni', 'ingeniousbr', 'ingenu', 'ingenuousbr', 'ingest', 'ingmar', 'ingram', 'ingredi', 'ingrid', 'inhabit', 'inher', 'inherit', 'inhibit', 'inhuman', 'ini', 'inimit', 'initi', 'inject', 'injur', 'injuri', 'injustic', 'ink', 'inmat', 'inn', 'innapropri', 'innat', 'inner', 'innoc', 'innov', 'innovativebr', 'innuendo', 'inocul', 'inpenetr', 'insan', 'insati', 'insect', 'insecur', 'insert', 'insid', 'insight', 'insignific', 'insinu', 'insipid', 'insist', 'insomnia', 'insomniac', 'inspect', 'inspector', 'inspectorcan', 'inspectorelectrocut', 'inspectorthat', 'inspir', 'instal', 'instanc', 'instancebr', 'instant', 'instantli', 'instead', 'insteadbr', 'instil', 'instinct', 'institut', 'institutionalis', 'instruct', 'instructor', 'instrument', 'insuffer', 'insult', 'insultingbr', 'insur', 'integr', 'intellect', 'intellectu', 'intellectualwannab', 'intellig', 'intelligentsia', 'intend', 'intens', 'intenseneurot', 'intensifi', 'intensitybr', 'intent', 'intentionalsp', 'intentionsi', 'intentionsnam', 'interact', 'intercept', 'interceptor', 'interchang', 'intercontinent', 'intercours', 'intercut', 'interest', 'interestig', 'interestingbr', 'interestingi', 'interestingli', 'interfer', 'interior', 'interlud', 'intermin', 'intermitt', 'intern', 'internet', 'interplay', 'interpos', 'interpret', 'interrog', 'interrupt', 'interspers', 'intertwin', 'interv', 'intervenesbr', 'intervent', 'interview', 'interviewbr', 'interviewe', 'interweav', 'intestin', 'intim', 'intimaci', 'intoler', 'inton', 'intric', 'intricaci', 'intrigu', 'intrins', 'intro', 'introduc', 'introduct', 'introspect', 'introvert', 'intrus', 'intuit', 'invad', 'invalid', 'invalu', 'invari', 'invas', 'invent', 'inventor', 'invers', 'invest', 'investig', 'investigatorbr', 'investigatori', 'investor', 'invetig', 'invinc', 'invis', 'invit', 'invok', 'involv', 'involvedbr', 'involvedwhich', 'invulner', 'inyourfac', 'inâ', 'iq', 'ira', 'irancontra', 'iranian', 'iraq', 'irasc', 'ireland', 'iren', 'irish', 'irishman', 'iron', 'ironi', 'ironsid', 'ironybr', 'irrat', 'irration', 'irreconcil', 'irrefut', 'irrelev', 'irrepress', 'irresist', 'irrespect', 'irrespons', 'irrever', 'irrevers', 'irrit', 'irritatingespeci', 'irvin', 'irwin', 'isabel', 'isabella', 'isar', 'isbnt', 'isbr', 'ish', 'ishotthisonmycamcord', 'ishtar', 'isl', 'islam', 'island', 'ismani', 'isnt', 'isntbr', 'isol', 'isoyg', 'isra', 'israel', 'issu', 'istanbul', 'istead', 'isth', 'ita', 'itali', 'italian', 'itand', 'itbr', 'itch', 'itd', 'item', 'iterpret', 'iti', 'itif', 'itll', 'itsecond', 'itselfbr', 'itsit', 'itslow', 'itsterr', 'itth', 'itthey', 'ittil', 'itto', 'iturbi', 'itâ', 'itâ´', 'ivan', 'ivay', 'ive', 'ivi', 'ivori', 'ix', 'izzard', 'j', 'jab', 'jabba', 'jabber', 'jack', 'jackass', 'jackdanieltealcand', 'jacket', 'jacki', 'jackman', 'jackson', 'jacqu', 'jada', 'jade', 'jaff', 'jaffa', 'jag', 'jagger', 'jaguar', 'jai', 'jail', 'jailbr', 'jaim', 'jake', 'jam', 'jame', 'jameson', 'jami', 'jan', 'jane', 'janean', 'janet', 'janetti', 'jani', 'janitor', 'janmichael', 'jano', 'janowski', 'jap', 'japan', 'japanbr', 'japanes', 'jar', 'jare', 'jarmusch', 'jarndyc', 'jason', 'jaw', 'jawdrop', 'jay', 'jayhawk', 'jayhawkersetc', 'jazz', 'jazzbr', 'jazzi', 'jbl', 'jealou', 'jealousi', 'jean', 'jeanett', 'jeanloui', 'jeannot', 'jeanpierr', 'jeansonjanson', 'jed', 'jedna', 'jeep', 'jeff', 'jefferson', 'jeffrey', 'jelli', 'jenna', 'jennif', 'jeopard', 'jeremi', 'jerile', 'jerk', 'jerker', 'jerki', 'jeroen', 'jerri', 'jersey', 'jess', 'jessica', 'jessup', 'jesu', 'jet', 'jettison', 'jew', 'jewbr', 'jewel', 'jewelri', 'jewish', 'jfk', 'jhorror', 'jim', 'jimbo', 'jimmi', 'jin', 'jo', 'joan', 'joann', 'joanna', 'joao', 'job', 'jobbr', 'jobless', 'jobson', 'jock', 'jockey', 'jodi', 'jodorowski', 'joe', 'joel', 'joey', 'johansson', 'john', 'johni', 'johnni', 'johnson', 'join', 'joint', 'joke', 'joker', 'joki', 'joli', 'jolli', 'jon', 'jonah', 'jonathan', 'jonathon', 'jone', 'jonesbr', 'joplin', 'jordan', 'jorg', 'jorgen', 'jose', 'joseph', 'josephin', 'josh', 'josi', 'joss', 'jouanneau', 'jourexcept', 'journal', 'journalist', 'journey', 'journeyman', 'jouvet', 'jouvetarletti', 'jovi', 'jox', 'joy', 'joybr', 'joyc', 'jr', 'jrit', 'juan', 'juanita', 'juarez', 'jubil', 'jucier', 'judd', 'judder', 'jude', 'judebr', 'judg', 'judgement', 'judgment', 'judi', 'judmila', 'judson', 'juic', 'juiv', 'jule', 'juli', 'julia', 'julian', 'juliet', 'julio', 'jumbl', 'jump', 'jumpbutton', 'jumpi', 'jumpinyourseat', 'jumpstart', 'jun', 'june', 'jungfreud', 'jungl', 'junglebr', 'junior', 'junk', 'junker', 'juon', 'jurass', 'jurgen', 'juri', 'jurisdict', 'justadequ', 'justic', 'justicebr', 'justif', 'justifi', 'justin', 'juvenil', 'juvenilitybr', 'juxtapos', 'juxtaposit', 'jã©rã©mie', 'k', 'kabir', 'kader', 'kaffein', 'kahn', 'kaif', 'kaley', 'kamal', 'kamala', 'kamar', 'kane', 'kansa', 'kaplan', 'kapoor', 'kapuretcand', 'kar', 'kara', 'karat', 'karen', 'karin', 'karl', 'karla', 'karloff', 'karn', 'karo', 'kart', 'karyn', 'kasadya', 'kasam', 'kasem', 'kate', 'katelyn', 'katey', 'kathaupanishad', 'katherin', 'kathi', 'kathleen', 'kathryn', 'kati', 'katja', 'katzman', 'kavner', 'kay', 'kazan', 'kazihiro', 'kazumi', 'ke', 'keaton', 'keatonlik', 'keeler', 'keen', 'keener', 'keep', 'keeper', 'keeperbr', 'kegg', 'keira', 'keitel', 'keith', 'kel', 'kell', 'kelli', 'kelso', 'ken', 'kendrick', 'kennedi', 'kenneth', 'kentucki', 'kept', 'kerri', 'kerwin', 'ketchup', 'keusch', 'kevin', 'key', 'keyboard', 'keysbr', 'keyston', 'kfc', 'khan', 'kick', 'kickbox', 'kickbr', 'kicker', 'kid', 'kidbr', 'kiddi', 'kiddingbr', 'kiddish', 'kiddo', 'kidhero', 'kidnap', 'kidnapp', 'kidsaft', 'kidsbr', 'kiera', 'kierlaw', 'kikki', 'kiley', 'kilkenni', 'kill', 'kill80', 'killedbr', 'killedslashedeaten', 'killer', 'killerbr', 'killersbr', 'killian', 'killingbr', 'kilt', 'kilter', 'kim', 'kimberli', 'kimiko', 'kin', 'kind', 'kinda', 'kinder', 'kindli', 'kindr', 'kindther', 'king', 'kingbr', 'kingdom', 'kingi', 'kingpin', 'kingsiz', 'kingsley', 'kink', 'kinki', 'kinnear', 'kino', 'kinski', 'kipl', 'kirk', 'kirsten', 'kiss', 'kit', 'kitagawa', 'kitamura', 'kitchen', 'kite', 'kitsch', 'kitschi', 'kitten', 'kitti', 'kiwi', 'klan', 'klass', 'klaus', 'kleban', 'klein', 'kleinman', 'klimt', 'klugman', 'klux', 'knack', 'knacker', 'knappertsbusch', 'knee', 'knew', 'knife', 'knight', 'knightleti', 'knightley', 'knightli', 'knit', 'knive', 'knock', 'knockabout', 'knockdown', 'knockoff', 'knockout', 'knot', 'know', 'knowbr', 'knowh', 'knowingli', 'knowital', 'knowledg', 'known', 'knownantholog', 'knownoth', 'knox', 'knuckl', 'knuckledup', 'knucklefac', 'kobayaski', 'kochak', 'koichiro', 'koko', 'kombat', 'kong', 'kongbr', 'konishita', 'kooki', 'kor', 'korea', 'korean', 'kornbluth', 'korot', 'kotto', 'kowalski', 'krabb', 'krabbã©', 'kramer', 'krauseto', 'kretschmann', 'kri', 'krige', 'kristen', 'kristi', 'kristin', 'kristina', 'krueger', 'kruger', 'krupa', 'ku', 'kubrick', 'kudo', 'kuei', 'kum', 'kumar', 'kumari', 'kundera', 'kung', 'kungfu', 'kungfubr', 'kurosawa', 'kurosawasbr', 'kurt', 'kusturica', 'kwiknez', 'kyle', 'kyoto', 'kã¶ln', 'l', 'la', 'lab', 'laba', 'label', 'labeoufchristina', 'labor', 'laboratori', 'labori', 'labour', 'labr', 'labrun', 'labyrinth', 'lace', 'lacer', 'lacey', 'lack', 'lackadais', 'lackey', 'lacklust', 'lacon', 'lad', 'ladder', 'ladenbr', 'ladi', 'ladybugâ´', 'ladykil', 'ladylov', 'laemle', 'lafont', 'lag', 'lage', 'lager', 'lago', 'lagoonbr', 'lagosi', 'lagrima', 'laid', 'laidback', 'lair', 'laird', 'lake', 'lam', 'lama', 'lamarr', 'lamb', 'lambert', 'lame', 'lamebr', 'lamenessbr', 'lament', 'lamest', 'lamont', 'lamp', 'lampoon', 'lanc', 'land', 'landau', 'landi', 'landlord', 'lando', 'landscap', 'lane', 'lang', 'languag', 'languageparl', 'languid', 'languish', 'lanki', 'lans', 'lanza', 'lapain', 'lapd', 'laps', 'laputa', 'lara', 'larg', 'larger', 'largerthanlif', 'largescal', 'larissa', 'lark', 'larraz', 'larri', 'lascivi', 'laser', 'lash', 'lassallea', 'last', 'lastim', 'lastli', 'lastminut', 'lata', 'late', 'latebr', 'lateesha', 'lateil', 'latenight', 'later', 'laterbr', 'latest', 'latex', 'latham', 'latin', 'latina', 'latino', 'latitud', 'lattanzi', 'latter', 'latterbr', 'latterday', 'lau', 'laudabl', 'laugh', 'laughabl', 'laughablebr', 'laughbr', 'laughinduc', 'laughsbr', 'laughsveri', 'laughswheth', 'laughter', 'laughton', 'launch', 'launcher', 'launcherbr', 'launder', 'laundri', 'laura', 'laurel', 'lauren', 'laurenc', 'lauri', 'lavend', 'lavish', 'law', 'lawari', 'lawler', 'lawless', 'lawman', 'lawn', 'lawrenc', 'lawyer', 'lay', 'layabout', 'layer', 'layeredbr', 'layla', 'layout', 'lazar', 'lazi', 'lazili', 'lazybr', 'lb', 'lcc', 'ld', 'le', 'leachman', 'lead', 'leadbr', 'leaden', 'leader', 'leaderbr', 'leadership', 'leadin', 'leaf', 'leagu', 'leak', 'lean', 'leap', 'learn', 'learnbr', 'learnedbr', 'learner', 'learnt', 'leas', 'leashbr', 'least', 'leastbr', 'leastdirector', 'leasti', 'leasur', 'leather', 'leatric', 'leaud', 'leav', 'leavesbr', 'lebrockbr', 'lebrun', 'lecarr', 'lecouvreur', 'lectur', 'led', 'lee', 'leedeliv', 'leer', 'leeth', 'left', 'lefthook', 'leg', 'legaci', 'legal', 'legend', 'legendari', 'legendarili', 'legendth', 'legerdemain', 'legion', 'legitim', 'lei', 'leia', 'leigh', 'leisur', 'leitmotif', 'lelisir', 'lemmon', 'lemorand', 'lena', 'lend', 'lendleas', 'lenfant', 'length', 'lengthi', 'leno', 'lens', 'lenser', 'lent', 'lentleas', 'leo', 'leon', 'leonard', 'leonardo', 'leopold', 'lesbian', 'lesli', 'less', 'lessbr', 'lessen', 'lesser', 'lesson', 'lessongiv', 'lessthananhour', 'lest', 'lester', 'let', 'letdown', 'letdownbr', 'lethal', 'leticia', 'letitallhangout', 'letsuseamidgetinadreamscen', 'letter', 'lettieri', 'levant', 'level', 'levelbr', 'levelhowev', 'levi', 'levin', 'levit', 'levittown', 'leway', 'lewd', 'lewi', 'lex', 'lexa', 'lhypothã¨s', 'li', 'liaison', 'liam', 'lianchu', 'liar', 'liber', 'liberalbr', 'libertarian', 'liberti', 'libertin', 'libido', 'librari', 'librarian', 'licens', 'lick', 'lie', 'lieh', 'lieuten', 'life', 'lifeaffirm', 'lifeand', 'lifebr', 'lifeforc', 'lifeinde', 'lifeless', 'lifelik', 'lifelong', 'liferaft', 'lifes', 'lifestyl', 'lifestyleof', 'lifethreaten', 'lifetim', 'lifeworth', 'lifshitz', 'lift', 'light', 'lightbr', 'lighten', 'lighter', 'lightheart', 'lighthous', 'lightli', 'lightshadow', 'lightweight', 'likabl', 'like', 'likeabl', 'likeand', 'likebehind', 'likebr', 'liken', 'likewel', 'likewis', 'lili', 'lilith', 'lilli', 'lillian', 'lilo', 'limb', 'limit', 'limitless', 'limp', 'lin', 'lina', 'lincoln', 'linda', 'linden', 'lindey', 'lindsay', 'lindsey', 'line', 'lineand', 'linebr', 'linebylin', 'lineread', 'linesnon', 'linesscenesrefer', 'linethat', 'lineup', 'ling', 'linger', 'lingo', 'linguin', 'linguist', 'liningbr', 'link', 'linklat', 'lion', 'lionel', 'lionswil', 'liotta', 'lip', 'lipman', 'lipstick', 'liqueur', 'liquid', 'liquor', 'lisa', 'lisett', 'lisola', 'lisp', 'list', 'listen', 'listit', 'lit', 'litel', 'liter', 'literari', 'literatur', 'literaturebr', 'lithgow', 'litman', 'litter', 'littl', 'littleeven', 'littlefield', 'littlest', 'litvak', 'liu', 'live', 'liveact', 'liven', 'liver', 'livesbr', 'livesey', 'liz', 'liza', 'lizzi', 'lk2', 'lloyd', 'lo', 'load', 'loafer', 'loan', 'loath', 'lobbi', 'local', 'localesexcel', 'locarno', 'locat', 'locatair', 'locationsbr', 'lock', 'locker', 'lockewho', 'lockhe', 'lodg', 'loeb', 'logan', 'logand', 'logic', 'logo', 'lohan', 'loi', 'loin', 'lol', 'lola', 'lolita', 'loma', 'lombard', 'lommel', 'london', 'lone', 'loneli', 'loner', 'long', 'longbr', 'longdelay', 'longer', 'longest', 'longev', 'longforgotten', 'longlimb', 'longoria', 'longrun', 'longso', 'longsuff', 'longtalk', 'longterm', 'longtim', 'longtoo', 'longueur', 'longunseen', 'longwind', 'look', 'lookin', 'lookingbr', 'lookout', 'looksbut', 'looney', 'loooong', 'loop', 'loophol', 'loopi', 'loos', 'loosen', 'loosethey', 'loot', 'looter', 'lord', 'lordbr', 'loren', 'lorenzo', 'loretta', 'lorn', 'lorna', 'lorr', 'lose', 'loser', 'losey', 'loss', 'lost', 'lostbr', 'lot', 'lotbr', 'lou', 'loud', 'loudbr', 'louder', 'loudim', 'loudli', 'loui', 'louie', 'louis', 'louisianan', 'louqu', 'lousi', 'lovabl', 'love', 'lovea', 'loveabl', 'lovebr', 'lovecraftian', 'lovecraftwhich', 'loveh', 'loveinterest', 'loveli', 'lovemak', 'loveofhislif', 'lover', 'loverbr', 'loversannabellaaumontth', 'lovestori', 'loveth', 'lovingli', 'lovitz', 'low', 'lowbudget', 'lowcost', 'lowel', 'lower', 'loweri', 'lowest', 'lowestr', 'lowkey', 'lowood', 'lowpoint', 'lowrent', 'loy', 'loyal', 'loyalti', 'lsd', 'lt', 'luau', 'lubitsch', 'luca', 'lucci', 'luci', 'lucia', 'lucid', 'lucien', 'lucil', 'lucio', 'luck', 'lucki', 'luckili', 'ludicr', 'ludicri', 'ludivin', 'ludvig', 'ludwig', 'luft', 'lug', 'luger', 'luggag', 'lugosi', 'lugubri', 'lui', 'luigi', 'luis', 'luka', 'luke', 'lukewarm', 'lull', 'lumber', 'lumet', 'luminariesbr', 'luna', 'lunat', 'lunch', 'lung', 'lungren', 'lupe', 'luqu', 'lurch', 'lure', 'lurid', 'luridli', 'lurk', 'lusciou', 'lush', 'lusitania', 'lust', 'lustbr', 'luster', 'lusti', 'luther', 'luv', 'luva', 'luxuri', 'luzhin', 'lydon', 'lynch', 'lynda', 'lynn', 'lynx', 'lyon', 'lyric', 'mac', 'macabr', 'macabracastl', 'macaulay', 'macbeth', 'macchesney', 'macdonald', 'macdougal', 'macgregor', 'macgyv', 'machacek', 'machett', 'machin', 'machineri', 'macho', 'macholik', 'maci', 'macinn', 'mack', 'mackendrick', 'maclachlan', 'macliammã³ir', 'maclindsay', 'macluhen', 'macmahon', 'macmurray', 'macra', 'macrab', 'mad', 'madcap', 'maddi', 'made', 'madebr', 'madefortv', 'madelein', 'madelin', 'madey', 'madhoff', 'madhubala', 'madhumati', 'madison', 'madli', 'madmen', 'madnessbr', 'madonna', 'madrig', 'madscientist', 'madsen', 'madsenbr', 'mae', 'mafia', 'mag', 'magazin', 'magazinesbr', 'maggi', 'maggot', 'magic', 'magician', 'magna', 'magnat', 'magnific', 'magnolia', 'magnu', 'magnum', 'magnuss', 'maguir', 'mahayana', 'mai', 'maid', 'maiden', 'mail', 'main', 'mainland', 'mainli', 'mainstay', 'mainstream', 'maintain', 'mainten', 'majest', 'majesti', 'major', 'make', 'maker', 'makersbr', 'makeup', 'makingbr', 'makingof', 'malais', 'malaprop', 'malco', 'malcolm', 'malden', 'male', 'maledomin', 'maleonli', 'malfunct', 'malici', 'malign', 'malik', 'mall', 'mallet', 'malon', 'maloney', 'mama', 'mamabr', 'mamet', 'mami', 'mammi', 'mammoth', 'man', 'manag', 'manbr', 'manchild', 'manchu', 'mandatori', 'mandel', 'mandi', 'mane', 'maneat', 'maneuv', 'mangeshkar', 'mangl', 'manhandl', 'manhat', 'manhattan', 'manhattanbr', 'mani', 'manic', 'manicur', 'manifest', 'manipul', 'mankind', 'manli', 'manmohan', 'mann', 'manner', 'mannerbr', 'mano', 'manonli', 'manor', 'mansfield', 'mansion', 'manson', 'mansonsmash', 'mantegna', 'mantl', 'mantra', 'manual', 'manuel', 'manufactur', 'manuscript', 'map', 'mar', 'marai', 'marathon', 'marc', 'march', 'marchbr', 'marcu', 'marg', 'margaret', 'margaretta', 'margher', 'margin', 'margo', 'mari', 'maria', 'mariag', 'mariann', 'mariett', 'marijuana', 'marilu', 'marilyn', 'marin', 'marina', 'mario', 'marion', 'marionett', 'marisa', 'marishka', 'marit', 'marita', 'mark', 'marker', 'market', 'marketplac', 'marketplacebr', 'marla', 'marle', 'marlen', 'marlon', 'marlow', 'marmaduk', 'marolla', 'maronna', 'marqui', 'marri', 'marriag', 'marrowsuckingli', 'marsh', 'marsha', 'marshal', 'marshmorton', 'marta', 'martel', 'martha', 'marti', 'martial', 'martian', 'martin', 'martindal', 'martinet', 'martino', 'marton', 'martyr', 'martyrdom', 'maru', 'marvel', 'marvin', 'marx', 'marxist', 'maryalic', 'masculin', 'mashup', 'mask', 'masksbr', 'masochist', 'mason', 'masquerad', 'mass', 'massachusett', 'massacr', 'massebr', 'massey', 'massimo', 'massiv', 'massmarket', 'mastana', 'master', 'masterpiec', 'masterpiecebr', 'masterserv', 'masterson', 'masterwork', 'mastroianni', 'mat', 'matador', 'match', 'matchbr', 'matchmak', 'mate', 'materi', 'materialbr', 'materialist', 'matern', 'math', 'mathematiciansbr', 'mathieu', 'mathieubr', 'matiss', 'matlin', 'matrix', 'matronli', 'matt', 'mattei', 'matter', 'matterand', 'matthau', 'matthew', 'matthia', 'mattia', 'matur', 'matureif', 'maudlin', 'maugham', 'maupin', 'maureen', 'maureenemili', 'mauritiu', 'maurizio', 'maven', 'maverick', 'mawkish', 'max', 'maximilian', 'maximimum', 'maximis', 'maxwel', 'may', 'mayagi', 'mayb', 'mayhem', 'mayor', 'maze', 'mc', 'mcafe', 'mcanal', 'mcbain', 'mccallum', 'mccartney', 'mcclurg', 'mccord', 'mccormack', 'mccoy', 'mccrari', 'mcdonald', 'mcdougal', 'mcdowel', 'mcduck', 'mcelhon', 'mcgavin', 'mcgee', 'mcguir', 'mchugh', 'mckenzi', 'mckinney', 'mclaglen', 'mcmahon', 'mcmillan', 'mcmurti', 'mcnabb', 'mcpherson', 'meadow', 'meadowslik', 'meal', 'mean', 'meanbr', 'meander', 'meaning', 'meaningless', 'meaningâ', 'meant', 'meantim', 'meanwhil', 'measli', 'measur', 'meat', 'meatbal', 'meati', 'meatloaf', 'mebr', 'meccasometh', 'mecha', 'mechan', 'medal', 'meddl', 'media', 'mediabr', 'medic', 'medicin', 'mediev', 'medioacreunprofession', 'mediocr', 'mediocreatbest', 'medit', 'medium', 'medley', 'meek', 'meena', 'meet', 'meg', 'mega', 'megacorpor', 'megalomaniac', 'megalon', 'megan', 'megawatt', 'mehndi', 'mehra', 'mei', 'meir', 'meit', 'mel', 'melanchol', 'melancholi', 'melang', 'melissa', 'melliflu', 'mellow', 'mellowdramat', 'mellowdramaticil', 'melnick', 'melodi', 'melodrama', 'melodramat', 'melon', 'melros', 'melt', 'melvyn', 'member', 'membran', 'memoir', 'memor', 'memorablebr', 'memorandum', 'memori', 'memoriesbr', 'men', 'menac', 'menbr', 'menczer', 'mendaci', 'mendez', 'mendoza', 'menjou', 'mental', 'mention', 'mentionedbr', 'mentor', 'menu', 'menzel', 'menzi', 'merchant', 'merci', 'mercuri', 'mere', 'merebr', 'merit', 'merk', 'merl', 'merlin', 'meryl', 'mescalin', 'meskimen', 'mesmer', 'mess', 'messag', 'messagebr', 'messageori', 'messeng', 'messi', 'messiahbr', 'messick', 'messnot', 'met', 'metal', 'metamorphosi', 'metaphor', 'metaphys', 'metcalf', 'mete', 'meteorit', 'meteorologist', 'meter', 'meth', 'method', 'meticul', 'metro', 'metrobr', 'metropoli', 'mexican', 'mexico', 'mexicohav', 'meyer', 'mgm', 'mi5', 'miami', 'miamivic', 'miasma', 'michael', 'micheal', 'micheaux', 'michel', 'micheã¡l', 'mick', 'mickey', 'micki', 'micmac', 'microfilm', 'microphon', 'microsecondwhat', 'mid', 'mid1940', 'midatlant', 'middl', 'middleag', 'middlebr', 'middleclass', 'mideighti', 'midfiftiesbr', 'midget', 'midkiff', 'midmay', 'midnight', 'midscreen', 'midst', 'midway', 'midwest', 'might', 'mighti', 'mightili', 'mightv', 'miglior', 'migrain', 'migrant', 'miik', 'mike', 'mikimoto', 'mild', 'mildest', 'mildli', 'mildlybr', 'mildr', 'mile', 'milieu', 'militari', 'militarist', 'militarytyp', 'milk', 'mill', 'milland', 'millar', 'millard', 'millennium', 'miller', 'milli', 'milligan', 'million', 'millionair', 'milliondollar', 'millionth', 'milo', 'milyang', 'mimesbr', 'mimi', 'mimic', 'mimick', 'min', 'minc', 'mind', 'mindand', 'mindbogglingli', 'mindbr', 'minddamag', 'minded', 'mindless', 'mindlessli', 'mindnumb', 'mindnumbingli', 'mindopen', 'mindsbr', 'mindwel', 'mine', 'minelli', 'miner', 'mini', 'minim', 'minimalist', 'minimum', 'minion', 'minionsbut', 'miniseri', 'ministerbr', 'minium', 'minn', 'minnelli', 'minnesotabr', 'minor', 'minu', 'minut', 'minutesbr', 'minutesi', 'minutia', 'mio', 'mioumiou', 'mira', 'miracl', 'miraclebr', 'miracul', 'miramax', 'miranda', 'miriam', 'mirror', 'misadventur', 'misbegotten', 'miscalcul', 'miscarriag', 'miscast', 'mischa', 'mischief', 'mischiev', 'misconcept', 'misconceptionit', 'misdirect', 'miser', 'miseri', 'misfir', 'misfortun', 'misgiv', 'misguid', 'misguidedth', 'mishandl', 'mishap', 'mishmash', 'misidentifi', 'misjudg', 'mislead', 'misleadbr', 'mismatch', 'misnom', 'misogyni', 'misogynist', 'misplac', 'misquot', 'misrep', 'misrepresent', 'miss', 'misshapen', 'mission', 'missionari', 'missouri', 'missouribr', 'misstep', 'mist', 'mistak', 'mistakebr', 'mistaken', 'mistakenident', 'mistim', 'mistreat', 'mistress', 'misunderstand', 'mitch', 'mitchel', 'mitchellsmith', 'mitchum', 'mix', 'mixedup', 'mixtur', 'miyagi', 'miyazaki', 'miz', 'mj', 'mkaybr', 'mm', 'mmmkaybr', 'mnm', 'mo', 'moan', 'mob', 'mobbr', 'mobil', 'mobocraci', 'mobster', 'mobstersbr', 'mock', 'mockcommunist', 'mockudrama', 'mockumentari', 'mockupsblow', 'mocumentari', 'mode', 'model', 'modem', 'moder', 'modern', 'modernday', 'modest', 'modestli', 'modicum', 'modif', 'modifi', 'moe', 'mohd', 'mol', 'molest', 'moli', 'molli', 'molotov', 'mom', 'momandpop', 'moment', 'momentbr', 'momentsbr', 'momentsbut', 'momentum', 'momma', 'mommi', 'mon', 'mona', 'monaghan', 'monarch', 'monasteri', 'monceau', 'monday', 'monetari', 'monett', 'money', 'moneybr', 'monica', 'monik', 'monitor', 'monk', 'monke', 'monkey', 'monkeyturd', 'mono', 'monobr', 'monochrom', 'monogami', 'monologu', 'monoton', 'monsalvat', 'monster', 'monsterinlaw', 'monsterslash', 'monstervis', 'monstrous', 'mont', 'montag', 'montagna', 'montana', 'montenegro', 'month', 'monti', 'montmartr', 'montros', 'monument', 'mood', 'moodi', 'moon', 'moonlight', 'moonmiss', 'moonwalk', 'moonwel', 'moor', 'moorebr', 'moorehead', 'mopar', 'mora', 'moral', 'moralist', 'moralityquest', 'morant', 'morbid', 'morbidli', 'mordantli', 'more', 'morebr', 'moredo', 'morel', 'moreno', 'moreorless', 'moreov', 'morgan', 'morgana', 'morgu', 'morisettebr', 'morita', 'moritamr', 'mormon', 'morn', 'morningafternoon', 'moroccan', 'morocco', 'moron', 'moroni', 'moronsbr', 'moros', 'morph', 'morphin', 'morri', 'morricon', 'morrow', 'mors', 'mortal', 'mortgag', 'morti', 'mortim', 'morton', 'morvern', 'morverndo', 'mosquito', 'mostel', 'mostli', 'moststag', 'motel', 'mother', 'motherbr', 'motherinlaw', 'motif', 'motion', 'motiv', 'motley', 'motor', 'motorcycl', 'motorist', 'moulder', 'moulin', 'mound', 'mount', 'mountain', 'mourn', 'mous', 'moustach', 'mouth', 'mouthwat', 'move', 'movebr', 'movedbr', 'movement', 'movi', 'movieand', 'moviebas', 'moviebomb', 'moviebr', 'moviebut', 'moviego', 'movieh', 'movielook', 'moviemak', 'moviemayb', 'moviemost', 'moviemus', 'movieno', 'movieoftheweek', 'moviesbr', 'moviesgo', 'moviesroberto', 'moviestarringspasitc', 'moviestv', 'movieth', 'moviether', 'moviewa', 'moviey', 'movingbr', 'moviv', 'moynahan', 'mpaa', 'mph', 'mplayer', 'mr', 'mraovich', 'ms', 'mst3k', 'mtv', 'mtvbr', 'much', 'muchadmir', 'muchbr', 'muchi', 'muchlov', 'muchmalign', 'muck', 'mud', 'muddi', 'muddl', 'mug', 'mugger', 'mujar', 'mulan', 'mullet', 'mulroney', 'multidimension', 'multifacet', 'multilay', 'multimillion', 'multimillionair', 'multipl', 'multitask', 'multitud', 'mum', 'mumbai', 'mumbl', 'mummi', 'munch', 'munchausen', 'munchingzombi', 'mundan', 'muni', 'muppet', 'murder', 'murdererbr', 'murdersuicidenatur', 'murdoch', 'murdochbr', 'murki', 'murmur', 'murphi', 'murray', 'murvyn', 'musashibr', 'muscl', 'muscular', 'muse', 'museum', 'mush', 'mushroom', 'music', 'musicactu', 'musicand', 'musicbr', 'musician', 'musiciansbr', 'musicwatch', 'musicway', 'muslim', 'must', 'mustach', 'muster', 'mustse', 'mustseebr', 'mustv', 'mutant', 'mutat', 'mute', 'mutil', 'mutin', 'mutt', 'mutter', 'mutual', 'mvd', 'mvp', 'myer', 'myle', 'myopic', 'myra', 'myrna', 'mysteri', 'mysterysuspens', 'mystic', 'mystifi', 'mystifyinglynam', 'myth', 'mythic', 'mytholog', 'mã¤dchen', 'n', 'naaaa', 'nada', 'nadir', 'naff', 'nafta', 'nagra', 'nah', 'naif', 'nail', 'nairnatali', 'naiv', 'naiveti', 'nake', 'naked', 'nam', 'namak', 'name', 'namebr', 'namedrop', 'nanak', 'nanavati', 'nanci', 'nanett', 'nanni', 'nap', 'napalm', 'narciss', 'narr', 'narrat', 'narrow', 'nasa', 'nascar', 'naschi', 'nash', 'nashvil', 'nastassia', 'nasti', 'nastier', 'natali', 'natalia', 'natascha', 'natasha', 'nathali', 'nathan', 'nation', 'nationalist', 'nativ', 'natur', 'naturalflawless', 'naturalisticr', 'naudet', 'naughti', 'nausea', 'nauseabr', 'nauseatingli', 'nauseum', 'nautilu', 'naval', 'navi', 'navig', 'naylor', 'nazi', 'naã¯v', 'nbc', 'nc17', 'nchez', 'ne', 'near', 'nearbi', 'neardeath', 'nearer', 'nearlegendari', 'nearli', 'nearmistress', 'neat', 'neatfreak', 'neatli', 'nebraskan', 'nebula', 'necess', 'necessari', 'necessarili', 'necessarybr', 'neck', 'necklac', 'necrom', 'ned', 'need', 'needi', 'needl', 'needless', 'needlessli', 'needsif', 'neeson', 'nefari', 'neg', 'neglect', 'negoti', 'neidhart', 'neighbor', 'neighborhood', 'neighbour', 'neil', 'neither', 'nekron', 'nell', 'nelli', 'nelson', 'nelsonbr', 'nemesi', 'nemico', 'nemo', 'neofolk', 'neon', 'neonazi', 'neonoir', 'neophyt', 'neoreal', 'neorealist', 'nephew', 'nepot', 'nera', 'nerd', 'nerdi', 'neredo', 'nero', 'nerv', 'nervou', 'nest', 'nestor', 'net', 'netherey', 'netlaska', 'nettl', 'network', 'neurolog', 'neuron', 'neurosurgeri', 'neurot', 'neuter', 'nevadapretti', 'never', 'nevermind', 'nevertheless', 'neverthelessit', 'new', 'newbi', 'newcom', 'newer', 'newfound', 'newli', 'newlw', 'newlyfilm', 'newlyw', 'newlywritten', 'newmail', 'newman', 'newmar', 'news', 'newscast', 'newso', 'newsom', 'newspap', 'newwav', 'next', 'nextbr', 'nextgener', 'ng', 'nghya', 'nhk', 'nice', 'nicebr', 'nicelywritten', 'nicewith', 'nichola', 'nicholson', 'nicholsonand', 'nick', 'nickel', 'nickelbi', 'nickelodean', 'nickelrat', 'nicki', 'nicknam', 'nickolodeon', 'nicol', 'nicola', 'nicoli', 'niec', 'nieceryan', 'nielsen', 'nietzchean', 'nietzsch', 'nietzschean', 'nifti', 'nigel', 'nigh', 'nighi', 'night', 'nightbr', 'nightclub', 'nightearli', 'nightmar', 'nightmarish', 'nihalani', 'nihil', 'nihilist', 'nikhil', 'nikita', 'nimbl', 'nimoy', 'nina', 'nine', 'ninel', 'nineteenthirti', 'nineti', 'ning', 'ninja', 'ninotchka', 'ninth', 'niob', 'nippl', 'nirgendwo', 'niro', 'nitpick', 'nitrat', 'nitro', 'niveau', 'niven', 'nix', 'nixon', 'nob', 'nobel', 'nobil', 'nobl', 'nobleman', 'nobler', 'noblespirit', 'nobli', 'nobodi', 'nobrain', 'nobut', 'nocturn', 'nod', 'noe', 'noel', 'noendin', 'nofril', 'nofth', 'nogood', 'noir', 'noirish', 'nois', 'noisi', 'nolan', 'noland', 'noll', 'nolt', 'nomad', 'nomin', 'nomine', 'non', 'nonactor', 'nonbrando', 'nonchristian', 'nonconclus', 'noncorrespond', 'nondescript', 'nondieget', 'nondirect', 'none', 'nonenglish', 'nonessenti', 'nonetheless', 'nonetoobright', 'nonev', 'nonexist', 'nonhistrion', 'nonhollywoodbr', 'nonlast', 'nonlatino', 'nonloc', 'nono', 'nonpc', 'nonpersonperhap', 'nonpluss', 'nonprimari', 'nonprogram', 'nonsens', 'nonsensebr', 'nonsenseno', 'nonsequentiallybr', 'nonstop', 'nonunderwear', 'nonâ', 'noodl', 'noon', 'noonan', 'nooni', 'nooo', 'nope', 'nopebr', 'nora', 'norah', 'norbit', 'nord', 'nordham', 'noriko', 'norm', 'normal', 'normalci', 'norman', 'norri', 'north', 'northang', 'northern', 'norway', 'norwegian', 'nose', 'nosi', 'nosold', 'nostalgia', 'not', 'notabl', 'notalwaysreward', 'notbr', 'notch', 'note', 'noteworthi', 'noth', 'nother', 'nothing', 'nothingbr', 'nothingther', 'notic', 'noticebr', 'noticeddamn', 'notif', 'notifi', 'notion', 'notionbr', 'notl', 'notori', 'notorieti', 'notsogood', 'notsostellar', 'notth', 'notwithstandingh', 'nouvel', 'nova', 'novakth', 'nove', 'novel', 'novelist', 'novelti', 'novemb', 'novic', 'novotna', 'nowaday', 'nowadaysbr', 'nowbr', 'nowher', 'nowherebr', 'nowin', 'nowjoey', 'nowyour', 'nozzl', 'noâ', 'npa', 'nroll', 'nth', 'nuanc', 'nubil', 'nuclear', 'nude', 'nudi', 'nudiebr', 'nudist', 'nuditi', 'nuev', 'nuff', 'nuisanc', 'nuke', 'numb', 'number', 'numberbr', 'numbersth', 'numer', 'numet', 'nun', 'nunsploit', 'nurs', 'nursesth', 'nut', 'nuthin', 'nutshel', 'nwa', 'nwawcw', 'nwh', 'ny', 'nyc', 'nz', 'nã©tait', 'oaf', 'oafiest', 'oat', 'oater', 'oath', 'obedi', 'oberon', 'obes', 'obiwan', 'object', 'objectbr', 'oblig', 'obligatori', 'oblivi', 'oblivion', 'obnoxi', 'obnoxiousbr', 'obrien', 'obrienmanhattan', 'obscur', 'observ', 'obsess', 'obsessionbr', 'obstacl', 'obtain', 'obtus', 'obviou', 'obvious', 'oc', 'ocassion', 'occas', 'occasion', 'occup', 'occupi', 'occur', 'occurr', 'ocean', 'oceanbroadway', 'oconnor', 'oconor', 'octob', 'odaniel', 'odd', 'oddbal', 'oddli', 'oddysey', 'oder', 'odet', 'odin', 'odyssey', 'oedip', 'oeuvr', 'ofcours', 'off', 'offal', 'offbeat', 'offbr', 'offbroadway', 'offcolor', 'offend', 'offens', 'offer', 'offeringsbr', 'offic', 'officersbr', 'officeâ', 'offici', 'offnetwork', 'offscreen', 'offseason', 'offshoot', 'offspr', 'offthecuff', 'offtheedg', 'offthewal', 'ofonli', 'often', 'oftendiscuss', 'ofthi', 'ogl', 'oh', 'ohara', 'ohmagod', 'ohsocut', 'ohsotoler', 'ohtar', 'oil', 'ok', 'okay', 'okayand', 'okaybr', 'okbr', 'okeeff', 'ol', 'olan', 'old', 'older', 'olderbr', 'oldest', 'oldfashion', 'oldfish', 'oldhat', 'oldi', 'oldschool', 'ole', 'oliv', 'oliva', 'olivi', 'olli', 'olsen', 'olymp', 'olympia', 'om', 'omaha', 'omar', 'omega', 'omen', 'omin', 'omnipres', 'onbr', 'onceandforal', 'oncegreat', 'one', 'oneal', 'oneand', 'onebr', 'onedimension', 'oneey', 'onehit', 'onei', 'oneil', 'oneit', 'onelin', 'onenot', 'oneofakind', 'oneonon', 'oneotherwis', 'oner', 'onesbut', 'oneselect', 'oneself', 'onesid', 'onether', 'onethey', 'onetim', 'onewhat', 'ongo', 'onin', 'onion', 'onlin', 'onlineso', 'onmayb', 'onscreen', 'onscreenbr', 'ontheedg', 'onto', 'onward', 'onworld', 'oogeyboogey', 'ooh', 'oop', 'ooz', 'opac', 'open', 'openend', 'openli', 'oper', 'opera', 'operat', 'operationbr', 'ophelia', 'opinion', 'oppenheim', 'oppinion', 'oppon', 'opportun', 'opportunist', 'oppos', 'opposit', 'oppositesbr', 'oppress', 'optim', 'optimismbr', 'optimist', 'optimisticbr', 'option', 'opu', 'opul', 'oral', 'orang', 'orangutan', 'orbit', 'orca', 'orchestr', 'orchestra', 'ordeal', 'order', 'orderif', 'ordinari', 'ore', 'oregon', 'organ', 'organis', 'organizationbr', 'organizedbr', 'orgasm', 'orient', 'origin', 'originalbr', 'originalitybr', 'orkli', 'orlando', 'orlean', 'ornament', 'ornat', 'orphan', 'orphanag', 'orson', 'orthodox', 'osama', 'osbourn', 'oscar', 'oscarbr', 'oscarnomin', 'oscarrob', 'oscarwinn', 'osiri', 'osmosi', 'ostens', 'ostentati', 'ota', 'othello', 'other', 'otherbr', 'othersbr', 'otherwis', 'otool', 'otranto', 'otro', 'otsu', 'ottaviano', 'otto', 'ought', 'ouiâ', 'ounc', 'ourselvesbr', 'out', 'outandback', 'outbr', 'outburst', 'outcast', 'outcom', 'outdat', 'outdo', 'outdoor', 'outer', 'outfit', 'outfitsbr', 'outgo', 'outing', 'outlandish', 'outlaw', 'outlin', 'outofwork', 'outpost', 'output', 'outrag', 'outright', 'outset', 'outshin', 'outsid', 'outsmart', 'outstand', 'outtaken', 'outward', 'outwit', 'ova', 'overabund', 'overact', 'overal', 'overbear', 'overblown', 'overboard', 'overbr', 'overcom', 'overcompens', 'overconfid', 'overcrank', 'overdo', 'overdon', 'overdos', 'overdr', 'overdramat', 'overeffici', 'overemphat', 'overenthusiasm', 'overenthusiast', 'overexagger', 'overexpos', 'overhead', 'overhear', 'overheard', 'overkil', 'overli', 'overlicit', 'overload', 'overlong', 'overlook', 'overoveroveroveract', 'overplay', 'overpopul', 'overpow', 'overpr', 'overprais', 'overprotect', 'overr', 'overrun', 'oversatur', 'oversc', 'oversea', 'oversentiment', 'overshadow', 'overstay', 'overstep', 'overstuf', 'overtaken', 'overthetop', 'overthrow', 'overtim', 'overtli', 'overus', 'overview', 'overwhelm', 'overwhelmingli', 'overwisebr', 'overwrought', 'owe', 'owen', 'owl', 'own', 'ownbr', 'owner', 'ownership', 'oxycontin', 'oxygen', 'oy', 'oz', 'ozporn', 'ozzi', 'p', 'p272', 'p273', 'pa', 'paar', 'pace', 'pacebr', 'pacifi', 'pacino', 'pack', 'packag', 'paco', 'pacobr', 'pad', 'pagan', 'page', 'paget', 'paid', 'pain', 'painbr', 'painsbr', 'paint', 'paintbynumb', 'painter', 'painterli', 'pair', 'pairbr', 'pairof', 'pakeezah', 'pakistan', 'pakistani', 'pakistanth', 'pal', 'palac', 'palanc', 'palat', 'pale', 'palestinian', 'palett', 'palillo', 'pall', 'palm', 'palmer', 'palpabl', 'palsi', 'paltrow', 'pam', 'pamela', 'pamper', 'pan', 'panaceabr', 'panandscan', 'pancak', 'pancho', 'pancrea', 'panda', 'pander', 'panel', 'pang', 'panic', 'panpip', 'pant', 'pantheon', 'panther', 'panti', 'pantsbr', 'papa', 'papamichael', 'paper', 'papernick', 'pappa', 'paquin', 'par', 'parabl', 'paraday', 'paradigmbr', 'paradis', 'paradox', 'paragraph', 'parallel', 'paralyt', 'paramilitarylik', 'paramount', 'paranoia', 'paranoid', 'paraphras', 'parasit', 'parc', 'pardon', 'pardu', 'pare', 'parent', 'parentsbr', 'pari', 'pariah', 'parisbr', 'parisd', 'parisian', 'parisianbr', 'parisjtaim', 'park', 'parker', 'parkâ¨', 'parlay', 'parlor', 'parmind', 'parodi', 'parrot', 'parsif', 'parson', 'parsonnot', 'part', 'partalso', 'partbr', 'partgerman', 'parti', 'partial', 'particip', 'particular', 'particularli', 'partirdg', 'partit', 'partli', 'partmexican', 'partner', 'partnership', 'partridg', 'pascow', 'pasolini', 'pasoliniâ´', 'pass', 'passabl', 'passag', 'passageway', 'passeng', 'passion', 'passport', 'past', 'pastbr', 'pasternak', 'pasti', 'pastur', 'pat', 'pataki', 'patch', 'patel', 'patent', 'path', 'pathed', 'pathet', 'pathetic1', 'patheticbr', 'pathosbr', 'patienc', 'patient', 'patil', 'patriarch', 'patricia', 'patrick', 'patriot', 'patrol', 'patrolman', 'patron', 'pattern', 'patterson', 'patton', 'paul', 'paula', 'pauli', 'paulsen', 'paulson', 'paus', 'pavlov', 'pay', 'paycheck', 'paycheckbr', 'payment', 'payn', 'payoff', 'payperview', 'payrol', 'payton', 'paz', 'pazo', 'pb', 'pc', 'peac', 'peacekeep', 'peacock', 'peak', 'peanut', 'pearl', 'pearlbr', 'pearlybrown', 'peasant', 'peck', 'pecker', 'peckinpah', 'peculiar', 'pedant', 'peddl', 'pedest', 'pedestrian', 'pedigre', 'pedigreebr', 'pedophil', 'pedophilia', 'pedro', 'pee', 'peebl', 'peed', 'peek', 'peel', 'peep', 'peeper', 'peer', 'peevish', 'peg', 'pegg', 'peggi', 'pei', 'peke', 'pekinpah', 'pen', 'penalti', 'penaltythi', 'penandpap', 'penchant', 'pencil', 'pendleton', 'pendragon', 'penelop', 'penetr', 'penguin', 'peni', 'penn', 'penni', 'penniless', 'pennsylvania', 'penri', 'penultim', 'peopl', 'peoplebr', 'peoplenot', 'peplo', 'pepper', 'pepsi', 'per', 'peraltaa', 'perceiv', 'percent', 'percept', 'perci', 'perenni', 'peretti', 'perfect', 'perfectionist', 'perfectli', 'perform', 'performancebr', 'performancesbr', 'performancesit', 'performersbr', 'perhap', 'peril', 'period', 'periodbr', 'periodmichael', 'peripher', 'peripheri', 'perish', 'periton', 'perk', 'perki', 'perlman', 'perman', 'permeabl', 'permeat', 'permiss', 'permissionbr', 'permit', 'peroxid', 'perp', 'perpetr', 'perpetu', 'perplex', 'perri', 'perrin', 'persecut', 'persever', 'person', 'persona', 'personag', 'personalti', 'personbr', 'personif', 'personifi', 'perspect', 'perspectivesbr', 'persuad', 'persuas', 'pertain', 'pertwe', 'peru', 'perv', 'pervad', 'pervert', 'pesc', 'pesci', 'pessimist', 'pet', 'pete', 'peter', 'peterson', 'petit', 'petitbourgeoi', 'petrol', 'petti', 'pettit', 'petul', 'petwe', 'pf', 'pfeiffer', 'pffeifer', 'pg', 'pg13', 'phallic', 'phantom', 'pharmaci', 'phase', 'phd', 'phedon', 'phelp', 'phenomen', 'phenomena', 'phenomenon', 'phh', 'phht', 'phibe', 'phil', 'philand', 'philanthrop', 'philip', 'philippin', 'philistin', 'phillip', 'phillipin', 'philosoph', 'philosophi', 'philosophicaland', 'phiniu', 'phobic', 'phoeb', 'phoenix', 'phone', 'phonevideo', 'phoni', 'phoniest', 'phonybr', 'photo', 'photogen', 'photograph', 'photographedrecogniz', 'photographi', 'photographsbr', 'photographyth', 'photoshoot', 'phrase', 'phycho', 'physic', 'physician', 'physicist', 'pia', 'piaf', 'pianist', 'piano', 'pic', 'pick', 'picken', 'picket', 'pickford', 'picki', 'pickpocket', 'pickup', 'picnic', 'pictur', 'picturebr', 'picturesqu', 'picturis', 'piddl', 'pidgeon', 'pie', 'piec', 'pierc', 'pierr', 'pig', 'pigeonhol', 'pigtail', 'pile', 'pileggi', 'pilgrimag', 'pill', 'pillar', 'pillow', 'pilot', 'pimlico', 'pimp', 'pimplesa', 'pin', 'pinchot', 'pine', 'pinjar', 'pinkett', 'pinki', 'pinnacl', 'pinter', 'pinto', 'pinup', 'pioneer', 'pipesgoogl', 'piqu', 'piraci', 'pirat', 'piscopo', 'pistilli', 'pistol', 'pit', 'pitaji', 'pitch', 'pitfal', 'pithi', 'piti', 'pitt', 'pittman', 'pittsburgh', 'pivot', 'pixar', 'pizza', 'pizzazz', 'place', 'placebr', 'placement', 'placesbr', 'plagiar', 'plagu', 'plaguebr', 'plain', 'plainjan', 'plainli', 'plainsman', 'plainspoken', 'plan', 'planck', 'plane', 'planet', 'plansespeci', 'plant', 'plantat', 'plastecin', 'plastic', 'plasticbr', 'plate', 'platform', 'platitud', 'plato', 'platon', 'plaudit', 'plausibl', 'play', 'playboy', 'playbr', 'player', 'playingbr', 'playstat', 'playwright', 'plea', 'pleas', 'pleasant', 'pleasantli', 'pleasantvil', 'pleaser', 'pleasingli', 'pleasur', 'pledg', 'plenti', 'plentybr', 'pleshett', 'plessi', 'plight', 'plod', 'plot', 'plotbr', 'ploteven', 'plotexistencebr', 'plotgreat', 'plotscript', 'plotwho', 'plotwis', 'plotwiseth', 'plu', 'pluck', 'plucki', 'plug', 'plum', 'plumag', 'plumb', 'plummet', 'plummi', 'plung', 'plusth', 'plutocrat', 'plutonium', 'pm', 'pneumon', 'po', 'pocketbook', 'pod', 'podunksvil', 'poe', 'poelvoord', 'poem', 'poepo', 'poet', 'poetic', 'poeticsbr', 'poetri', 'pofac', 'poignant', 'poignantli', 'point', 'pointand', 'pointbr', 'pointbypoint', 'pointedli', 'pointer', 'pointi', 'pointless', 'pointlessli', 'pointposs', 'poison', 'poitier', 'poke', 'pokemon', 'poker', 'pokey', 'polanski', 'polar', 'poldark', 'poldi', 'pole', 'polic', 'policebr', 'policeman', 'policemen', 'polici', 'polish', 'polit', 'politician', 'polli', 'pollut', 'pollutionfre', 'polo', 'polut', 'polyest', 'polygam', 'pom', 'pomegran', 'pomhat', 'pompou', 'pon', 'pond', 'ponder', 'pooch', 'poof', 'poofter', 'pool', 'poor', 'poorer', 'poorest', 'poorli', 'poorlyconceiv', 'poorlyconstruct', 'poorlywritten', 'pop', 'popcorn', 'popcornpidgeon', 'popcultur', 'popul', 'popular', 'popularextrem', 'populartvshowcsistyl', 'populationbr', 'populist', 'porcelain', 'porn', 'porncalib', 'porno', 'pornograph', 'portent', 'porter', 'porterbr', 'portion', 'portland', 'portmanshakh', 'portmanshia', 'portrait', 'portray', 'portrayedbr', 'pose', 'poser', 'posh', 'posit', 'positivebr', 'posner', 'poss', 'possess', 'possibl', 'post', 'postapocalypt', 'postclimact', 'postcolleg', 'postcoloni', 'postdesper', 'posteleph', 'poster', 'posterior', 'postmodern', 'postmtv', 'postpon', 'postproduct', 'postscript', 'postsuicid', 'postur', 'postwar', 'postwwii', 'pot', 'potato', 'potboilersand', 'potemkin', 'potent', 'potenti', 'poter', 'potion', 'potok', 'pott', 'potter', 'pound', 'pour', 'pout', 'pov', 'poverti', 'povertybr', 'pow', 'powel', 'power', 'powerfulset', 'powerless', 'powersbarbara', 'ppv', 'ppvbr', 'practic', 'pragmat', 'pragu', 'prairi', 'prais', 'prakash', 'pranc', 'pranksbr', 'pray', 'pre', 'preach', 'preacher', 'preachi', 'preced', 'preciou', 'precis', 'precoci', 'precod', 'precredit', 'predat', 'predecessor', 'predetermin', 'predict', 'predictablebr', 'predictablei', 'predilect', 'predomin', 'prefect', 'prefer', 'pregnanc', 'pregnant', 'prehistor', 'preiti', 'prejudic', 'prekojak', 'prem', 'prematur', 'premier', 'preming', 'premis', 'premisebr', 'preoccup', 'preorder', 'prep', 'prepar', 'prepareit', 'preposter', 'prequel', 'prescreen', 'prescrib', 'presenc', 'present', 'presentedbr', 'preserv', 'presid', 'president', 'presidenti', 'presley', 'presqu', 'press', 'pressur', 'prestig', 'preston', 'presum', 'pretend', 'pretens', 'pretenti', 'pretentioussound', 'pretext', 'pretti', 'prettier', 'prettyboy', 'pretzel', 'prevail', 'preval', 'prevent', 'preview', 'previou', 'previous', 'prey', 'price', 'pricebr', 'pricebut', 'priceless', 'pricelessand', 'pricey', 'prickett', 'prickli', 'pride', 'priest', 'priestess', 'prig', 'prim', 'primal', 'primari', 'primarili', 'prime', 'primit', 'princ', 'princess', 'princessbr', 'princip', 'principl', 'print', 'printand', 'printsbr', 'prinz', 'prior', 'prioriti', 'priscilla', 'prison', 'prisonbr', 'prisonerdanverswho', 'prisonerscarrerea', 'pritam', 'privaci', 'privat', 'privileg', 'priya', 'prize', 'prizefight', 'prn', 'pro', 'probabl', 'problem', 'problemat', 'problembr', 'problemsbr', 'proce', 'procedur', 'proceed', 'process', 'processbr', 'prochnow', 'procrastin', 'procur', 'prod', 'prodigi', 'produc', 'producerdirector', 'producersw', 'product', 'productbr', 'productionbr', 'profan', 'profesor', 'profess', 'profession', 'professionbr', 'professor', 'profici', 'profil', 'profit', 'profittak', 'profound', 'program', 'programm', 'progress', 'progressesbr', 'prohibit', 'project', 'projectil', 'prolif', 'prolog', 'prologu', 'prom', 'promin', 'prominentbr', 'promis', 'promiscu', 'promisingli', 'promot', 'promptli', 'prone', 'proof', 'proog', 'prop', 'propag', 'propaganda', 'propel', 'proper', 'properli', 'properti', 'propheci', 'prophet', 'propheticbr', 'propon', 'proport', 'proportion', 'propos', 'proprietor', 'prosecutor', 'prospect', 'prostitut', 'protagonist', 'protect', 'protector', 'protectori', 'protest', 'protocol', 'prototyp', 'protract', 'protrud', 'protã©gã©', 'proud', 'proudli', 'prove', 'proven', 'proverbi', 'provid', 'provis', 'provoc', 'provok', 'prowess', 'prowrestingesquir', 'proxim', 'pryce', 'pryor', 'prã©vertbut', 'ps', 'pseudo', 'pseudoburton', 'pseudohistori', 'pseudointellectu', 'pseudonym', 'pseudoorwellianhuxleyanwhateverian', 'pseudoscientif', 'pseudosec', 'psif', 'psilcyb', 'psych', 'psychdrivelbr', 'psychiatr', 'psychiatrist', 'psychic', 'psycho', 'psychoanalysi', 'psychobabbl', 'psychofrakul', 'psycholog', 'psychologist', 'psychopath', 'psychosi', 'psychot', 'pterodactyl', 'pu', 'pub', 'puberti', 'public', 'publish', 'pubsbr', 'pudor', 'pueril', 'puff', 'puke', 'pull', 'pulp', 'puls', 'pumbaa', 'pummel', 'pumpi', 'pumpkinsplacebo', 'pun', 'punch', 'punchlin', 'punctuat', 'punish', 'punjabi', 'punk', 'punki', 'punkrock', 'pupil', 'puppet', 'puppetget', 'puppetri', 'puppi', 'pupsi', 'purchas', 'pure', 'purest', 'puri', 'purist', 'puro', 'purpl', 'purportedli', 'purpos', 'purposebr', 'purposeit', 'purposethey', 'purs', 'pursu', 'pursuingbr', 'pursuit', 'push', 'pusher', 'pushi', 'puss', 'put', 'putoff', 'puttogeth', 'putupon', 'putz', 'puzzl', 'pycho', 'pym', 'pyramid', 'python', 'pyun', 'q', 'qa', 'qbr', 'qi', 'qian', 'quack', 'quad', 'quadrupl', 'quaid', 'qualifi', 'qualiti', 'qualitiesbr', 'qualitiesjust', 'qualitylevel', 'qualm', 'quanta', 'quantril', 'quarrel', 'quarter', 'quartet', 'quartier', 'quasidocumentari', 'quasireligi', 'quasiromant', 'que', 'quebec', 'queen', 'queentob', 'queer', 'quentin', 'quest', 'question', 'questiondid', 'queu', 'quibbl', 'quick', 'quicki', 'quickli', 'quicktemp', 'quid', 'quiet', 'quietli', 'quinn', 'quintessenti', 'quirk', 'quirki', 'quirkyinsan', 'quit', 'quiver', 'quixot', 'quo', 'quot', 'quota', 'quotabl', 'quotat', 'quotebr', 'quoter', 'quotidian', 'quotient', 'r', 'r1', 'rabbit', 'rabi', 'rabid', 'race', 'racego', 'racer', 'racerel', 'racesand', 'rachel', 'raci', 'racial', 'racism', 'racist', 'rack', 'racket', 'rad', 'radam', 'radar', 'radiat', 'radic', 'radio', 'radiohit', 'radium', 'rafi', 'rage', 'raid', 'rail', 'railli', 'railrodd', 'railway', 'raiment', 'raimi', 'rain', 'rainbow', 'rainbr', 'rainer', 'rainfal', 'raini', 'rais', 'raiser', 'raison', 'raj', 'raja', 'rajni', 'rake', 'ralli', 'ralph', 'ralphi', 'ram', 'rama', 'rambl', 'rambo', 'ramon', 'ramonesbr', 'rampag', 'rampant', 'ramrodd', 'ramundo', 'ran', 'ranch', 'randal', 'randallthornton', 'randi', 'randolph', 'random', 'randomli', 'rang', 'ranger', 'rani', 'ranjeet', 'rank', 'ransom', 'rant', 'raoul', 'rap', 'rape', 'rapebr', 'rapid', 'rapidli', 'rapist', 'rapmet', 'rappin', 'rapport', 'raptor', 'raptur', 'raquel', 'rare', 'rarebut', 'rarelyproduc', 'rariti', 'raskin', 'rasulala', 'rat', 'ratcher', 'rate', 'ratersbr', 'rathbon', 'rather', 'rating03', 'rating13should', 'rating14abr', 'ratingbr', 'ratingsbr', 'ratio', 'ration', 'rationalist', 'ratman', 'ratso', 'ratzo', 'raunchi', 'rave', 'raven', 'raver', 'ravish', 'ravishingslut', 'raw', 'rawl', 'ray', 'raymond', 'razor', 'razzi', 'rb', 'rbi', 'rca', 'rea', 'reach', 'react', 'reaction', 'reactionsbr', 'reactionsth', 'read', 'reader', 'readersbr', 'readi', 'readili', 'reaffirm', 'reagan', 'reaganera', 'real', 'realbr', 'reali', 'realis', 'realism', 'realist', 'realisticbr', 'realisticgori', 'realiti', 'realiz', 'realli', 'reallif', 'reallyand', 'reallyth', 'reallywhat', 'realm', 'realtim', 'realworld', 'ream', 'reanim', 'reap', 'reappear', 'rear', 'rearproject', 'reason', 'reasonit', 'reasonsbr', 'reasonth', 'reassembl', 'reb', 'rebecca', 'rebel', 'rebelli', 'rebhorn', 'rebuild', 'rebuilt', 'recal', 'recap', 'recaptur', 'reced', 'receipt', 'receiv', 'receivedit', 'recent', 'recept', 'receptionist', 'recip', 'recit', 'reckon', 'reclaim', 'recogn', 'recognis', 'recognit', 'recogniz', 'recollect', 'recomend', 'recommend', 'recommendationbr', 'reconcil', 'reconcili', 'reconstruct', 'record', 'recount', 'recoup', 'recov', 'recreat', 'recruit', 'rectifi', 'recycl', 'red', 'reda', 'redcoat', 'redeem', 'redefin', 'redempt', 'redfield', 'redgrav', 'redhead', 'redhot', 'redirect', 'rediscov', 'rediscoveri', 'redlin', 'redlinedec', 'redneck', 'redon', 'redsuit', 'reduc', 'reduct', 'redund', 'ree', 'reed', 'reedi', 'reedit', 'reek', 'reel', 'reenact', 'rees', 'reev', 'reevalu', 'refer', 'refere', 'refin', 'reflect', 'reflexion', 'refresh', 'refriger', 'refug', 'refuge', 'refund', 'refurbish', 'refus', 'refut', 'reg', 'regain', 'regal', 'regard', 'regardless', 'regardsbr', 'reget', 'reggi', 'regim', 'region', 'regist', 'regress', 'regret', 'regrett', 'regul', 'regular', 'regularli', 'regurgit', 'rehash', 'rehears', 'reid', 'reign', 'reilli', 'reimagin', 'reina', 'reincarn', 'reindeer', 'reinforc', 'reinstat', 'reiser', 'reissu', 'reiter', 'reject', 'rejuven', 'rekindl', 'rel', 'relabel', 'relaps', 'relat', 'relationship', 'relax', 'relay', 'releas', 'releg', 'relentless', 'relentlessli', 'relev', 'reli', 'reliabl', 'relianc', 'relic', 'relief', 'reliev', 'religi', 'religion', 'religiousmor', 'relish', 'reliv', 'reloc', 'reluct', 'reluctantli', 'remad', 'remain', 'remaind', 'remak', 'remark', 'remarrywith', 'rememb', 'remind', 'reminisc', 'remnant', 'remors', 'remot', 'remov', 'remsen', 'renaiss', 'render', 'rendit', 'rene', 'renegad', 'renni', 'reno', 'renoir', 'renown', 'rent', 'rental', 'rentalbr', 'renter', 'renã©', 'reognis', 'rep', 'repackag', 'repair', 'reparte', 'repay', 'repeat', 'repeatedli', 'repel', 'repent', 'repertoir', 'repertorybr', 'repetit', 'repetiti', 'replac', 'replay', 'replet', 'repli', 'replic', 'report', 'reportedli', 'reprehens', 'repres', 'represent', 'repress', 'repric', 'repris', 'reproach', 'reptil', 'republ', 'republican', 'repudie', 'repugn', 'repuls', 'reput', 'reputationbr', 'request', 'requiem', 'requir', 'requiredbr', 'requisit', 'rere', 'reread', 'rerun', 'rescu', 'rescuebr', 'research', 'resembl', 'resent', 'reserv', 'reservoir', 'reshot', 'resid', 'resign', 'resili', 'resist', 'resmblanc', 'resolut', 'resolv', 'reson', 'resort', 'resound', 'resourc', 'resourcesbr', 'respect', 'respectbr', 'respit', 'respond', 'respons', 'rest', 'restaur', 'restbr', 'restless', 'restor', 'restrain', 'restrict', 'result', 'resultedlarg', 'resultsbr', 'resum', 'resurrect', 'retain', 'retali', 'retard', 'retch', 'retent', 'rethink', 'retir', 'retold', 'retort', 'retreat', 'retribut', 'retriev', 'return', 'reuben', 'reunion', 'reunit', 'reve', 'reveal', 'revel', 'reveng', 'revenu', 'rever', 'reverber', 'reverend', 'revers', 'reversebr', 'revert', 'review', 'reviewbr', 'revil', 'revis', 'reviv', 'revolt', 'revoltingbr', 'revolut', 'revolution', 'revolutionari', 'revolutionis', 'revolv', 'reward', 'rewatch', 'rewind', 'reword', 'rework', 'rewrit', 'rex', 'rey', 'reynold', 'reã§u', 'rhea', 'rhetor', 'rhett', 'rhey', 'rhi', 'rhidian', 'rhine', 'rhinier', 'rhodesbr', 'rhye', 'rhyme', 'rhysmey', 'rhythmic', 'rib', 'ribbon', 'ric', 'ricciorlando', 'ricepap', 'rich', 'richard', 'richardbr', 'richardson', 'richer', 'richest', 'richestrenholm', 'richli', 'richter', 'rick', 'ricki', 'rickmansworth', 'rid', 'ridden', 'riddl', 'ride', 'rideau', 'ridebr', 'rider', 'ridg', 'ridicul', 'ridiculousbr', 'ridley', 'riemann', 'rien', 'rietman', 'riff', 'rifl', 'rig', 'riga', 'rigg', 'right', 'rightbr', 'rightli', 'rightofway', 'rightw', 'rigid', 'rigoletto', 'rigor', 'rile', 'ring', 'ringadingd', 'ringesquir', 'ringlead', 'ringo', 'ringu', 'rins', 'rio', 'riot', 'riotsequ', 'rip', 'ripoff', 'ripperi', 'riproar', 'rise', 'risen', 'risibl', 'risk', 'riski', 'risquã©', 'ritchi', 'ritter', 'ritual', 'rival', 'rivalri', 'river', 'rivero', 'rivet', 'rizzo', 'rko', 'ro', 'road', 'roadhous', 'roadmovi', 'roadshow', 'roadsid', 'roar', 'roast', 'rob', 'robard', 'robber', 'robberi', 'robbi', 'robbiepardu', 'robbin', 'robert', 'roberto', 'robertson', 'robertsonmã¤dchen', 'robeson', 'robi', 'robin', 'robinson', 'robot', 'robust', 'robyn', 'rochefort', 'rochest', 'rochon', 'rock', 'rockbottom', 'rocket', 'rocki', 'rocksston', 'rockstar', 'rod', 'rode', 'rodger', 'rodney', 'rodrigo', 'rodrigu', 'rodriguez', 'roedel', 'rogen', 'roger', 'rogersbr', 'rogu', 'roguish', 'rohal', 'rohm', 'rohmer', 'rokkuchan', 'roland', 'roldan', 'role', 'rolebr', 'rolesbr', 'rolesi', 'roll', 'rollan', 'rollbr', 'rollebal', 'roller', 'rollercoast', 'rollin', 'roman', 'romanc', 'romancecomedi', 'romancecomedybr', 'romani', 'romania', 'romanian', 'romant', 'romantic', 'romanticcomedi', 'rome', 'romeitalyberlingermani', 'romeo', 'romero', 'romi', 'romola', 'romolo', 'romp', 'rompbr', 'romper', 'ron', 'rona', 'ronald', 'ronni', 'roof', 'rooki', 'room', 'roommat', 'rooney', 'root', 'rope', 'ropsenlski', 'rori', 'rosanna', 'rosario', 'rosco', 'rose', 'roseann', 'rosemari', 'rosenfield', 'rosenliski', 'rosenlski', 'rosenlskibr', 'rosenski', 'rosenstrass', 'rosenstrassebr', 'rosi', 'rosnelski', 'ross', 'rossellini', 'rot', 'rotari', 'roth', 'rothrock', 'rothrockchina', 'rotoscop', 'rotten', 'rougebr', 'rough', 'rougher', 'roughhewn', 'roughli', 'round', 'roundtheclock', 'rous', 'rout', 'routin', 'row', 'rowland', 'roxannerobinson', 'roxburi', 'roxi', 'roxyor', 'roy', 'royal', 'royalist', 'royalti', 'roz', 'rpg', 'rr', 'rrate', 'rs', 'rsther', 'rub', 'rubber', 'rubbish', 'rubbishbr', 'rubbl', 'rube', 'rubebr', 'rubi', 'rucku', 'rudd', 'rude', 'rudolph', 'rudyard', 'rug', 'ruin', 'ruka', 'rukh', 'rukjan', 'rule', 'ruler', 'rulesbr', 'rumann', 'rumbl', 'rumor', 'rumpi', 'run', 'runaway', 'runbr', 'rundown', 'runner', 'runnerbr', 'runningbound', 'runningbr', 'runofthemil', 'runtim', 'runtime106min', 'rupert', 'rural', 'ruse', 'rush', 'russ', 'russel', 'russia', 'russian', 'russo', 'rusti', 'ruth', 'ruthless', 'ruthlessli', 'ruttenberg', 'ry', 'ryan', 'ryder', 'ryker', 'rykov', 'ryoko', 'rã¼diger', 'sa', 'sab', 'sabella', 'sabin', 'sabina', 'sabotur', 'sabretooth', 'sabriy', 'saccharinfre', 'sachar', 'sack', 'sacr', 'sacred', 'sacrific', 'sacrificebr', 'sacrilegi', 'sad', 'sadashiv', 'sadden', 'saddest', 'saddl', 'sadist', 'sadli', 'sadnessi', 'sadomasoch', 'safari', 'safe', 'sag', 'saga', 'sagal', 'sage', 'sagemil', 'sagnier', 'sahib', 'said', 'sail', 'sailor', 'saint', 'saintli', 'saintmartin', 'saito', 'sakamoto', 'sake', 'sakez', 'saki', 'saknussemm', 'salaci', 'sale', 'salem', 'salesman', 'saleswomen', 'salisburi', 'salka', 'salli', 'salman', 'salo', 'salon', 'salonbr', 'saloon', 'salt', 'salut', 'salvag', 'salvat', 'sam', 'samantha', 'samberg', 'samebr', 'samir', 'sammo', 'samoan', 'sampl', 'samu', 'samubr', 'samuel', 'samurai', 'san', 'sanborn', 'sancho', 'sand', 'sandbag', 'sander', 'sandi', 'sandino', 'sandler', 'sandlerbr', 'sandra', 'sandro', 'sandwich', 'sane', 'sang', 'saniti', 'santa', 'santana', 'santini', 'santoshi', 'sap', 'sappi', 'sara', 'sarah', 'sarcasm', 'sarcast', 'sardinia', 'sare', 'sarg', 'sarn', 'sarpeidon', 'sartain', 'sasquatch', 'sassi', 'sat', 'satan', 'satanicgiallo', 'satanmansonsuperevilman', 'satiat', 'satir', 'satisfact', 'satisfactori', 'satisfi', 'satisfyingbr', 'saturday', 'satya', 'satyagrah', 'satyaâ', 'sauc', 'saudi', 'sausag', 'savag', 'savageri', 'savala', 'savant', 'save', 'savior', 'savvi', 'saw', 'sawa', 'say', 'saybr', 'sayeth', 'sayâ', 'sc', 'scald', 'scale', 'scaletom', 'scam', 'scan', 'scandal', 'scandinavian', 'scanlon', 'scanner', 'scant', 'scantili', 'scar', 'scarc', 'scarciti', 'scare', 'scarecrow', 'scarecrowsthey', 'scarezero', 'scari', 'scarier', 'scarlet', 'scarletwher', 'scarybr', 'scat', 'scath', 'scatman', 'scatolog', 'scatter', 'scattershot', 'scenario', 'scene', 'scenebr', 'sceneforscen', 'sceneri', 'scenerychew', 'scenesbr', 'scenewow', 'scenic', 'scent', 'scepter', 'schedul', 'scheider', 'schell', 'schematicbr', 'scheme', 'schepisiroxann', 'schizophren', 'schlesing', 'schlock', 'schlussel', 'schmid', 'schmooz', 'schmuck', 'schneider', 'scholar', 'school', 'schooland', 'schoolboy', 'schoolbr', 'schooler', 'schoolgirlbr', 'schoolshomosexualitybulli', 'schoolwellnearli', 'schoolyard', 'schrage', 'schtick', 'schtock', 'schulman', 'schwartzman', 'schwarzenegg', 'sci', 'scienc', 'sciencefict', 'scientif', 'scientificmeanwhil', 'scientist', 'scifi', 'scifibr', 'scion', 'scola', 'scolaon', 'scoobi', 'scoobydoo', 'scoop', 'scope', 'scopebr', 'score', 'scoreand', 'scorn', 'scorpion', 'scorses', 'scot', 'scotia', 'scotland', 'scott', 'scottish', 'scottland', 'scoundrel', 'scour', 'scout', 'scraggli', 'scranton', 'scrap', 'scrape', 'scrappi', 'scrapyard', 'scratch', 'scratchi', 'scrawni', 'scream', 'screech', 'screechi', 'screen', 'screenbr', 'screenplay', 'screenplaybr', 'screenwrit', 'screenyou', 'screw', 'screwbal', 'scribe', 'script', 'scriptbr', 'scriptur', 'scriptyikesit', 'scroll', 'scroog', 'scroung', 'scrub', 'scrutini', 'scuba', 'scud', 'sculptur', 'scum', 'scumbag', 'scumbr', 'scurril', 'se', 'sea', 'seagal', 'seal', 'seam', 'seamen', 'seamlessli', 'sean', 'sear', 'search', 'searchbr', 'seasid', 'seasidebr', 'season', 'seat', 'seatsbr', 'seattl', 'sebastian', 'sebastien', 'sec', 'seclud', 'second', 'secondand', 'secondari', 'secondbil', 'secondli', 'secondr', 'secreci', 'secret', 'secretari', 'secretarybr', 'secretli', 'sect', 'section', 'sector', 'secular', 'secur', 'seduc', 'seduct', 'see', 'seebr', 'seedeeeewwww', 'seedi', 'seedier', 'seeid', 'seeingbut', 'seeit', 'seek', 'seem', 'seemingli', 'seen', 'seenbr', 'seenup', 'seesaw', 'seeth', 'seether', 'seethrough', 'sega', 'segal', 'segalwilli', 'segel', 'segment', 'segmentbr', 'segmentsbr', 'segmentseach', 'segreg', 'seidl', 'seidlâ´', 'seitz', 'seizur', 'seldom', 'select', 'self', 'selfabsorb', 'selfassur', 'selfawar', 'selfcent', 'selfcharacter', 'selfconfid', 'selfconsci', 'selfcontain', 'selfdefens', 'selfdestruct', 'selfimport', 'selfimpos', 'selfindulg', 'selfish', 'selfmademan', 'selfmanufactur', 'selfpiti', 'selfproclaim', 'selfrespect', 'selfworth', 'sell', 'selleck', 'seller', 'sellout', 'selma', 'semaphor', 'semblanc', 'semest', 'semi', 'semiautist', 'semibad', 'semiclass', 'seminar', 'semiremak', 'sempl', 'senat', 'send', 'sendup', 'senior', 'sens', 'sensat', 'sensation', 'sensationbr', 'sensebr', 'senseless', 'sensibilitiesbr', 'sensibl', 'sensit', 'sensual', 'sent', 'sentenc', 'sentencebr', 'sentiment', 'sentimentalis', 'sentimentalitybr', 'sentimentbr', 'seoul', 'separ', 'sepia', 'sept', 'sept2', 'septemb', 'sequel', 'sequelbr', 'sequenc', 'sequencebr', 'sequencesexot', 'sequenti', 'serafin', 'seraph', 'serbian', 'seren', 'sergeant', 'sergio', 'seri', 'serial', 'serialbr', 'seriesbr', 'seriocom', 'seriou', 'serious', 'seriouslybr', 'serrano', 'serum', 'serv', 'servant', 'server', 'servic', 'servitud', 'servo', 'servoh', 'servoveri', 'session', 'set', 'setback', 'seth', 'setpiec', 'setsbr', 'settingsbr', 'settl', 'settlement', 'settler', 'setup', 'seuss', 'sev7n', 'seven', 'sevenminut', 'seventeen', 'seventh', 'seventi', 'seventyf', 'seventytwo', 'sever', 'sewer', 'sex', 'sexahol', 'sexcomedi', 'sexcraz', 'sexi', 'sexier', 'sexismbr', 'sexist', 'sexless', 'sexo', 'sexpotactress', 'sextet', 'sexual', 'seymour', 'sf', 'sfx', 'sg', 'sg1', 'sgt', 'sh', 'shaaadaaaap', 'shabnam', 'shade', 'shadi', 'shadix', 'shadow', 'shafi', 'shaft', 'shag', 'shaggi', 'shaka', 'shake', 'shakespear', 'shakespearean', 'shakespearebr', 'shaki', 'shakspear', 'shakti', 'shall', 'shallow', 'shambl', 'shame', 'shamebr', 'shameless', 'shamelessli', 'shane', 'shanghai', 'shangri', 'shannon', 'shant', 'shanti', 'shaolin', 'shape', 'shapeless', 'shapeshift', 'share', 'sharebr', 'sharif', 'shark', 'sharkman', 'sharkth', 'sharmila', 'sharon', 'sharp', 'sharpli', 'sharpshoot', 'shashi', 'shatner', 'shatter', 'shaun', 'shave', 'shaven', 'shaw', 'shawl', 'shawn', 'shawth', 'she', 'shebang', 'shecker', 'shed', 'sheedi', 'sheen', 'sheer', 'sheesh', 'sheet', 'sheeta', 'sheffer', 'sheik', 'shekhar', 'shelf', 'shell', 'shelley', 'shelter', 'shelton', 'shelv', 'shenanigan', 'shepherd', 'sheppard', 'shera', 'sheridan', 'sheriff', 'sherlock', 'sherri', 'sheryl', 'shetti', 'shi', 'shield', 'shift', 'shimku', 'shimono', 'shina', 'shine', 'shingo', 'shini', 'ship', 'shipload', 'shipscrew', 'shirley', 'shirt', 'shirtat', 'shivajibr', 'shiver', 'shlop', 'shnieder', 'shock', 'shocker', 'shockingli', 'shoddi', 'shoddili', 'shoddybr', 'shoe', 'shoestr', 'sholay', 'shone', 'shonki', 'shoo', 'shoot', 'shooter', 'shootout', 'shop', 'shopkeep', 'shopworn', 'shore', 'short', 'shortbr', 'shortcak', 'shortchang', 'shortcircuit', 'shortcom', 'shorten', 'shorter', 'shortest', 'shorthand', 'shorti', 'shortli', 'shortliv', 'shot', 'shotbr', 'shotgun', 'shotsexplod', 'shoulda', 'shouldbr', 'shouldersbr', 'shouldnt', 'shouldv', 'shout', 'shove', 'shovel', 'shovelfight', 'show', 'showbr', 'showcas', 'showdown', 'shower', 'showerspatrician', 'showgirl', 'showmanship', 'shown', 'showsbr', 'showstop', 'showstopp', 'showtim', 'shred', 'shrek', 'shrew', 'shrewish', 'shriek', 'shriekfest', 'shrill', 'shrink', 'shrinkag', 'sht', 'shtick', 'shu', 'shudder', 'shue', 'shuffl', 'shut', 'shuttl', 'shylock', 'shyster', 'sibl', 'sibrel', 'sick', 'sickbr', 'sickeningbr', 'sickest', 'sicki', 'sickli', 'sid', 'side', 'sidekick', 'sidesbr', 'sidespit', 'sidesplit', 'sidewalk', 'sideway', 'sidiou', 'sidney', 'sieg', 'sift', 'sig', 'sigh', 'sight', 'sign', 'signal', 'signbr', 'signifi', 'signific', 'significantli', 'sigur', 'sikh', 'silberl', 'silenc', 'silent', 'silentera', 'silhouett', 'silk', 'silli', 'sillier', 'silliest', 'sillyand', 'sillybr', 'silver', 'silverstein', 'silverston', 'silverwar', 'simba', 'similar', 'similarli', 'simm', 'simmer', 'simmon', 'simon', 'simper', 'simpl', 'simplest', 'simpli', 'simplic', 'simplif', 'simplist', 'simpson', 'simul', 'simultan', 'sin', 'sinatra', 'sinc', 'sincebr', 'sincer', 'sincereso', 'sing', 'singer', 'singeractress', 'singh', 'singin', 'singingi', 'singl', 'singlehandedli', 'singular', 'sinis', 'sinist', 'sink', 'sinkhol', 'sinner', 'siobhan', 'sioux', 'sip', 'sir', 'sirti', 'sissi', 'sista', 'sistahood', 'sister', 'sisterbr', 'sisterfrom', 'sistin', 'sit', 'sitcom', 'sitcomlevel', 'site', 'sitespecif', 'sith', 'sitter', 'situat', 'situationbr', 'siu', 'siufai', 'siutung', 'six', 'sixfist', 'sixminut', 'sixmonthold', 'sixshoot', 'sixteen', 'sixth', 'sixthform', 'sixti', 'sixtiesearli', 'size', 'sizebr', 'skate', 'skateboard', 'skeet', 'skelet', 'skeleton', 'skeletor', 'skeltonpowelllahrobrien', 'skeptic', 'skeptisc', 'sketch', 'ski', 'skierbr', 'skill', 'skilland', 'skillsbr', 'skimpier', 'skin', 'skinheadcmon', 'skinner', 'skinni', 'skip', 'skippi', 'skirt', 'skit', 'skitsbr', 'skull', 'skunk', 'sky', 'skywalk', 'skywrit', 'slab', 'slack', 'slalom', 'slam', 'slamdunk', 'slang', 'slap', 'slapstick', 'slash', 'slasher', 'slashermovi', 'slate', 'slaughter', 'slaughterhous', 'slave', 'slaver', 'slaveri', 'slavishli', 'slay', 'sleaz', 'sleazi', 'sleek', 'sleep', 'sleepaway', 'sleeper', 'sleepi', 'sleepless', 'sleepwalk', 'sleepwalkersfelinehuman', 'sleepwalkersscreenplay', 'slender', 'slept', 'sleuth', 'sleuthwith', 'slevin', 'sli', 'slice', 'slick', 'slicklook', 'slid', 'slide', 'slight', 'slightest', 'slightli', 'slightlybut', 'slightyli', 'slim', 'slime', 'slimi', 'slip', 'slipper', 'slit', 'sloan', 'slob', 'slogan', 'sloggingthrough', 'slop', 'sloppi', 'sloppili', 'sloth', 'slovenli', 'slow', 'slowbuild', 'slowli', 'slowmov', 'slowpac', 'slowpain', 'sludg', 'slug', 'sluggish', 'slum', 'slumber', 'slump', 'slur', 'slut', 'sluttiest', 'smack', 'smackdown', 'small', 'smaller', 'smallest', 'smallscal', 'smalltim', 'smalltown', 'smallwe', 'smap', 'smarmi', 'smart', 'smarter', 'smash', 'smashhit', 'smatter', 'smell', 'smile', 'smiley', 'smilodon', 'smirk', 'smirki', 'smita', 'smith', 'smithe', 'smitten', 'smoke', 'smoker', 'smokingbr', 'smooth', 'smoothli', 'smother', 'smudg', 'smug', 'smuggl', 'smuggler', 'smyrner', 'sn', 'snacka', 'snafu', 'snag', 'snail', 'snake', 'snakesbr', 'snap', 'snapper', 'snappi', 'snapshot', 'snare', 'snarl', 'snatch', 'sneak', 'sneakili', 'snicker', 'snif', 'sniper', 'snippet', 'snitch2', 'snl', 'snob', 'snobbish', 'snoop', 'snoopi', 'snooz', 'snoozer', 'snore', 'snow', 'snowbal', 'snowi', 'snowman', 'snuggest', 'snugli', 'so', 'soak', 'soamong', 'soap', 'soapi', 'sob', 'sobaditsgood', 'sobadthatitisgood', 'sober', 'socal', 'soccer', 'social', 'socialist', 'societi', 'societybr', 'sociolog', 'sociopath', 'sock', 'soda', 'soever', 'sofa', 'sofia', 'soft', 'softbal', 'softballbasebal', 'softcov', 'soften', 'softfocu', 'softwar', 'soggi', 'soh', 'soha', 'soil', 'sojourn', 'sokorowska', 'solac', 'sold', 'soldier', 'sole', 'solemnli', 'solicit', 'solicitor', 'solid', 'soliloquy', 'solitari', 'solo', 'solomon', 'solut', 'solv', 'solvent', 'somber', 'somebodi', 'somebr', 'someday', 'somehow', 'someon', 'someplac', 'somerset', 'someth', 'somethingbr', 'somethingwho', 'sometim', 'sometimesbr', 'somewhat', 'somewher', 'somnambul', 'son', 'sonbr', 'sondra', 'song', 'songsmith', 'sonic', 'sonja', 'sonni', 'sonofagun', 'sonofawitch', 'soon', 'soonbr', 'soontobeexhusband', 'soontobethemainplot', 'sooo', 'soooo', 'sooooo', 'sooth', 'sophi', 'sophia', 'sophist', 'sophomor', 'soppi', 'soprano', 'sorceri', 'sore', 'sorin', 'sorri', 'sorrow', 'sort', 'sorti', 'sortof', 'sorvino', 'sosanta', 'soso', 'soufflã©', 'sought', 'soul', 'soulless', 'soultendieck', 'sound', 'soundera', 'soundtrack', 'soundtrackbr', 'soundtrackwhich', 'soup', 'sour', 'sourc', 'soutendijk', 'south', 'southbr', 'southern', 'southwest', 'southwestern', 'soviet', 'sow', 'sowatch', 'sox', 'soylent', 'sp', 'spa', 'spaak', 'space', 'spacecraft', 'spaceflight', 'spacek', 'spaceship', 'spackler', 'spade', 'spaghetti', 'spain', 'spall', 'spallbr', 'span', 'spandex', 'spanglish', 'spanish', 'spanjer', 'spank', 'spare', 'spark', 'spars', 'spat', 'spatial', 'spatter', 'spawn', 'spaz15', 'spazzi', 'speak', 'speakeasi', 'speaker', 'speakperform', 'spear', 'speci', 'special', 'specialbr', 'specialeffectsladen', 'specialis', 'specialist', 'speciallymad', 'specialti', 'specif', 'spectacl', 'spectacular', 'spectacularbr', 'spectat', 'specter', 'spectral', 'spectrum', 'sped', 'speech', 'speechless', 'speed', 'speedbr', 'speedi', 'spell', 'spencer', 'spend', 'spent', 'spentbr', 'spew', 'sphinx', 'spi', 'spice', 'spici', 'spiel', 'spielberg', 'spike', 'spill', 'spin', 'spinal', 'spine', 'spineless', 'spirit', 'spiritand', 'spiritbr', 'spiritu', 'spit', 'spite', 'spitroast', 'splash', 'splatter', 'spleen', 'splendid', 'splendidlybr', 'splendor', 'splice', 'split', 'splitsecond', 'spock', 'spockmccoy', 'spoil', 'spoiler', 'spoilerbr', 'spoilersbr', 'spoilersth', 'spoke', 'spoken', 'spokesman', 'spong', 'sponsor', 'spoof', 'spoofcomedi', 'spoofparodi', 'spook', 'spooki', 'spoon', 'sporad', 'sport', 'sportno', 'spot', 'spotfest', 'spotlight', 'spoton', 'spotti', 'spous', 'spout', 'spradl', 'spradlin', 'sprawl', 'spray', 'spread', 'spree', 'sprightli', 'spring', 'springer', 'springsteen', 'springtim', 'sprinkl', 'sprite', 'sprung', 'spun', 'spur', 'spurlock', 'spurn', 'spurt', 'squabbl', 'squad', 'squadron', 'squalid', 'squander', 'squar', 'squareoff', 'squash', 'squat', 'squaw', 'squawk', 'squeaki', 'squeamish', 'squeez', 'squint', 'squirm', 'squirt', 'squish', 'sr', 'sr71', 'ss', 'st', 'stab', 'stabl', 'staci', 'staff', 'stag', 'stage', 'stagebound', 'stagebr', 'stagehand', 'stagey', 'stagger', 'staggeringli', 'stagi', 'stagnant', 'stahl', 'stair', 'stairsbr', 'stake', 'stale', 'stalk', 'stalker', 'stalkersbr', 'stalki', 'stall', 'stallion', 'stallon', 'stalwart', 'stamfordconnecticut', 'stammer', 'stan', 'stanc', 'stand', 'standard', 'standardsbr', 'standin', 'standout', 'standpoint', 'standup', 'stanley', 'stanwyck', 'stapl', 'stapleton', 'star', 'star1972', 'starbr', 'stardom', 'stare', 'stargat', 'starhom', 'stark', 'starkli', 'starlet', 'starlift', 'starr', 'starsbr', 'starship', 'starsproduc', 'starstruck', 'starstruckbr', 'starstruckdom', 'starstud', 'start', 'startbr', 'starter', 'startl', 'startoh', 'starv', 'starvat', 'starz', 'state', 'statement', 'stater', 'stathomjak', 'static', 'staticnot', 'station', 'statist', 'statu', 'statur', 'staunch', 'stay', 'stayin', 'std', 'steadi', 'steadili', 'steal', 'stealth', 'steam', 'steamer', 'steami', 'stearn', 'stebbin', 'steel', 'steelebr', 'steelwork', 'steer', 'steiner', 'stella', 'stellar', 'stelvio', 'step', 'stepchildren', 'stepfath', 'stepford', 'stepfordi', 'stephan', 'stephani', 'stephen', 'stepmom', 'stepmotherhood', 'stepsist', 'stereo', 'stereoscop', 'stereotyp', 'steretyp', 'steril', 'sterl', 'stern', 'steve', 'steven', 'stevenson', 'stewart', 'sti', 'stick', 'stickysappi', 'stiff', 'stiffand', 'stifler', 'stile', 'still', 'stiller', 'stillfaith', 'stilt', 'stimul', 'sting', 'stinger', 'stink', 'stinker', 'stinkfest', 'stinko', 'stint', 'stir', 'stirl', 'stitch', 'stitzer', 'stock', 'stoic', 'stole', 'stolen', 'stomach', 'stomachbr', 'stomachturn', 'stomp', 'stone', 'stonecold', 'stoneheng', 'stood', 'stoog', 'stool', 'stooli', 'stoop', 'stop', 'store', 'storebr', 'stori', 'storiesbi', 'storieseven', 'storieswritingsupport', 'storm', 'stormar', 'stormi', 'storybr', 'storyhistor', 'storyit', 'storylin', 'storymovi', 'storysoap', 'storytel', 'storywis', 'storyâ', 'stow', 'straight', 'straightahead', 'straighten', 'straightfac', 'straightforward', 'straightth', 'strain', 'strait', 'strand', 'strang', 'strangelook', 'stranger', 'strangest', 'strangl', 'strap', 'strapon', 'strata', 'strateg', 'strategi', 'strathairn', 'stratten', 'stratton', 'stratu', 'straw', 'strawberri', 'strawman', 'stray', 'streak', 'stream', 'streamofconsci', 'streep', 'street', 'streetbr', 'streetcar', 'streetsbr', 'streetwalk', 'streetwis', 'streisand', 'strength', 'stress', 'stretch', 'strick', 'strict', 'strictli', 'stride', 'strident', 'stridesbr', 'strieber', 'strife', 'strike', 'strindberg', 'string', 'strip', 'stripe', 'stripper', 'strive', 'stroke', 'stroll', 'stromboli', 'strombolibr', 'strong', 'stronger', 'strongest', 'strongli', 'struck', 'structur', 'struggl', 'strugglethank', 'strut', 'stuart', 'stubbornbr', 'stuck', 'stud', 'student', 'studi', 'studio', 'studiosbr', 'studious', 'stuf', 'stuff', 'stuffbr', 'stuffi', 'stumbl', 'stun', 'stunk', 'stunningli', 'stunt', 'stuntman', 'stuntwork', 'stupefyingli', 'stupid', 'stupidbr', 'stupiddriven', 'stupidest', 'stupidli', 'stupidsort', 'style', 'styleand', 'stylis', 'stylish', 'stylishli', 'stylist', 'styliz', 'stã©phane', 'su', 'suav', 'sub', 'subconsci', 'subdu', 'subfordian', 'subhero', 'subject', 'subjecthmmm', 'subjug', 'sublimin', 'submarin', 'submerg', 'submiss', 'submit', 'subpar', 'subplot', 'subscrib', 'subsequ', 'substanc', 'substandard', 'substanti', 'substantivebr', 'substat', 'substitut', 'subterranean', 'subtext', 'subtitl', 'subtl', 'subtleti', 'subtli', 'suburban', 'suburbia', 'subvert', 'subway', 'subwaybr', 'succe', 'succeed', 'succeedbr', 'success', 'successbr', 'successfula', 'successor', 'succumb', 'suck', 'suckbr', 'suckedbut', 'sucker', 'sucksonli', 'sudden', 'suddenli', 'sudsi', 'sue', 'suffer', 'sufferbr', 'sufferingbr', 'suffic', 'suffici', 'suffoc', 'sugar', 'sugarplam', 'sugarysweet', 'suggest', 'suicid', 'suit', 'suitabl', 'suitcas', 'suleiman', 'sulfur', 'sulk', 'sulki', 'sullesteian', 'sullivan', 'sum', 'summar', 'summari', 'summarili', 'summer', 'summerslam', 'summertim', 'summit', 'summon', 'sumpin', 'sumptuou', 'sumptuous', 'sun', 'sunback', 'sunbeam', 'sunday', 'sung', 'sunlight', 'sunni', 'sunnybrook', 'sunrisesunset', 'sunshin', 'super', 'superamerican', 'superb', 'superbad', 'superbadesquir', 'superbbr', 'superbespeci', 'superbl', 'supercop', 'superfici', 'superfli', 'superflu', 'superhero', 'superimpos', 'superior', 'superman', 'supermarket', 'supernatur', 'supernova', 'superplex', 'superpow', 'superstar', 'superstiti', 'supervis', 'supervisor', 'suplex', 'supplant', 'supplementari', 'suppli', 'support', 'suppos', 'supposebr', 'supposedli', 'suppress', 'suprem', 'supremehelly', 'supris', 'sure', 'surebr', 'surefoot', 'surf', 'surfac', 'surfer', 'surferdud', 'surfingbeach', 'surfingor', 'surg', 'surgeon', 'surgeri', 'surmis', 'surpass', 'surpris', 'surprisebr', 'surprisingli', 'surreal', 'surrealist', 'surrend', 'surrogaci', 'surround', 'surveil', 'surviv', 'survivebr', 'survivor', 'susan', 'susannah', 'suse', 'suspect', 'suspend', 'suspens', 'suspensethi', 'suspici', 'suspicion', 'suspiciouli', 'sustain', 'sutherland', 'suv', 'suzann', 'suzanna', 'sverak', 'swallow', 'swampland', 'swansong', 'swap', 'swarg', 'swarm', 'swashbuckl', 'sway', 'swayz', 'swear', 'swearbr', 'swearingbr', 'sweat', 'sweaterbr', 'swedish', 'swedlow', 'sweeet', 'sweeney', 'sweep', 'sweet', 'sweetest', 'sweetin', 'sweetli', 'sweetnatur', 'swell', 'swift', 'swig', 'swim', 'swimfan', 'swimsuit', 'swing', 'swipe', 'swirl', 'swiss', 'switch', 'switzerland', 'swoon', 'swoop', 'sword', 'swordandsorceri', 'swordplay', 'sworn', 'swung', 'sxsw', 'syberberg', 'sydney', 'syfi', 'syke', 'sylvest', 'sylvi', 'symbol', 'sympath', 'sympathet', 'sympathi', 'sympathis', 'symptom', 'symptomat', 'sync', 'synch', 'syndic', 'syndrom', 'syndromebr', 'syndromelet', 'synonym', 'synopsi', 'synthedup', 'synthes', 'synthet', 'syrup', 'syrupi', 'system', 'systembr', 'szifron', 'szwarc', 'sã', 'sã¡lo', 'sã¸ren', 'ta', 'tabl', 'tableau', 'tableaux', 'tablewar', 'tabloid', 'taboo', 'tabu', 'tack', 'tacki', 'tackier', 'tackl', 'tacoma', 'tactic', 'tad', 'taft', 'tag', 'taglin', 'taglinebr', 'tagor', 'tail', 'taiwanes', 'takashi', 'takaya', 'take', 'takeaway', 'takebr', 'takemitsu', 'taken', 'takeoff', 'taker', 'tale', 'talefind', 'talent', 'talentbr', 'talentless', 'talespin', 'taletel', 'talk', 'talki', 'talkiest', 'talkingbr', 'talkinghead', 'talkingmachin', 'talkridden', 'talkshow', 'tall', 'talli', 'tamblyn', 'tame', 'tamper', 'tanaka', 'tandem', 'tandi', 'tangent', 'tangenti', 'tangibl', 'tangl', 'tank', 'tantal', 'tanya', 'taoist', 'tap', 'tape', 'tapehouseelectr', 'tara', 'tarantino', 'tarantula', 'tarantulabr', 'target', 'targetsbr', 'tarnish', 'tarpon', 'tarzan', 'tashan', 'tashlin', 'task', 'taskmast', 'tast', 'tastelessbr', 'tastesi', 'tasti', 'tatanka', 'tate', 'tatter', 'tattoo', 'taught', 'taut', 'tavern', 'taviani', 'tax', 'taxi', 'taxpay', 'taylor', 'tbn', 'tchaikovski', 'tcm', 'tea', 'teabr', 'teach', 'teacher', 'teacherglenn', 'teacherssilli', 'teagu', 'tealc', 'team', 'teamwork', 'tear', 'tearjerk', 'teas', 'teaser', 'tech', 'techi', 'technic', 'technicolor', 'technicolour', 'techniqu', 'techniquebr', 'technocrat', 'technolog', 'technologybr', 'technonintendo', 'ted', 'teddi', 'teddybr', 'tediou', 'tedious', 'tedium', 'teem', 'teen', 'teenag', 'teenagersand', 'teenbop', 'teenha', 'teesri', 'teeth', 'telegraph', 'telemovi', 'televis', 'televisionbr', 'televisionthough', 'tell', 'teller', 'telli', 'temecula', 'temer', 'temp', 'temper', 'tempera', 'temperament', 'temperatur', 'tempest', 'tempi', 'templ', 'templar', 'templat', 'templeton', 'tempor', 'temporari', 'temporarili', 'tempt', 'temptat', 'ten', 'tenanci', 'tenantsbr', 'tenaru', 'tenberken', 'tend', 'tendenc', 'tender', 'tenderheart', 'tenfold', 'tenner', 'tennesse', 'tenni', 'tenor', 'tens', 'tension', 'tensionfil', 'tent', 'tentacl', 'tenth', 'tenuta', 'tepid', 'tepidli', 'terenc', 'teresa', 'tereza', 'teri', 'term', 'termin', 'terrain', 'terrfic', 'terri', 'terribl', 'terriblebr', 'terrif', 'terrifi', 'terrificbr', 'terrificit', 'terrifyingli', 'territori', 'terror', 'terroris', 'terrorist', 'terrythoma', 'ters', 'tess', 'test', 'testimoni', 'testosteronefil', 'tetzlaff', 'texa', 'text', 'textbr', 'textil', 'textur', 'th', 'thailand', 'thalmu', 'thank', 'thankfullybr', 'thankfullybut', 'thankless', 'thanksgiv', 'thanksgivingu', 'that', 'thatbr', 'thatch', 'thati', 'thatll', 'thatth', 'thaw', 'theater', 'theatersbr', 'theatr', 'theatresbr', 'theatric', 'thebom', 'thee', 'theft', 'thelma', 'themat', 'thembr', 'theme', 'themselvesbr', 'theo', 'theolog', 'theori', 'theoriz', 'theorybr', 'therapi', 'there', 'thereaft', 'therebi', 'therebr', 'therefor', 'therein', 'thereof', 'thereon', 'therer', 'thermostat', 'theron', 'thesauru', 'thesi', 'thesig', 'thet', 'thew', 'thewlisbr', 'theyd', 'theyll', 'theyr', 'theyv', 'thick', 'thickbr', 'thickdark', 'thickplot', 'thief', 'thieriot', 'thiessen', 'thieveri', 'thin', 'thing', 'thingalthough', 'thingbr', 'thingsat', 'thingsbr', 'think', 'thinkbr', 'thinkingbr', 'thinkjust', 'thinksbr', 'thinli', 'thinner', 'third', 'thirst', 'thirteen', 'thirti', 'thirtiesbr', 'thisa', 'thisbr', 'thisi', 'thisisanimportantfilm', 'thisw', 'tho', 'tholian', 'thom', 'thoma', 'thompson', 'thor', 'thorn', 'thornesmith', 'thornton', 'thoroughbr', 'thoroughli', 'though', 'thoughbr', 'thought', 'thoughtprovok', 'thoughtsbehavior', 'thousand', 'thousandcutsaminut', 'thousandsbr', 'thread', 'threadbar', 'threat', 'threaten', 'three', 'threequart', 'threesom', 'threestori', 'threeway', 'threw', 'thrill', 'thriller', 'thrillerbr', 'thrillerdrama', 'thrillergi', 'thrillerhorror', 'thrillsbr', 'thrive', 'throat', 'throata', 'throe', 'throne', 'throughh', 'throughout', 'throughoutbr', 'throw', 'throwaway', 'thrown', 'throwupinyourmouth', 'thrust', 'thrustbr', 'thu', 'thug', 'thugge', 'thumb', 'thumbflirt', 'thump', 'thunder', 'thunderbolt', 'thunderdom', 'thunderstorm', 'thurman', 'thurmanbr', 'ti', 'tian', 'tibetan', 'tiburon', 'tic', 'tick', 'ticket', 'tickl', 'tidal', 'tidbit', 'tide', 'tidi', 'tie', 'tiempo', 'tier', 'tierney', 'tiffani', 'tiffanyamb', 'tiger', 'tigerland', 'tight', 'tighter', 'tightfit', 'tightli', 'til', 'tile', 'till', 'tilt', 'tim', 'timber', 'time', 'timeand', 'timeboth', 'timebr', 'timecrim', 'timeless', 'timelessbr', 'timelik', 'timelin', 'timelinebr', 'timemoney', 'timeperiod', 'timer', 'timesbr', 'timewalt', 'timid', 'timon', 'timothi', 'tin', 'ting', 'tingwel', 'tini', 'tiniest', 'tip', 'tire', 'tiresom', 'tissu', 'tit', 'titan', 'titanica', 'titfield', 'titil', 'titillationbr', 'titl', 'tito', 'titular', 'tn', 'to', 'toad', 'toast', 'tobacco', 'tobe', 'tobey', 'tobi', 'tobia', 'tobr', 'tocamera', 'today', 'todaybr', 'todaywhich', 'todd', 'toe', 'toga', 'togar', 'togeth', 'togetherbr', 'togetherthi', 'toilet', 'tojo', 'token', 'tokyo', 'told', 'toler', 'toleratebr', 'toll', 'tom', 'toma', 'tomato', 'tomb', 'tomboy', 'tombston', 'tome', 'tomei', 'tomm', 'tommi', 'tomorrow', 'ton', 'tone', 'toneddown', 'tonedeaf', 'tongu', 'tongueincheek', 'tongueti', 'toni', 'tonight', 'tonk', 'tonn', 'tonnerr', 'toobr', 'took', 'tool', 'toon', 'toooo', 'toooooo', 'tooshort', 'tooth', 'toothless', 'tootruetolif', 'top', 'topactor', 'topbil', 'tope', 'topher', 'topic', 'topless', 'toplin', 'topnotch', 'torch', 'torchi', 'toren', 'tori', 'torment', 'tormentor', 'torn', 'toronto', 'torpedo', 'torranc', 'torri', 'torrid', 'tortur', 'torturebr', 'toru', 'tosh', 'toss', 'total', 'tote', 'totem', 'totoro', 'touch', 'tough', 'toughasnail', 'tougher', 'tour', 'tourdeforc', 'tourist', 'tourneur', 'toussaint', 'tout', 'tow', 'toward', 'towatch', 'towel', 'towelhead', 'tower', 'town', 'townsend', 'townsfolk', 'toxic', 'toy', 'toyota', 'toytown', 'tp', 'trace', 'track', 'trackbr', 'trackspeed', 'trade', 'trademark', 'trader', 'tradit', 'traditionsan', 'traffic', 'traffick', 'tragedi', 'tragic', 'trail', 'trailer', 'trailersbr', 'trailgood', 'train', 'trainspot', 'trait', 'traitor', 'traitsbr', 'tramp', 'tran', 'tranc', 'tranquil', 'transcend', 'transcendent', 'transcript', 'transfer', 'transferbr', 'transform', 'transgen', 'transienc', 'transit', 'translat', 'transmiss', 'transmut', 'transpar', 'transpir', 'transplant', 'transport', 'transsexu', 'transvestit', 'transylvania', 'transylvanian', 'trap', 'trash', 'trashbr', 'trashi', 'trashlit', 'trashman', 'trashmast', 'trauma', 'traumat', 'travail', 'travel', 'travelbr', 'travelse', 'traver', 'travesti', 'travolta', 'tray', 'treacher', 'treacheri', 'tread', 'treadmil', 'treasur', 'treasuri', 'treat', 'treatbr', 'treatment', 'trebley', 'trebor', 'tree', 'treeuhhuh', 'trek', 'treka', 'trembl', 'tremend', 'trench', 'trenchant', 'trenchcoat', 'trend', 'trenholmgeorg', 'trent', 'trentbr', 'trepid', 'treviss', 'trevor', 'trex', 'trexa', 'tri', 'triadsritu', 'trial', 'triangl', 'tribal', 'tribe', 'tribul', 'tribun', 'tribut', 'trick', 'trickeri', 'tricki', 'tricksi', 'trickster', 'trident', 'trier', 'trigger', 'trike', 'trilog', 'trilogybr', 'trintign', 'trio', 'trip', 'tripebr', 'tripl', 'tripleplay', 'triplet', 'trish', 'trite', 'triton', 'triumph', 'trivia', 'trivial', 'trojan', 'troll', 'troma', 'trombon', 'troop', 'trooper', 'trope', 'trophi', 'trotta', 'trotter', 'troubl', 'troublesom', 'troup', 'trouser', 'truck', 'trudi', 'true', 'true2lif', 'truebr', 'truelif', 'truetolif', 'truli', 'truman', 'trump', 'trumpet', 'trundl', 'trunk', 'trust', 'trustfund', 'truth', 'trybr', 'tryout', 'tryst', 'tsang', 'tsui', 'tsurumi', 'tub', 'tuba', 'tube', 'tubercular', 'tucker', 'tuff', 'tug', 'tuileri', 'tulip', 'tulli', 'tumor', 'tumultu', 'tune', 'tuneless', 'tung', 'tuni', 'tunisia', 'tunisian', 'tunnel', 'tunney', 'tupac', 'turd', 'turf', 'turgid', 'turkey', 'turn', 'turner', 'turnoff', 'turret', 'turtl', 'turtorro', 'turturro', 'tush', 'tutor', 'tux', 'tv', 'tvexcept', 'twelv', 'twenti', 'twentiesbr', 'twentieth', 'twentysometh', 'twice', 'twiddl', 'twig', 'twilight', 'twin', 'twinkl', 'twist', 'twistbr', 'twisti', 'twistsbr', 'twistsdevic', 'two', 'twoandahalf', 'twobr', 'twocharact', 'twoonon', 'twoseat', 'twoselect', 'twotim', 'twoyear', 'ty', 'tycoon', 'tylo', 'tyne', 'type', 'typecast', 'typewrit', 'typic', 'typifi', 'typographi', 'tyranni', 'tyron', 'u', 'ubiquit', 'uboat', 'ucm', 'ufo', 'ugh', 'ugli', 'ugliest', 'uh', 'uhhh', 'uk', 'ulcer', 'ulli', 'ulrich', 'ulterior', 'ultim', 'ultra', 'ultrafam', 'ultralight', 'ultraviol', 'um', 'uma', 'umbrag', 'umbrella', 'umit', 'unabash', 'unabashedli', 'unabl', 'unafraid', 'unansw', 'unapp', 'unappreci', 'unarm', 'unasco', 'unattract', 'unawar', 'unbalanc', 'unbear', 'unbearablebarbara', 'unbeliev', 'unbelievablebr', 'unbelievablehowev', 'unbias', 'unbroken', 'uncal', 'uncanni', 'uncannili', 'uncar', 'uncensor', 'uncertain', 'uncharacterist', 'uncl', 'unclear', 'uncomfort', 'uncommon', 'uncommonli', 'uncompromis', 'unconsci', 'uncontrol', 'unconvent', 'unconvinc', 'uncov', 'uncredit', 'uncrit', 'uncut', 'undead', 'undeadbr', 'undemand', 'undeni', 'undeniablyth', 'underappreci', 'underbelli', 'undercard', 'undercov', 'undercurr', 'undercut', 'underdevelop', 'underdog', 'underdon', 'underemploy', 'underground', 'underlin', 'undermin', 'underneath', 'underpaid', 'underpin', 'underplay', 'underqualif', 'underr', 'underscor', 'undersea', 'underst', 'understand', 'understandablebr', 'understat', 'understood', 'understretch', 'undertak', 'undertakerlast', 'underus', 'underwat', 'underwear', 'underwhelm', 'underwood', 'underworld', 'undetect', 'undisput', 'undoubtedli', 'une', 'uneasi', 'unemot', 'unemploy', 'unengag', 'unentertain', 'unequivoc', 'unessenti', 'unev', 'uneven', 'unexcit', 'unexpect', 'unexpectedli', 'unexplain', 'unfactu', 'unfathom', 'unfilm', 'unfinish', 'unflatt', 'unflatteringli', 'unflyabl', 'unfold', 'unforc', 'unforgett', 'unforgiv', 'unforssen', 'unfortuanitli', 'unfortun', 'unfriendli', 'unfulfil', 'unfun', 'unfunni', 'unfunnybas', 'ungar', 'unger', 'unglamoris', 'unhappi', 'unhappili', 'unharm', 'unhealthi', 'unhing', 'unholi', 'uni', 'unicorn', 'unifi', 'uniform', 'uniformli', 'unimpress', 'uninspir', 'uninspiredbr', 'unintellig', 'unintend', 'unintent', 'uninterest', 'uninvit', 'union', 'unionist', 'uniqu', 'unit', 'unitbr', 'uniti', 'univers', 'unkil', 'unkind', 'unknown', 'unleash', 'unless', 'unlessbr', 'unlik', 'unliken', 'unmarri', 'unmask', 'unmemor', 'unmind', 'unmistak', 'unmitig', 'unmotiv', 'unnatur', 'unneccessari', 'unnecessari', 'unnecessarili', 'unneed', 'unnerv', 'unnot', 'unnuanc', 'unoffici', 'unorigin', 'unoriginalitybr', 'unorthodox', 'unpatronis', 'unperceiv', 'unpleas', 'unpredict', 'unprepar', 'unpretenti', 'unproduc', 'unquestion', 'unrat', 'unravel', 'unreal', 'unrealist', 'unrel', 'unremark', 'unresolv', 'unruli', 'unrurli', 'unsaid', 'unsalt', 'unsatisfactori', 'unsatisfi', 'unsav', 'unsavori', 'unscath', 'unscrupul', 'unseemli', 'unseen', 'unsettl', 'unshak', 'unshaven', 'unspeak', 'unspoil', 'unspoken', 'unstyl', 'unsubstantialbor', 'unsubtl', 'unsubtli', 'unsuccess', 'unsung', 'unsur', 'unsurpass', 'unsuspect', 'untal', 'untam', 'untergang', 'unterwaldt', 'unteth', 'unthink', 'unthreaten', 'untim', 'unto', 'untouch', 'untouchedbr', 'untru', 'unusu', 'unveil', 'unw', 'unwari', 'unwashedahemfront', 'unwatch', 'unwilling', 'unwind', 'unwittingli', 'unwrap', 'uomini', 'up', 'upandcom', 'upbeat', 'upbr', 'upbring', 'upcom', 'updat', 'uplift', 'upon', 'upper', 'upperclass', 'uproar', 'upros', 'upscal', 'upset', 'upsid', 'uptight', 'upward', 'uranium', 'urban', 'urbania', 'urbib', 'urchin', 'urg', 'urgenc', 'urgent', 'urgh', 'uriah', 'urin', 'us', 'usa', 'usag', 'usbr', 'use', 'useless', 'usembassi', 'user', 'usernam', 'usingbr', 'uso', 'uspeopl', 'ustinov', 'usual', 'usur', 'utah', 'util', 'utter', 'utterli', 'uturn', 'v', 'vacant', 'vacat', 'vacationbr', 'vacuum', 'vader', 'vadi', 'vadim', 'vagari', 'vagu', 'vaguelypolit', 'vail', 'vain', 'vale', 'valedict', 'valentin', 'valentino', 'valeri', 'valeria', 'valett', 'valid', 'valient', 'valley', 'valli', 'valseus', 'valu', 'valuabl', 'vampir', 'vampirelik', 'vampyr', 'van', 'vancouv', 'vandal', 'vanessa', 'vanguard', 'vani', 'vanilla', 'vanish', 'vaniti', 'vannet', 'vanquish', 'vantag', 'vapid', 'vari', 'variabl', 'variat', 'varieti', 'variou', 'vase', 'vast', 'vastli', 'vaterland', 'vaudevil', 'vaudevillian', 'vaug', 'vault', 'vbr', 'vcr', 'vee', 'veer', 'vega', 'vehicl', 'veidt', 'veil', 'vein', 'velankar', 'velociraptor', 'venal', 'vendetta', 'veneer', 'venezuela', 'venezuelan', 'veng', 'vengeanc', 'venic', 'vent', 'ventur', 'venu', 'vera', 'veraellen', 'verb', 'verbal', 'verbiag', 'verdi', 'verdict', 'verdon', 'vereen', 'verg', 'verhoeven', 'verili', 'verit', 'vermont', 'vern', 'verndon', 'vernon', 'veronica', 'veronika', 'verri', 'vers', 'versa', 'versatil', 'version', 'versioncheck', 'versionsbr', 'versu', 'vessel', 'vet', 'veteran', 'veterinarian', 'veto', 'vh', 'vi', 'via', 'viabl', 'vibe', 'vibealan', 'vibrant', 'vibrato', 'vic', 'vicari', 'vice', 'vicey', 'viciou', 'vicker', 'vicki', 'victim', 'victimsbr', 'victor', 'victori', 'victoria', 'victoriaa', 'victorian', 'vidal', 'video', 'videobr', 'videograph', 'videoshear', 'videostor', 'videotap', 'vidor', 'vie', 'vierd', 'viertel', 'vietnam', 'view', 'viewand', 'viewatlif', 'viewer', 'viewerth', 'viewingbr', 'viewpoint', 'viewyoul', 'viggo', 'vigil', 'vigilant', 'vigor', 'vii', 'vijay', 'vile', 'vilif', 'villa', 'villag', 'villain', 'villian', 'vin', 'vinc', 'vincent', 'vincenzo', 'vinci', 'vinni', 'vintag', 'vinyl', 'violat', 'violenc', 'violenceth', 'violent', 'violin', 'vipco', 'viper', 'virgin', 'virginbr', 'virginia', 'virtu', 'virtual', 'virtuethreaten', 'virtuou', 'viru', 'virul', 'virusinfect', 'visa', 'visabl', 'viscer', 'viscera', 'vishal', 'visial', 'visibl', 'vision', 'visionari', 'visit', 'visitor', 'visual', 'vital', 'vito', 'vittorio', 'vivian', 'vivid', 'vividli', 'vivisect', 'vlissingen', 'vocabulari', 'vocal', 'vodka', 'vogu', 'voic', 'voicebr', 'voiceofreason', 'voiceov', 'voicework', 'voight', 'voigt', 'volcan', 'volckman', 'volken', 'volkoff', 'volley', 'voltag', 'volum', 'volunt', 'volã©', 'volã©th', 'vomit', 'vomitbr', 'von', 'vonnegut', 'voodoo', 'voorhe', 'vote', 'voter', 'vow', 'voyag', 'voyagerbr', 'voyeur', 'vs', 'vu', 'vulcan', 'vulgar', 'vulner', 'vy', 'vye', 'vã¹', 'w', 'waaaaay', 'wacki', 'wafer', 'waferthin', 'waffl', 'wag', 'wage', 'wagerfost', 'waggon', 'wagner', 'wagon', 'wai', 'waiman', 'wait', 'waitbr', 'waiter', 'waitress', 'waitressingwho', 'wake', 'wakeup', 'waldo', 'walentin', 'walk', 'walkbr', 'walken', 'walkenbr', 'walker', 'walkin', 'walkon', 'walkway', 'wall', 'wallac', 'wallach', 'wallet', 'walley', 'walli', 'wallofsound', 'walltowal', 'walmart', 'walon', 'walsh', 'walter', 'wanda', 'wander', 'wane', 'wang', 'wanna', 'wannab', 'want', 'wantbr', 'wantsbr', 'war', 'warbr', 'ward', 'wardh', 'wardrob', 'ware', 'wareham', 'warehous', 'warehousefurnitur', 'warfield', 'warhol', 'wari', 'warlockbr', 'warlord', 'warm', 'warmer', 'warmth', 'warn', 'warner', 'warningsbr', 'warp', 'warrant', 'warren', 'warrior', 'wart', 'wartim', 'wartorn', 'wasbr', 'washboard', 'washedout', 'washington', 'washo', 'wasi', 'wasit', 'wasnt', 'wasp', 'waspi', 'wast', 'wastag', 'wasteland', 'wastruli', 'watanab', 'watch', 'watchabl', 'watchbr', 'watchbut', 'watcher', 'watchingbr', 'watchingthi', 'watcxh', 'water', 'waterfront', 'watermelon', 'waterworld', 'watsoev', 'watson', 'wave', 'waver', 'waw', 'wawbr', 'wax', 'waxman', 'waxwork', 'way', 'wayan', 'waybr', 'wayeven', 'wayit', 'wayn', 'waysbr', 'wayward', 'wb', 'wcw', 'we', 'weak', 'weakasbadtea', 'weakbr', 'weaker', 'weakest', 'weaklam', 'wealth', 'wealthi', 'wean', 'weapon', 'wear', 'weari', 'weather', 'weatherbeaten', 'weatherbr', 'weaver', 'web', 'webb', 'webr', 'websit', 'wed', 'wedg', 'wednesday', 'weed', 'weege', 'week', 'weekbr', 'weekend', 'weekfind', 'weekli', 'weeksbr', 'weep', 'weeper', 'weepi', 'wei', 'weid', 'weigang', 'weigh', 'weight', 'weihenmey', 'weir', 'weird', 'weirdlook', 'welch', 'welcom', 'weld', 'welfar', 'well', 'wellact', 'wellb', 'wellbr', 'wellchristoph', 'wellcontain', 'welldeserv', 'welldevelop', 'welldevelopedit', 'welldirect', 'welldon', 'welldress', 'wellendow', 'weller', 'wellin', 'wellknown', 'wellmad', 'wellmann', 'wellmean', 'wellnow', 'wellresearch', 'wellround', 'welluh', 'wellworn', 'wellwritten', 'welsh', 'wembley', 'wen', 'wendi', 'wendigo', 'wendt', 'went', 'wentworth', 'wereat', 'werebr', 'werefallinginlov', 'werent', 'werewolf', 'werewolv', 'werner', 'wertmul', 'wesley', 'west', 'westerberg', 'western', 'westland', 'wet', 'wetback', 'wetwork', 'weve', 'weâ´ll', 'whale', 'what', 'whatbr', 'whatev', 'whatll', 'whatsoev', 'whatsoeverbr', 'whatsoeverg', 'wheel', 'wheelchair', 'wheelchairbound', 'when', 'whenc', 'whenev', 'wherea', 'whereabout', 'wherein', 'whereupon', 'whether', 'whew', 'whichev', 'whig', 'whilebr', 'whilst', 'whimper', 'whimsi', 'whimsic', 'whine', 'whip', 'whirl', 'whirlwind', 'whisk', 'whiskey', 'whiski', 'whisper', 'whistl', 'whitak', 'white', 'whitehead', 'whitesbr', 'whitesof', 'whitewash', 'whitey', 'whitley', 'whitmor', 'whizkid', 'whizz', 'who', 'whodunit', 'whoever', 'whoin', 'whole', 'wholeheartedli', 'wholesal', 'wholesom', 'wholl', 'wholli', 'whombr', 'whomev', 'whooo', 'whooobr', 'whoopi', 'whore', 'whose', 'whotta', 'whove', 'whow', 'whoâ\\x80\\x99', 'whydidieverseethispieceofzombiedungblu', 'wich', 'wick', 'wicker', 'wide', 'wider', 'widescreen', 'widespread', 'widewcw', 'widmark', 'widow', 'wield', 'wife', 'wifebehind', 'wifehepburn', 'wig', 'wiggl', 'wight', 'wike', 'wilcox', 'wild', 'wilder', 'wilderbr', 'wildfir', 'wildli', 'wile', 'wilford', 'will', 'willem', 'willi', 'william', 'williamson', 'willow', 'wilson', 'wimmer', 'wimp', 'wimpi', 'win', 'winamp', 'wincott', 'wind', 'window', 'windowbr', 'windowsbut', 'windshield', 'windup', 'wine', 'wing', 'winger', 'winier', 'winkler', 'winner', 'winning', 'wino', 'winona', 'winter', 'winterbr', 'winwin', 'wipe', 'wippleman', 'wire', 'wirefram', 'wirework', 'wisconsin', 'wisdom', 'wise', 'wisebr', 'wisecrack', 'wish', 'wiskey', 'wisp', 'wit', 'witch', 'witchblad', 'witchbr', 'witchcraft', 'with', 'withbr', 'withdraw', 'withdrawnbr', 'witherspoon', 'withheld', 'within', 'without', 'withstand', 'witless', 'witti', 'wittiest', 'wive', 'wiz', 'wizard', 'wkw', 'wo', 'wobbl', 'wodehous', 'woe', 'woeful', 'woefulli', 'woerner', 'woke', 'woken', 'wolf', 'wolitz', 'wolv', 'woman', 'womanbr', 'womanhat', 'women', 'wonder', 'wonderfulbr', 'wonderfullybr', 'wonderfullynam', 'wonderland', 'wondrous', 'wong', 'wont', 'woo', 'wood', 'wooden', 'woodi', 'woodland', 'woodrel', 'woodsi', 'woodstock', 'woodward', 'word', 'wordamazingbr', 'wordforword', 'wordless', 'wordsbr', 'wore', 'work', 'workaday', 'workand', 'workbr', 'worker', 'workforc', 'workingclass', 'workplac', 'worksbr', 'worksit', 'world', 'worldand', 'worldbr', 'worldclass', 'worldrenown', 'worldsh', 'worldview', 'worldweari', 'worldwid', 'wormhol', 'worn', 'woronov', 'worri', 'worringli', 'wors', 'worsealthough', 'worsebr', 'worship', 'worshipthehumblework', 'worst', 'worth', 'worthdyingfor', 'worthi', 'worthless', 'worthwhil', 'worthwhilebr', 'would', 'wouldb', 'wouldnt', 'wouldv', 'wound', 'wounder', 'wow', 'wrangl', 'wrap', 'wrappedbr', 'wrath', 'wreak', 'wreck', 'wrench', 'wrestl', 'wrestlemania', 'wrestler', 'wretch', 'wretchedli', 'wri', 'wright', 'wrinkl', 'wrist', 'wristsbr', 'writ', 'write', 'writer', 'writerdirector', 'writerdirectoractor', 'writerdirectorproducerlead', 'writingbr', 'written', 'wrong', 'wrongbr', 'wrongli', 'wrote', 'wrought', 'wtf', 'wu', 'wufeii', 'wuss', 'wuther', 'wuxia', 'wv', 'ww', 'wwastebr', 'wwe', 'wwf', 'wwi', 'wwii', 'wwiibr', 'wwwceiorg', 'wwwceiorgpdf5539pdf', 'wwwmikeandvickicom', 'wyli', 'wyman', 'x', 'x2', 'x4', 'x5', 'x77', 'xgirlfriend', 'xiao', 'xine', 'xmen', 'xp', 'xrate', 'y2k', 'ya', 'yaayyyyy', 'yabr', 'yadda', 'yahoo', 'yamamura', 'yang', 'yangcruiserweight', 'yank', 'yaphet', 'yard', 'yardstick', 'yarn', 'yasbeck', 'yawn', 'yawnarooni', 'yawner', 'yay', 'ye', 'yea', 'yeah', 'yeahth', 'year', 'yearbr', 'yearn', 'yearold', 'yearsbr', 'yearth', 'yeh', 'yell', 'yellow', 'yelp', 'yemen', 'yenp', 'yep', 'yer', 'yester', 'yesterday', 'yesâ', 'yet', 'yetbr', 'yeti', 'yetian', 'yiddish', 'yield', 'yike', 'yoda', 'yogurt', 'yokai', 'yoke', 'yokozuna', 'yonekura', 'york', 'yorkbr', 'yorker', 'yorkersand', 'yorki', 'youbr', 'youd', 'youit', 'youll', 'young', 'youngbr', 'younger', 'youngest', 'youngster', 'your', 'yourselfwhatev', 'youth', 'youtub', 'youv', 'youwhi', 'yr', 'yu', 'yuckbr', 'yul', 'yule', 'yum', 'yummi', 'yuppi', 'yuzna', 'yvett', 'z', 'zach', 'zadora', 'zane', 'zani', 'zanuck', 'zanzeer', 'zap', 'zapar', 'zaphoidbr', 'zappedbr', 'zara', 'zarabeth', 'zarchi', 'zeitgeist', 'zelah', 'zelahasjan', 'zen', 'zenderland', 'zenia', 'zentropa', 'zero', 'zest', 'zesti', 'zeu', 'zgrade', 'zhang', 'zhuangzhuang', 'ziegler', 'zigfield', 'zine', 'zinta', 'zip', 'zippo', 'zirconia', 'zlevel', 'zoe', 'zoey', 'zombi', 'zombiesbr', 'zombieshow', 'zone', 'zoo', 'zoom', 'zu', 'zukhov', 'zukov', 'zulu', 'zuniga', 'zurich', 'zuth', 'zuwarrior', 'zwick', 'â', 'â\\x80\\x93', 'â\\x80\\x98obsoleteâ\\x80\\x99', 'â\\x82¤250000', 'â\\x96', 'â\\x97', 'â£1', 'â¨10000', 'â¨jurassik', 'â¨sabretooth2002â¨bi', 'â®', 'ã\\x8axtase']\n"
          ],
          "name": "stdout"
        }
      ]
    },
    {
      "cell_type": "code",
      "metadata": {
        "id": "CHN0hQV_ElOL",
        "colab_type": "code",
        "outputId": "328cd893-9d8e-401b-881e-2f86d3a2a1a6",
        "colab": {
          "base_uri": "https://localhost:8080/",
          "height": 249
        }
      },
      "source": [
        "reviews_bow = bow_transformer.transform(movies['review'][:1000])\n",
        "bow = pd.DataFrame(reviews_bow.toarray())\n",
        "bow.head()"
      ],
      "execution_count": 0,
      "outputs": [
        {
          "output_type": "execute_result",
          "data": {
            "text/html": [
              "<div>\n",
              "<style scoped>\n",
              "    .dataframe tbody tr th:only-of-type {\n",
              "        vertical-align: middle;\n",
              "    }\n",
              "\n",
              "    .dataframe tbody tr th {\n",
              "        vertical-align: top;\n",
              "    }\n",
              "\n",
              "    .dataframe thead th {\n",
              "        text-align: right;\n",
              "    }\n",
              "</style>\n",
              "<table border=\"1\" class=\"dataframe\">\n",
              "  <thead>\n",
              "    <tr style=\"text-align: right;\">\n",
              "      <th></th>\n",
              "      <th>0</th>\n",
              "      <th>1</th>\n",
              "      <th>2</th>\n",
              "      <th>3</th>\n",
              "      <th>4</th>\n",
              "      <th>5</th>\n",
              "      <th>6</th>\n",
              "      <th>7</th>\n",
              "      <th>8</th>\n",
              "      <th>9</th>\n",
              "      <th>10</th>\n",
              "      <th>11</th>\n",
              "      <th>12</th>\n",
              "      <th>13</th>\n",
              "      <th>14</th>\n",
              "      <th>15</th>\n",
              "      <th>16</th>\n",
              "      <th>17</th>\n",
              "      <th>18</th>\n",
              "      <th>19</th>\n",
              "      <th>20</th>\n",
              "      <th>21</th>\n",
              "      <th>22</th>\n",
              "      <th>23</th>\n",
              "      <th>24</th>\n",
              "      <th>25</th>\n",
              "      <th>26</th>\n",
              "      <th>27</th>\n",
              "      <th>28</th>\n",
              "      <th>29</th>\n",
              "      <th>30</th>\n",
              "      <th>31</th>\n",
              "      <th>32</th>\n",
              "      <th>33</th>\n",
              "      <th>34</th>\n",
              "      <th>35</th>\n",
              "      <th>36</th>\n",
              "      <th>37</th>\n",
              "      <th>38</th>\n",
              "      <th>39</th>\n",
              "      <th>...</th>\n",
              "      <th>15531</th>\n",
              "      <th>15532</th>\n",
              "      <th>15533</th>\n",
              "      <th>15534</th>\n",
              "      <th>15535</th>\n",
              "      <th>15536</th>\n",
              "      <th>15537</th>\n",
              "      <th>15538</th>\n",
              "      <th>15539</th>\n",
              "      <th>15540</th>\n",
              "      <th>15541</th>\n",
              "      <th>15542</th>\n",
              "      <th>15543</th>\n",
              "      <th>15544</th>\n",
              "      <th>15545</th>\n",
              "      <th>15546</th>\n",
              "      <th>15547</th>\n",
              "      <th>15548</th>\n",
              "      <th>15549</th>\n",
              "      <th>15550</th>\n",
              "      <th>15551</th>\n",
              "      <th>15552</th>\n",
              "      <th>15553</th>\n",
              "      <th>15554</th>\n",
              "      <th>15555</th>\n",
              "      <th>15556</th>\n",
              "      <th>15557</th>\n",
              "      <th>15558</th>\n",
              "      <th>15559</th>\n",
              "      <th>15560</th>\n",
              "      <th>15561</th>\n",
              "      <th>15562</th>\n",
              "      <th>15563</th>\n",
              "      <th>15564</th>\n",
              "      <th>15565</th>\n",
              "      <th>15566</th>\n",
              "      <th>15567</th>\n",
              "      <th>15568</th>\n",
              "      <th>15569</th>\n",
              "      <th>15570</th>\n",
              "    </tr>\n",
              "  </thead>\n",
              "  <tbody>\n",
              "    <tr>\n",
              "      <th>0</th>\n",
              "      <td>0</td>\n",
              "      <td>0</td>\n",
              "      <td>0</td>\n",
              "      <td>0</td>\n",
              "      <td>0</td>\n",
              "      <td>0</td>\n",
              "      <td>0</td>\n",
              "      <td>0</td>\n",
              "      <td>0</td>\n",
              "      <td>0</td>\n",
              "      <td>0</td>\n",
              "      <td>0</td>\n",
              "      <td>0</td>\n",
              "      <td>0</td>\n",
              "      <td>0</td>\n",
              "      <td>0</td>\n",
              "      <td>0</td>\n",
              "      <td>0</td>\n",
              "      <td>0</td>\n",
              "      <td>0</td>\n",
              "      <td>0</td>\n",
              "      <td>0</td>\n",
              "      <td>0</td>\n",
              "      <td>0</td>\n",
              "      <td>0</td>\n",
              "      <td>0</td>\n",
              "      <td>0</td>\n",
              "      <td>0</td>\n",
              "      <td>0</td>\n",
              "      <td>0</td>\n",
              "      <td>0</td>\n",
              "      <td>0</td>\n",
              "      <td>0</td>\n",
              "      <td>0</td>\n",
              "      <td>0</td>\n",
              "      <td>0</td>\n",
              "      <td>0</td>\n",
              "      <td>0</td>\n",
              "      <td>0</td>\n",
              "      <td>0</td>\n",
              "      <td>...</td>\n",
              "      <td>0</td>\n",
              "      <td>0</td>\n",
              "      <td>0</td>\n",
              "      <td>0</td>\n",
              "      <td>0</td>\n",
              "      <td>0</td>\n",
              "      <td>0</td>\n",
              "      <td>0</td>\n",
              "      <td>0</td>\n",
              "      <td>0</td>\n",
              "      <td>0</td>\n",
              "      <td>0</td>\n",
              "      <td>0</td>\n",
              "      <td>0</td>\n",
              "      <td>0</td>\n",
              "      <td>0</td>\n",
              "      <td>0</td>\n",
              "      <td>0</td>\n",
              "      <td>0</td>\n",
              "      <td>0</td>\n",
              "      <td>0</td>\n",
              "      <td>0</td>\n",
              "      <td>0</td>\n",
              "      <td>0</td>\n",
              "      <td>0</td>\n",
              "      <td>0</td>\n",
              "      <td>0</td>\n",
              "      <td>0</td>\n",
              "      <td>0</td>\n",
              "      <td>0</td>\n",
              "      <td>0</td>\n",
              "      <td>0</td>\n",
              "      <td>0</td>\n",
              "      <td>0</td>\n",
              "      <td>0</td>\n",
              "      <td>0</td>\n",
              "      <td>0</td>\n",
              "      <td>0</td>\n",
              "      <td>0</td>\n",
              "      <td>0</td>\n",
              "    </tr>\n",
              "    <tr>\n",
              "      <th>1</th>\n",
              "      <td>0</td>\n",
              "      <td>0</td>\n",
              "      <td>0</td>\n",
              "      <td>0</td>\n",
              "      <td>0</td>\n",
              "      <td>0</td>\n",
              "      <td>0</td>\n",
              "      <td>0</td>\n",
              "      <td>0</td>\n",
              "      <td>0</td>\n",
              "      <td>0</td>\n",
              "      <td>0</td>\n",
              "      <td>0</td>\n",
              "      <td>0</td>\n",
              "      <td>0</td>\n",
              "      <td>0</td>\n",
              "      <td>0</td>\n",
              "      <td>0</td>\n",
              "      <td>0</td>\n",
              "      <td>0</td>\n",
              "      <td>0</td>\n",
              "      <td>0</td>\n",
              "      <td>0</td>\n",
              "      <td>0</td>\n",
              "      <td>0</td>\n",
              "      <td>0</td>\n",
              "      <td>0</td>\n",
              "      <td>0</td>\n",
              "      <td>0</td>\n",
              "      <td>0</td>\n",
              "      <td>0</td>\n",
              "      <td>0</td>\n",
              "      <td>0</td>\n",
              "      <td>0</td>\n",
              "      <td>0</td>\n",
              "      <td>0</td>\n",
              "      <td>0</td>\n",
              "      <td>0</td>\n",
              "      <td>0</td>\n",
              "      <td>0</td>\n",
              "      <td>...</td>\n",
              "      <td>0</td>\n",
              "      <td>0</td>\n",
              "      <td>0</td>\n",
              "      <td>0</td>\n",
              "      <td>0</td>\n",
              "      <td>0</td>\n",
              "      <td>0</td>\n",
              "      <td>0</td>\n",
              "      <td>0</td>\n",
              "      <td>0</td>\n",
              "      <td>0</td>\n",
              "      <td>0</td>\n",
              "      <td>0</td>\n",
              "      <td>0</td>\n",
              "      <td>0</td>\n",
              "      <td>0</td>\n",
              "      <td>0</td>\n",
              "      <td>0</td>\n",
              "      <td>0</td>\n",
              "      <td>0</td>\n",
              "      <td>0</td>\n",
              "      <td>0</td>\n",
              "      <td>0</td>\n",
              "      <td>0</td>\n",
              "      <td>0</td>\n",
              "      <td>0</td>\n",
              "      <td>0</td>\n",
              "      <td>0</td>\n",
              "      <td>0</td>\n",
              "      <td>0</td>\n",
              "      <td>0</td>\n",
              "      <td>0</td>\n",
              "      <td>0</td>\n",
              "      <td>0</td>\n",
              "      <td>0</td>\n",
              "      <td>0</td>\n",
              "      <td>0</td>\n",
              "      <td>0</td>\n",
              "      <td>0</td>\n",
              "      <td>0</td>\n",
              "    </tr>\n",
              "    <tr>\n",
              "      <th>2</th>\n",
              "      <td>0</td>\n",
              "      <td>0</td>\n",
              "      <td>0</td>\n",
              "      <td>0</td>\n",
              "      <td>0</td>\n",
              "      <td>0</td>\n",
              "      <td>0</td>\n",
              "      <td>0</td>\n",
              "      <td>0</td>\n",
              "      <td>0</td>\n",
              "      <td>0</td>\n",
              "      <td>0</td>\n",
              "      <td>0</td>\n",
              "      <td>0</td>\n",
              "      <td>0</td>\n",
              "      <td>0</td>\n",
              "      <td>0</td>\n",
              "      <td>0</td>\n",
              "      <td>0</td>\n",
              "      <td>0</td>\n",
              "      <td>0</td>\n",
              "      <td>0</td>\n",
              "      <td>0</td>\n",
              "      <td>0</td>\n",
              "      <td>0</td>\n",
              "      <td>0</td>\n",
              "      <td>0</td>\n",
              "      <td>0</td>\n",
              "      <td>0</td>\n",
              "      <td>0</td>\n",
              "      <td>0</td>\n",
              "      <td>0</td>\n",
              "      <td>0</td>\n",
              "      <td>0</td>\n",
              "      <td>0</td>\n",
              "      <td>0</td>\n",
              "      <td>0</td>\n",
              "      <td>0</td>\n",
              "      <td>0</td>\n",
              "      <td>0</td>\n",
              "      <td>...</td>\n",
              "      <td>0</td>\n",
              "      <td>0</td>\n",
              "      <td>0</td>\n",
              "      <td>0</td>\n",
              "      <td>0</td>\n",
              "      <td>0</td>\n",
              "      <td>0</td>\n",
              "      <td>0</td>\n",
              "      <td>0</td>\n",
              "      <td>0</td>\n",
              "      <td>0</td>\n",
              "      <td>0</td>\n",
              "      <td>0</td>\n",
              "      <td>0</td>\n",
              "      <td>0</td>\n",
              "      <td>0</td>\n",
              "      <td>0</td>\n",
              "      <td>0</td>\n",
              "      <td>0</td>\n",
              "      <td>0</td>\n",
              "      <td>0</td>\n",
              "      <td>0</td>\n",
              "      <td>0</td>\n",
              "      <td>0</td>\n",
              "      <td>0</td>\n",
              "      <td>0</td>\n",
              "      <td>0</td>\n",
              "      <td>0</td>\n",
              "      <td>0</td>\n",
              "      <td>0</td>\n",
              "      <td>0</td>\n",
              "      <td>0</td>\n",
              "      <td>0</td>\n",
              "      <td>0</td>\n",
              "      <td>0</td>\n",
              "      <td>1</td>\n",
              "      <td>1</td>\n",
              "      <td>1</td>\n",
              "      <td>0</td>\n",
              "      <td>0</td>\n",
              "    </tr>\n",
              "    <tr>\n",
              "      <th>3</th>\n",
              "      <td>0</td>\n",
              "      <td>0</td>\n",
              "      <td>0</td>\n",
              "      <td>0</td>\n",
              "      <td>0</td>\n",
              "      <td>0</td>\n",
              "      <td>0</td>\n",
              "      <td>0</td>\n",
              "      <td>0</td>\n",
              "      <td>0</td>\n",
              "      <td>0</td>\n",
              "      <td>0</td>\n",
              "      <td>0</td>\n",
              "      <td>0</td>\n",
              "      <td>0</td>\n",
              "      <td>0</td>\n",
              "      <td>0</td>\n",
              "      <td>0</td>\n",
              "      <td>0</td>\n",
              "      <td>0</td>\n",
              "      <td>0</td>\n",
              "      <td>0</td>\n",
              "      <td>0</td>\n",
              "      <td>0</td>\n",
              "      <td>0</td>\n",
              "      <td>0</td>\n",
              "      <td>0</td>\n",
              "      <td>0</td>\n",
              "      <td>0</td>\n",
              "      <td>0</td>\n",
              "      <td>0</td>\n",
              "      <td>0</td>\n",
              "      <td>0</td>\n",
              "      <td>0</td>\n",
              "      <td>0</td>\n",
              "      <td>0</td>\n",
              "      <td>0</td>\n",
              "      <td>0</td>\n",
              "      <td>0</td>\n",
              "      <td>0</td>\n",
              "      <td>...</td>\n",
              "      <td>0</td>\n",
              "      <td>0</td>\n",
              "      <td>0</td>\n",
              "      <td>0</td>\n",
              "      <td>0</td>\n",
              "      <td>0</td>\n",
              "      <td>0</td>\n",
              "      <td>0</td>\n",
              "      <td>0</td>\n",
              "      <td>0</td>\n",
              "      <td>0</td>\n",
              "      <td>0</td>\n",
              "      <td>0</td>\n",
              "      <td>0</td>\n",
              "      <td>0</td>\n",
              "      <td>0</td>\n",
              "      <td>0</td>\n",
              "      <td>0</td>\n",
              "      <td>0</td>\n",
              "      <td>0</td>\n",
              "      <td>0</td>\n",
              "      <td>0</td>\n",
              "      <td>0</td>\n",
              "      <td>0</td>\n",
              "      <td>0</td>\n",
              "      <td>0</td>\n",
              "      <td>0</td>\n",
              "      <td>0</td>\n",
              "      <td>0</td>\n",
              "      <td>0</td>\n",
              "      <td>0</td>\n",
              "      <td>0</td>\n",
              "      <td>0</td>\n",
              "      <td>0</td>\n",
              "      <td>0</td>\n",
              "      <td>0</td>\n",
              "      <td>0</td>\n",
              "      <td>0</td>\n",
              "      <td>0</td>\n",
              "      <td>0</td>\n",
              "    </tr>\n",
              "    <tr>\n",
              "      <th>4</th>\n",
              "      <td>0</td>\n",
              "      <td>0</td>\n",
              "      <td>0</td>\n",
              "      <td>0</td>\n",
              "      <td>0</td>\n",
              "      <td>0</td>\n",
              "      <td>0</td>\n",
              "      <td>0</td>\n",
              "      <td>0</td>\n",
              "      <td>0</td>\n",
              "      <td>0</td>\n",
              "      <td>0</td>\n",
              "      <td>0</td>\n",
              "      <td>0</td>\n",
              "      <td>0</td>\n",
              "      <td>0</td>\n",
              "      <td>0</td>\n",
              "      <td>0</td>\n",
              "      <td>0</td>\n",
              "      <td>0</td>\n",
              "      <td>0</td>\n",
              "      <td>0</td>\n",
              "      <td>0</td>\n",
              "      <td>0</td>\n",
              "      <td>0</td>\n",
              "      <td>0</td>\n",
              "      <td>0</td>\n",
              "      <td>0</td>\n",
              "      <td>0</td>\n",
              "      <td>0</td>\n",
              "      <td>0</td>\n",
              "      <td>0</td>\n",
              "      <td>0</td>\n",
              "      <td>0</td>\n",
              "      <td>0</td>\n",
              "      <td>0</td>\n",
              "      <td>0</td>\n",
              "      <td>0</td>\n",
              "      <td>0</td>\n",
              "      <td>0</td>\n",
              "      <td>...</td>\n",
              "      <td>0</td>\n",
              "      <td>0</td>\n",
              "      <td>0</td>\n",
              "      <td>0</td>\n",
              "      <td>0</td>\n",
              "      <td>0</td>\n",
              "      <td>0</td>\n",
              "      <td>0</td>\n",
              "      <td>0</td>\n",
              "      <td>0</td>\n",
              "      <td>0</td>\n",
              "      <td>0</td>\n",
              "      <td>0</td>\n",
              "      <td>0</td>\n",
              "      <td>0</td>\n",
              "      <td>0</td>\n",
              "      <td>0</td>\n",
              "      <td>0</td>\n",
              "      <td>0</td>\n",
              "      <td>0</td>\n",
              "      <td>0</td>\n",
              "      <td>0</td>\n",
              "      <td>0</td>\n",
              "      <td>0</td>\n",
              "      <td>0</td>\n",
              "      <td>0</td>\n",
              "      <td>0</td>\n",
              "      <td>0</td>\n",
              "      <td>0</td>\n",
              "      <td>0</td>\n",
              "      <td>0</td>\n",
              "      <td>0</td>\n",
              "      <td>2</td>\n",
              "      <td>0</td>\n",
              "      <td>0</td>\n",
              "      <td>0</td>\n",
              "      <td>0</td>\n",
              "      <td>0</td>\n",
              "      <td>0</td>\n",
              "      <td>0</td>\n",
              "    </tr>\n",
              "  </tbody>\n",
              "</table>\n",
              "<p>5 rows × 15571 columns</p>\n",
              "</div>"
            ],
            "text/plain": [
              "   0      1      2      3      4      ...  15566  15567  15568  15569  15570\n",
              "0      0      0      0      0      0  ...      0      0      0      0      0\n",
              "1      0      0      0      0      0  ...      0      0      0      0      0\n",
              "2      0      0      0      0      0  ...      1      1      1      0      0\n",
              "3      0      0      0      0      0  ...      0      0      0      0      0\n",
              "4      0      0      0      0      0  ...      0      0      0      0      0\n",
              "\n",
              "[5 rows x 15571 columns]"
            ]
          },
          "metadata": {
            "tags": []
          },
          "execution_count": 21
        }
      ]
    },
    {
      "cell_type": "markdown",
      "metadata": {
        "id": "7B74L7pqEUJJ",
        "colab_type": "text"
      },
      "source": [
        "**Example:**\n",
        "\n",
        "Consider a document containing 100 words wherein the word cat appears 3 times. \n",
        "\n",
        "The term frequency (i.e., tf) for cat is then (3 / 100) = 0.03. Now, assume we have 10 million documents and the word cat appears in one thousand of these. Then, the inverse document frequency (i.e., idf) is calculated as log(10,000,000 / 1,000) = 4. Thus, the Tf-idf weight is the product of these quantities: 0.03 * 4 = 0.12.\n",
        "____\n",
        "\n"
      ]
    },
    {
      "cell_type": "code",
      "metadata": {
        "id": "TM169FnPOkdw",
        "colab_type": "code",
        "outputId": "e0e0b72d-cd50-417b-8d4f-1c20308dd385",
        "colab": {
          "base_uri": "https://localhost:8080/",
          "height": 35
        }
      },
      "source": [
        "tfidf_transformer = TfidfTransformer().fit(reviews_bow)\n",
        "review_tfidf = tfidf_transformer.transform(reviews_bow)\n",
        "print(review_tfidf.shape)"
      ],
      "execution_count": 0,
      "outputs": [
        {
          "output_type": "stream",
          "text": [
            "(1000, 15571)\n"
          ],
          "name": "stdout"
        }
      ]
    },
    {
      "cell_type": "markdown",
      "metadata": {
        "id": "ZDaSMNz3WaCi",
        "colab_type": "text"
      },
      "source": [
        "###Training model using naive bayes"
      ]
    },
    {
      "cell_type": "markdown",
      "metadata": {
        "id": "aQORJcvBBMHj",
        "colab_type": "text"
      },
      "source": [
        "**Naive Bayes** algorithm can be defined as a supervised classification algorithm which is based on Bayes theorem with an assumption of independence among features.\n",
        "![alt text](https://www.globalsoftwaresupport.com/wp-content/uploads/2018/02/naivebayes8-1024x518.png)"
      ]
    },
    {
      "cell_type": "markdown",
      "metadata": {
        "id": "Azy95lbQH0YG",
        "colab_type": "text"
      },
      "source": [
        "Let's go ahead and see how we can do this in SciKit Learn:"
      ]
    },
    {
      "cell_type": "code",
      "metadata": {
        "id": "CnWrDgP6Q9Ky",
        "colab_type": "code",
        "colab": {}
      },
      "source": [
        "detect_model = MultinomialNB().fit(review_tfidf, movies['sentiment'][:1000])"
      ],
      "execution_count": 0,
      "outputs": []
    },
    {
      "cell_type": "code",
      "metadata": {
        "id": "KH5-RrmkRcV7",
        "colab_type": "code",
        "colab": {}
      },
      "source": [
        "\n",
        "all_predictions = detect_model.predict(review_tfidf)\n",
        "# print(all_predictions)"
      ],
      "execution_count": 0,
      "outputs": []
    },
    {
      "cell_type": "code",
      "metadata": {
        "id": "0RyO2KXCRpRv",
        "colab_type": "code",
        "outputId": "86de5b38-902d-4d29-e0e4-ca953929a5f8",
        "colab": {
          "base_uri": "https://localhost:8080/",
          "height": 177
        }
      },
      "source": [
        "print (classification_report(movies['sentiment'][:1000], all_predictions))"
      ],
      "execution_count": 0,
      "outputs": [
        {
          "output_type": "stream",
          "text": [
            "              precision    recall  f1-score   support\n",
            "\n",
            "           0       0.96      1.00      0.98       518\n",
            "           1       1.00      0.95      0.98       482\n",
            "\n",
            "    accuracy                           0.98      1000\n",
            "   macro avg       0.98      0.98      0.98      1000\n",
            "weighted avg       0.98      0.98      0.98      1000\n",
            "\n"
          ],
          "name": "stdout"
        }
      ]
    },
    {
      "cell_type": "code",
      "metadata": {
        "id": "QAjD6h6SRxMu",
        "colab_type": "code",
        "outputId": "aecb2d56-f95c-43dc-f584-69f5efe4e31a",
        "colab": {
          "base_uri": "https://localhost:8080/",
          "height": 35
        }
      },
      "source": [
        "X_train, X_test, y_train, y_test = \\\n",
        "train_test_split(movies['review'], movies['sentiment'], test_size=0.2)\n",
        "\n",
        "print(len(X_train), len(X_test), len(y_train) + len(y_test))"
      ],
      "execution_count": 7,
      "outputs": [
        {
          "output_type": "stream",
          "text": [
            "18000 4500 22500\n"
          ],
          "name": "stdout"
        }
      ]
    },
    {
      "cell_type": "markdown",
      "metadata": {
        "id": "WAwZb3jRWErN",
        "colab_type": "text"
      },
      "source": [
        "###Pipeline"
      ]
    },
    {
      "cell_type": "code",
      "metadata": {
        "id": "CgO7hhOOSUFu",
        "colab_type": "code",
        "colab": {}
      },
      "source": [
        "from sklearn.pipeline import Pipeline\n",
        "\n",
        "pipeline = Pipeline([\n",
        "    ('bow', CountVectorizer(analyzer=text_process)),  # strings to token integer counts\n",
        "    ('tfidf', TfidfTransformer()),  # integer counts to weighted TF-IDF scores\n",
        "    ('classifier', MultinomialNB()),  # train on TF-IDF vectors w/ Naive Bayes classifier\n",
        "])"
      ],
      "execution_count": 0,
      "outputs": []
    },
    {
      "cell_type": "code",
      "metadata": {
        "id": "pDGyQSqmSdZN",
        "colab_type": "code",
        "outputId": "4bdc47b2-d243-4536-b656-12ca66f59b02",
        "colab": {
          "base_uri": "https://localhost:8080/",
          "height": 319
        }
      },
      "source": [
        "pipeline.fit(movies['review'],movies['sentiment'])"
      ],
      "execution_count": 23,
      "outputs": [
        {
          "output_type": "execute_result",
          "data": {
            "text/plain": [
              "Pipeline(memory=None,\n",
              "         steps=[('bow',\n",
              "                 CountVectorizer(analyzer=<function text_process at 0x7fcb0fc4ed90>,\n",
              "                                 binary=False, decode_error='strict',\n",
              "                                 dtype=<class 'numpy.int64'>, encoding='utf-8',\n",
              "                                 input='content', lowercase=True, max_df=1.0,\n",
              "                                 max_features=None, min_df=1,\n",
              "                                 ngram_range=(1, 1), preprocessor=None,\n",
              "                                 stop_words=None, strip_accents=None,\n",
              "                                 token_pattern='(?u)\\\\b\\\\w\\\\w+\\\\b',\n",
              "                                 tokenizer=None, vocabulary=None)),\n",
              "                ('tfidf',\n",
              "                 TfidfTransformer(norm='l2', smooth_idf=True,\n",
              "                                  sublinear_tf=False, use_idf=True)),\n",
              "                ('classifier',\n",
              "                 MultinomialNB(alpha=1.0, class_prior=None, fit_prior=True))],\n",
              "         verbose=False)"
            ]
          },
          "metadata": {
            "tags": []
          },
          "execution_count": 23
        }
      ]
    },
    {
      "cell_type": "code",
      "metadata": {
        "id": "axEkMni-dDyg",
        "colab_type": "code",
        "colab": {
          "base_uri": "https://localhost:8080/",
          "height": 411
        },
        "outputId": "96e49a22-576f-43ea-fbe0-647a48cbdd45"
      },
      "source": [
        "m_test"
      ],
      "execution_count": 25,
      "outputs": [
        {
          "output_type": "execute_result",
          "data": {
            "text/html": [
              "<div>\n",
              "<style scoped>\n",
              "    .dataframe tbody tr th:only-of-type {\n",
              "        vertical-align: middle;\n",
              "    }\n",
              "\n",
              "    .dataframe tbody tr th {\n",
              "        vertical-align: top;\n",
              "    }\n",
              "\n",
              "    .dataframe thead th {\n",
              "        text-align: right;\n",
              "    }\n",
              "</style>\n",
              "<table border=\"1\" class=\"dataframe\">\n",
              "  <thead>\n",
              "    <tr style=\"text-align: right;\">\n",
              "      <th></th>\n",
              "      <th>id</th>\n",
              "      <th>review</th>\n",
              "    </tr>\n",
              "  </thead>\n",
              "  <tbody>\n",
              "    <tr>\n",
              "      <th>0</th>\n",
              "      <td>10633_1</td>\n",
              "      <td>I watched this video at a friend's house. I'm ...</td>\n",
              "    </tr>\n",
              "    <tr>\n",
              "      <th>1</th>\n",
              "      <td>4489_1</td>\n",
              "      <td>`The Matrix' was an exciting summer blockbuste...</td>\n",
              "    </tr>\n",
              "    <tr>\n",
              "      <th>2</th>\n",
              "      <td>3304_10</td>\n",
              "      <td>This movie is one among the very few Indian mo...</td>\n",
              "    </tr>\n",
              "    <tr>\n",
              "      <th>3</th>\n",
              "      <td>3350_3</td>\n",
              "      <td>The script for this movie was probably found i...</td>\n",
              "    </tr>\n",
              "    <tr>\n",
              "      <th>4</th>\n",
              "      <td>1119_1</td>\n",
              "      <td>Even if this film was allegedly a joke in resp...</td>\n",
              "    </tr>\n",
              "    <tr>\n",
              "      <th>...</th>\n",
              "      <td>...</td>\n",
              "      <td>...</td>\n",
              "    </tr>\n",
              "    <tr>\n",
              "      <th>2495</th>\n",
              "      <td>1065_10</td>\n",
              "      <td>Dark Angel is a futuristic sci-fi series, set ...</td>\n",
              "    </tr>\n",
              "    <tr>\n",
              "      <th>2496</th>\n",
              "      <td>7261_3</td>\n",
              "      <td>This British-Spanish co-production is one of t...</td>\n",
              "    </tr>\n",
              "    <tr>\n",
              "      <th>2497</th>\n",
              "      <td>11075_10</td>\n",
              "      <td>Having read the reviews for this film, I under...</td>\n",
              "    </tr>\n",
              "    <tr>\n",
              "      <th>2498</th>\n",
              "      <td>2041_2</td>\n",
              "      <td>Well I'll start with the good points. The movi...</td>\n",
              "    </tr>\n",
              "    <tr>\n",
              "      <th>2499</th>\n",
              "      <td>1988_9</td>\n",
              "      <td>First off, I'd like to make a correction on an...</td>\n",
              "    </tr>\n",
              "  </tbody>\n",
              "</table>\n",
              "<p>2500 rows × 2 columns</p>\n",
              "</div>"
            ],
            "text/plain": [
              "            id                                             review\n",
              "0      10633_1  I watched this video at a friend's house. I'm ...\n",
              "1       4489_1  `The Matrix' was an exciting summer blockbuste...\n",
              "2      3304_10  This movie is one among the very few Indian mo...\n",
              "3       3350_3  The script for this movie was probably found i...\n",
              "4       1119_1  Even if this film was allegedly a joke in resp...\n",
              "...        ...                                                ...\n",
              "2495   1065_10  Dark Angel is a futuristic sci-fi series, set ...\n",
              "2496    7261_3  This British-Spanish co-production is one of t...\n",
              "2497  11075_10  Having read the reviews for this film, I under...\n",
              "2498    2041_2  Well I'll start with the good points. The movi...\n",
              "2499    1988_9  First off, I'd like to make a correction on an...\n",
              "\n",
              "[2500 rows x 2 columns]"
            ]
          },
          "metadata": {
            "tags": []
          },
          "execution_count": 25
        }
      ]
    },
    {
      "cell_type": "code",
      "metadata": {
        "id": "iitcibboSmk5",
        "colab_type": "code",
        "colab": {}
      },
      "source": [
        "predictions = pipeline.predict(m_test['review'])\n",
        "# print(classification_report(predictions,m_test['sentiment']))"
      ],
      "execution_count": 0,
      "outputs": []
    },
    {
      "cell_type": "code",
      "metadata": {
        "id": "SDrDklsQowW-",
        "colab_type": "code",
        "colab": {
          "base_uri": "https://localhost:8080/",
          "height": 35
        },
        "outputId": "46658a42-4c60-4c1e-e98b-312339b0dcfb"
      },
      "source": [
        "predictions"
      ],
      "execution_count": 29,
      "outputs": [
        {
          "output_type": "execute_result",
          "data": {
            "text/plain": [
              "array([0, 0, 1, ..., 0, 0, 1])"
            ]
          },
          "metadata": {
            "tags": []
          },
          "execution_count": 29
        }
      ]
    },
    {
      "cell_type": "code",
      "metadata": {
        "id": "hqVp6sVVeOvb",
        "colab_type": "code",
        "colab": {}
      },
      "source": [
        "m_test['sentiment'] = pd.DataFrame(predictions) "
      ],
      "execution_count": 0,
      "outputs": []
    },
    {
      "cell_type": "code",
      "metadata": {
        "id": "TYreHqXHdlcd",
        "colab_type": "code",
        "colab": {}
      },
      "source": [
        "\n",
        "from google.colab import files\n",
        "m_test.to_csv('thomas.csv',index=False)\n",
        "files.download('thomas.csv')"
      ],
      "execution_count": 0,
      "outputs": []
    },
    {
      "cell_type": "code",
      "metadata": {
        "id": "Y9YeVtr8ebPt",
        "colab_type": "code",
        "colab": {}
      },
      "source": [
        ""
      ],
      "execution_count": 0,
      "outputs": []
    }
  ]
}